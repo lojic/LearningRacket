{
 "cells": [
  {
   "cell_type": "code",
   "execution_count": 1,
   "id": "8c28071c",
   "metadata": {},
   "outputs": [],
   "source": [
    "#lang iracket/lang #:require racket\n",
    "(require \"../advent.rkt\")"
   ]
  },
  {
   "cell_type": "markdown",
   "id": "66843213",
   "metadata": {},
   "source": [
    "I always enjoy recursive list processing in Racket :) Here's our input today:\n",
    "\n",
    "```\n",
    "Card 1: 41 48 83 86 17 | 83 86  6 31 17  9 48 53\n",
    "Card 2: 13 32 20 16 61 | 61 30 68 82 17 32 24 19\n",
    "Card 3:  1 21 53 59 44 | 69 82 63 72 16 21 14  1\n",
    "Card 4: 41 92 73 84 69 | 59 84 76 51 58  5 54 83\n",
    "Card 5: 87 83 26 28 32 | 88 30 70 12 93 22 82 36\n",
    "Card 6: 31 18 13 56 72 | 74 77 10 23 35 67 36 11\n",
    "```\n",
    "\n",
    "For each card, the numbers before the `|` are \"winning\" numbers. The numbers after the `|` are \"our\" numbers. Our goal is to obtain a list where each element is the number indicating how many of \"our\" numbers matched a \"winning\" number. First let's get the raw input lines after splitting on `\" | \"`:"
   ]
  },
  {
   "cell_type": "code",
   "execution_count": 2,
   "id": "a24c39b0",
   "metadata": {},
   "outputs": [
    {
     "name": "stdout",
     "output_type": "stream",
     "text": [
      "'(\"Card 1: 41 48 83 86 17\" \"83 86  6 31 17  9 48 53\")\n",
      "'(\"Card 2: 13 32 20 16 61\" \"61 30 68 82 17 32 24 19\")\n",
      "'(\"Card 3:  1 21 53 59 44\" \"69 82 63 72 16 21 14  1\")\n",
      "'(\"Card 4: 41 92 73 84 69\" \"59 84 76 51 58  5 54 83\")\n",
      "'(\"Card 5: 87 83 26 28 32\" \"88 30 70 12 93 22 82 36\")\n",
      "'(\"Card 6: 31 18 13 56 72\" \"74 77 10 23 35 67 36 11\")\n"
     ]
    }
   ],
   "source": [
    "(define lines (parse-aoc 4 (λ (s) (string-split s \" | \")) #:print-sample #f))\n",
    "\n",
    "(for ([ line lines])\n",
    "    (println line))"
   ]
  },
  {
   "cell_type": "markdown",
   "id": "c971ff1d",
   "metadata": {},
   "source": [
    "To reduce those lines to a single number indicating the number of matches, we'll:\n",
    "\n",
    "1. Split each of the two strings on white space\n",
    "2. For the first string, drop the 1st two strings, since we don't need them\n",
    "3. Compute the set intersection of the two resulting lists\n",
    "4. Count the number of elements in the set intersection"
   ]
  },
  {
   "cell_type": "code",
   "execution_count": 3,
   "id": "4dc2cb73",
   "metadata": {
    "scrolled": true
   },
   "outputs": [
    {
     "data": {
      "text/html": [
       "<code>'(4 2 2 1 0 0)</code>"
      ],
      "text/plain": [
       "'(4 2 2 1 0 0)"
      ]
     },
     "execution_count": 3,
     "metadata": {},
     "output_type": "execute_result"
    }
   ],
   "source": [
    "(define cards (map (λ (l)\n",
    "                     (set-count (set-intersect (drop (string-split (car l)) 2)\n",
    "                                               (string-split (cadr l)))))\n",
    "                   lines))\n",
    "\n",
    "cards"
   ]
  },
  {
   "cell_type": "markdown",
   "id": "f0820cb3",
   "metadata": {},
   "source": [
    "Now we can solve the parts. For **Part 1**:\n",
    "\n",
    "1. Filter the cards to only the ones with positive values\n",
    "2. For each of those, compute the score with `2 ^ (n-1)`\n",
    "3. Sum all of the scores"
   ]
  },
  {
   "cell_type": "code",
   "execution_count": 4,
   "id": "91e0e2ab",
   "metadata": {},
   "outputs": [
    {
     "data": {
      "text/html": [
       "<code>13</code>"
      ],
      "text/plain": [
       "13"
      ]
     },
     "execution_count": 4,
     "metadata": {},
     "output_type": "execute_result"
    }
   ],
   "source": [
    "(define (part1 cards)\n",
    "  (list-sum (map (λ (n) (expt 2 (sub1 n))) (filter positive? cards))))\n",
    "\n",
    "(part1 cards)"
   ]
  },
  {
   "cell_type": "markdown",
   "id": "0f6c9125",
   "metadata": {},
   "source": [
    "**Part 2** is a little more difficult, but lends itself to a straightforward recursive solution. We'll create a function that excepts `n` (the number of elements to process) and `cards` (a list of scores). The function simply sums two numbers - `n` and the sum of recursively calling itself for each of the sublists."
   ]
  },
  {
   "cell_type": "code",
   "execution_count": 5,
   "id": "e735e9ac",
   "metadata": {},
   "outputs": [
    {
     "data": {
      "text/html": [
       "<code>30</code>"
      ],
      "text/plain": [
       "30"
      ]
     },
     "execution_count": 5,
     "metadata": {},
     "output_type": "execute_result"
    }
   ],
   "source": [
    "(define (part2 n cards)\n",
    "  (+ n (let loop ([ n n ][ cards cards ][ total 0 ])\n",
    "         (cond [ (= n 0) total ]\n",
    "               [ else (let ([ sub-total (part2 (car cards) (cdr cards)) ])\n",
    "                        (loop (sub1 n) (cdr cards) (+ total sub-total))) ]))))\n",
    "\n",
    "(part2 (length cards) cards)"
   ]
  },
  {
   "cell_type": "markdown",
   "id": "ed4882a4",
   "metadata": {},
   "source": [
    "## Concluding Thoughts\n",
    "\n",
    "There are a couple of things I like about the **part 2** solution.\n",
    "\n",
    "**First**: the solution is functional i.e. there is no mutation involved. I've found that an immutable, functional solution is almost always easier to both create and reason about.\n",
    "\n",
    "**Second**: it's very efficient because once we create the initial list of **cards**, we're not allocating any additional data structures - we're simply traversing the same list repeatedly with calls to `cdr`, which returns the tail of the list via a pointer. The `part2` function takes about 20 ms on my computer."
   ]
  }
 ],
 "metadata": {
  "kernelspec": {
   "display_name": "Racket",
   "language": "racket",
   "name": "racket"
  },
  "language_info": {
   "codemirror_mode": "scheme",
   "file_extension": ".rkt",
   "mimetype": "text/x-racket",
   "name": "Racket",
   "pygments_lexer": "racket",
   "version": "8.8.0.5"
  }
 },
 "nbformat": 4,
 "nbformat_minor": 5
}
