{
 "cells": [
  {
   "cell_type": "code",
   "execution_count": 1,
   "id": "ca40e3b1",
   "metadata": {},
   "outputs": [],
   "source": [
    "#lang iracket/lang #:require racket\n",
    "(require \"../advent.rkt\")"
   ]
  },
  {
   "cell_type": "markdown",
   "id": "df53b2b7",
   "metadata": {},
   "source": [
    "I always enjoy recursive list processing in Racket :) Here's our input today:\n",
    "\n",
    "```\n",
    "Card 1: 41 48 83 86 17 | 83 86  6 31 17  9 48 53\n",
    "Card 2: 13 32 20 16 61 | 61 30 68 82 17 32 24 19\n",
    "Card 3:  1 21 53 59 44 | 69 82 63 72 16 21 14  1\n",
    "Card 4: 41 92 73 84 69 | 59 84 76 51 58  5 54 83\n",
    "Card 5: 87 83 26 28 32 | 88 30 70 12 93 22 82 36\n",
    "Card 6: 31 18 13 56 72 | 74 77 10 23 35 67 36 11\n",
    "```\n",
    "\n",
    "For each card, the numbers before the `|` are \"winning\" numbers. The numbers after the `|` are \"our\" numbers. Our goal is to obtain a list where each element is the number indicating how many of \"our\" numbers matched a \"winning\" number. First let's get the raw input lines after splitting on `\" | \"`:"
   ]
  },
  {
   "cell_type": "code",
   "execution_count": 14,
   "id": "b0eb3f0f",
   "metadata": {},
   "outputs": [
    {
     "name": "stdout",
     "output_type": "stream",
     "text": [
      "'(\"Card 1: 41 48 83 86 17\" \"83 86  6 31 17  9 48 53\")\n",
      "'(\"Card 2: 13 32 20 16 61\" \"61 30 68 82 17 32 24 19\")\n",
      "'(\"Card 3:  1 21 53 59 44\" \"69 82 63 72 16 21 14  1\")\n",
      "'(\"Card 4: 41 92 73 84 69\" \"59 84 76 51 58  5 54 83\")\n",
      "'(\"Card 5: 87 83 26 28 32\" \"88 30 70 12 93 22 82 36\")\n",
      "'(\"Card 6: 31 18 13 56 72\" \"74 77 10 23 35 67 36 11\")\n"
     ]
    }
   ],
   "source": [
    "(define lines (parse-aoc 4 (λ (s) (string-split s \" | \")) #:print-sample #f))\n",
    "\n",
    "(for ([ line lines])\n",
    "    (println line))"
   ]
  },
  {
   "cell_type": "markdown",
   "id": "d26db964",
   "metadata": {},
   "source": [
    "To reduce those lines to a single number indicating the number of matches, we'll:\n",
    "\n",
    "1. Split each of the two strings on white space\n",
    "2. For the first string, drop the 1st two strings, since we don't need them\n",
    "3. Compute the set intersection of the two resulting lists\n",
    "4. Count the number of elements in the set intersection"
   ]
  },
  {
   "cell_type": "code",
   "execution_count": 15,
   "id": "0456a6de",
   "metadata": {
    "scrolled": true
   },
   "outputs": [
    {
     "name": "stdout",
     "output_type": "stream",
     "text": [
      "4\n",
      "2\n",
      "2\n",
      "1\n",
      "0\n",
      "0\n"
     ]
    }
   ],
   "source": [
    "(define cards (map (λ (l)\n",
    "                     (set-count (set-intersect (drop (string-split (car l)) 2)\n",
    "                                               (string-split (cadr l)))))\n",
    "                   lines))\n",
    "\n",
    "(for ([ card cards ])\n",
    "    (println card))"
   ]
  },
  {
   "cell_type": "markdown",
   "id": "0e163833",
   "metadata": {},
   "source": [
    "Now we can solve the parts. For **Part 1**:\n",
    "\n",
    "1. Filter the cards to only the ones with positive values\n",
    "2. For each of those, compute the score with `2 ^ (n-1)`\n",
    "3. Sum all of the scores"
   ]
  },
  {
   "cell_type": "code",
   "execution_count": 16,
   "id": "7df867db",
   "metadata": {},
   "outputs": [
    {
     "data": {
      "text/html": [
       "<code>13</code>"
      ],
      "text/plain": [
       "13"
      ]
     },
     "execution_count": 16,
     "metadata": {},
     "output_type": "execute_result"
    }
   ],
   "source": [
    "(define (part1 cards)\n",
    "  (list-sum (map (λ (n) (expt 2 (sub1 n))) (filter positive? cards))))\n",
    "\n",
    "(part1 cards)"
   ]
  },
  {
   "cell_type": "markdown",
   "id": "e94fd3ac",
   "metadata": {},
   "source": [
    "**Part 2** is a little more difficult, but lends itself to a straightforward recursive solution. We'll create a function that excepts `n` (the number of elements to process) and `cards` (a list of scores). We'll have two cases, a base case, and a recursive case.\n",
    "\n",
    "1. The base case is when `n = 0`, in which case, we simply return 0\n",
    "2. For the recursive case, we just add up 2 numbers:\n",
    "   1. The number of elements to process, `n` *and*\n",
    "   2. The sum of recursively calling the function on each of the `n` sub lists"
   ]
  },
  {
   "cell_type": "code",
   "execution_count": 17,
   "id": "605809d0",
   "metadata": {},
   "outputs": [
    {
     "data": {
      "text/html": [
       "<code>30</code>"
      ],
      "text/plain": [
       "30"
      ]
     },
     "execution_count": 17,
     "metadata": {},
     "output_type": "execute_result"
    }
   ],
   "source": [
    "(define (part2 n cards)\n",
    "  (cond [ (= n 0) 0 ]\n",
    "        [ else (+ n (let loop ([ n n ][ cards cards ][ total 0 ])\n",
    "                      (cond [ (= n 0) total ]\n",
    "                            [ else (let ([ sub-total (part2 (car cards) (cdr cards)) ])\n",
    "                                     (loop (sub1 n) (cdr cards) (+ total sub-total))) ]))) ]))\n",
    "\n",
    "(part2 (length cards) cards)"
   ]
  }
 ],
 "metadata": {
  "kernelspec": {
   "display_name": "Racket",
   "language": "racket",
   "name": "racket"
  },
  "language_info": {
   "codemirror_mode": "scheme",
   "file_extension": ".rkt",
   "mimetype": "text/x-racket",
   "name": "Racket",
   "pygments_lexer": "racket",
   "version": "8.8.0.5"
  }
 },
 "nbformat": 4,
 "nbformat_minor": 5
}
