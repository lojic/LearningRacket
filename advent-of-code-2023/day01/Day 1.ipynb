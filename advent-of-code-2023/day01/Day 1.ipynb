{
 "cells": [
  {
   "cell_type": "markdown",
   "id": "50603d55",
   "metadata": {},
   "source": [
    "## Day 1\n",
    "For part 1, we're given data as follows (**Note:** in both data examples, intraline spaces are only for emphasis):\n",
    "\n",
    "**1** abc **2** <br>\n",
    "pqr **3** stu **8** vwx <br>\n",
    "a **1** b2c3d4e **5** f <br>\n",
    "treb **7** uchet <br>\n",
    "\n",
    "The task is to find the first and last numeric digit in each line, e.g. `1` and `2`, concatenate them together, e.g. `12`, and then sum all of those values.\n",
    "\n",
    "For part 2, we're given data as follows:\n",
    "\n",
    "**two** 1 **nine** <br>\n",
    "**eight** wo **three** <br>\n",
    "abc **one** 2 **three** xyz <br>\n",
    "x **two** ne3 **four** <br>\n",
    "**4** nineeightseven **2** <br>\n",
    "z **one** ight23 **4** <br>\n",
    "**7** pqrst **six** teen <br>\n",
    "\n",
    "The task is identical, but now instead of only numeric digits, we may need to convert a word, such as `two`, to a numeric digit."
   ]
  },
  {
   "cell_type": "code",
   "execution_count": 1,
   "id": "521d742b",
   "metadata": {},
   "outputs": [],
   "source": [
    "#lang iracket/lang #:require racket\n",
    "(require \"../advent.rkt\" threading)"
   ]
  },
  {
   "cell_type": "markdown",
   "id": "6f149f88",
   "metadata": {},
   "source": [
    "Let's parse the input into one string per line:"
   ]
  },
  {
   "cell_type": "code",
   "execution_count": 2,
   "id": "c9f9c1c9",
   "metadata": {
    "scrolled": true
   },
   "outputs": [
    {
     "name": "stdout",
     "output_type": "stream",
     "text": [
      "----------------------------------------------------------------------------------------------------\n",
      "day01.txt -> 21295 chars, 1000 lines; first 3 lines; last 2 lines:\n",
      "----------------------------------------------------------------------------------------------------\n",
      "two934seven1\n",
      "8825eightknfv\n",
      "sevenoneqbfzntsix55\n",
      "...\n",
      "sixgtxr2fourrdkjg\n",
      "fivebxsevensixone872dlx\n",
      "----------------------------------------------------------------------------------------------------\n",
      "(parse 1) -> 1000 entries:\n",
      "----------------------------------------------------------------------------------------------------\n",
      "(\"two934seven1\" \"8825eightknfv\" \"sevenoneqbfzntsix55\" \"foursqpqvv192rd ... fivebxsevensixone872dlx\")\n",
      "----------------------------------------------------------------------------------------------------\n"
     ]
    }
   ],
   "source": [
    "(define in (parse-aoc 1))"
   ]
  },
  {
   "cell_type": "markdown",
   "id": "30a12d1f",
   "metadata": {},
   "source": [
    "Next, we'll define two lists. One to convert from characters of numeric digits to integers, and a second one to convert from words to integers:"
   ]
  },
  {
   "cell_type": "code",
   "execution_count": 3,
   "id": "af1453b5",
   "metadata": {},
   "outputs": [],
   "source": [
    "(define digits '((\"1\" . 1) (\"2\" . 2) (\"3\" . 3) (\"4\" . 4) (\"5\" . 5)\n",
    "                           (\"6\" . 6) (\"7\" . 7) (\"8\" . 8) (\"9\" . 9)))\n",
    "\n",
    "(define words '((\"one\" . 1) (\"two\" . 2) (\"three\" . 3) (\"four\" . 4) (\"five\" . 5)\n",
    "                            (\"six\" . 6) (\"seven\" . 7) (\"eight\" . 8) (\"nine\" . 9)))"
   ]
  },
  {
   "cell_type": "markdown",
   "id": "4f88994c",
   "metadata": {},
   "source": [
    "Most of the work will be done in the function, `find-digit`, which will scan through a string, either forward or backward, looking for a string that matches a digit or word from the above two lists. Here's the code with a couple example invocations:"
   ]
  },
  {
   "cell_type": "code",
   "execution_count": 4,
   "id": "b1b72d28",
   "metadata": {},
   "outputs": [
    {
     "data": {
      "text/html": [
       "<code>7</code>"
      ],
      "text/plain": [
       "7"
      ]
     },
     "execution_count": 4,
     "metadata": {},
     "output_type": "execute_result"
    }
   ],
   "source": [
    "(define (find-digit s pairs fix? beg end)\n",
    "  (let loop ([ p pairs ][ s s ])\n",
    "    (if (null? p)\n",
    "        (loop pairs (substring s (beg 0) (end (string-length s))))\n",
    "        (let ([ pair (car p) ])\n",
    "          (if (fix? s (car pair))\n",
    "              (cdr pair)\n",
    "              (loop (cdr p) s))))))\n",
    "\n",
    "(find-digit \"xyz7abc9d\" digits string-prefix? add1 identity)"
   ]
  },
  {
   "cell_type": "code",
   "execution_count": 5,
   "id": "c602c9c7",
   "metadata": {
    "scrolled": true
   },
   "outputs": [
    {
     "data": {
      "text/html": [
       "<code>9</code>"
      ],
      "text/plain": [
       "9"
      ]
     },
     "execution_count": 5,
     "metadata": {},
     "output_type": "execute_result"
    }
   ],
   "source": [
    "(find-digit \"xyz7abc9d\" digits string-suffix? identity sub1)"
   ]
  },
  {
   "cell_type": "code",
   "execution_count": 6,
   "id": "8b62c619",
   "metadata": {},
   "outputs": [
    {
     "data": {
      "text/html": [
       "<code>7</code>"
      ],
      "text/plain": [
       "7"
      ]
     },
     "execution_count": 6,
     "metadata": {},
     "output_type": "execute_result"
    }
   ],
   "source": [
    "(find-digit \"xysevenz7abc9d\" words string-prefix? add1 identity)"
   ]
  },
  {
   "cell_type": "markdown",
   "id": "98cfd00f",
   "metadata": {},
   "source": [
    "The **first** parameter `s` is the string to search. The **second** parameter `pairs` is a list of conversion pairs, where each pair contains the string to match and the integer value for that match. The **last three** parameters configure the function to either search forward, or backward. To search forward, we'll set `fix?` to Racket's `string-prefix?` function to look at successive prefixes of the string. To search backward, we'll use `string-suffix?`. The `beg` and `end` parameters configure the beginning and end of the substring we'll use for the next iteration. When searching forward, we'll increment the beginning of the string, and leave the end identical. Conversely, when searching backward, we'll leave the beginning identical, and decrement the end of the string.\n",
    "\n",
    "Let's define some convenience functions for finding the first or last digit:"
   ]
  },
  {
   "cell_type": "code",
   "execution_count": 7,
   "id": "49ff9560",
   "metadata": {},
   "outputs": [
    {
     "data": {
      "text/html": [
       "<code>7</code>"
      ],
      "text/plain": [
       "7"
      ]
     },
     "execution_count": 7,
     "metadata": {},
     "output_type": "execute_result"
    }
   ],
   "source": [
    "(define (find-first-digit s pairs)\n",
    "  (find-digit s pairs string-prefix? add1 identity))\n",
    "\n",
    "(define (find-last-digit s pairs)\n",
    "  (find-digit s pairs string-suffix? identity sub1))\n",
    "\n",
    "(find-first-digit \"xyeightz7abc9d\" digits)"
   ]
  },
  {
   "cell_type": "code",
   "execution_count": 8,
   "id": "37a53788",
   "metadata": {},
   "outputs": [
    {
     "data": {
      "text/html": [
       "<code>8</code>"
      ],
      "text/plain": [
       "8"
      ]
     },
     "execution_count": 8,
     "metadata": {},
     "output_type": "execute_result"
    }
   ],
   "source": [
    "(find-first-digit \"xyeightz7abc9d\" words)"
   ]
  },
  {
   "cell_type": "code",
   "execution_count": 9,
   "id": "38a2808f",
   "metadata": {},
   "outputs": [
    {
     "data": {
      "text/html": [
       "<code>9</code>"
      ],
      "text/plain": [
       "9"
      ]
     },
     "execution_count": 9,
     "metadata": {},
     "output_type": "execute_result"
    }
   ],
   "source": [
    "(find-last-digit \"xyeightz7abc9d\" digits)"
   ]
  },
  {
   "cell_type": "code",
   "execution_count": 10,
   "id": "1d5af217",
   "metadata": {},
   "outputs": [
    {
     "data": {
      "text/html": [
       "<code>8</code>"
      ],
      "text/plain": [
       "8"
      ]
     },
     "execution_count": 10,
     "metadata": {},
     "output_type": "execute_result"
    }
   ],
   "source": [
    "(find-last-digit \"xyeightz7abc9d\" words)"
   ]
  },
  {
   "cell_type": "code",
   "execution_count": 11,
   "id": "c4b8ba41",
   "metadata": {},
   "outputs": [
    {
     "data": {
      "text/html": [
       "<code>9</code>"
      ],
      "text/plain": [
       "9"
      ]
     },
     "execution_count": 11,
     "metadata": {},
     "output_type": "execute_result"
    }
   ],
   "source": [
    "(find-last-digit \"xyeightz7abc9d\" (append digits words))"
   ]
  },
  {
   "cell_type": "markdown",
   "id": "58e58b1b",
   "metadata": {},
   "source": [
    "Next we'll compute the \"calibration value\" for a line by finding the first and last digits, concatenate them, and compute their integer value:"
   ]
  },
  {
   "cell_type": "code",
   "execution_count": 12,
   "id": "2c464df2",
   "metadata": {},
   "outputs": [
    {
     "data": {
      "text/html": [
       "<code>79</code>"
      ],
      "text/plain": [
       "79"
      ]
     },
     "execution_count": 12,
     "metadata": {},
     "output_type": "execute_result"
    }
   ],
   "source": [
    "(define (calibration-value pairs s)\n",
    "  (+ (* 10 (find-first-digit s pairs))\n",
    "     (find-last-digit s pairs)))\n",
    "\n",
    "(calibration-value digits \"xyeightz7abc9d\")"
   ]
  },
  {
   "cell_type": "code",
   "execution_count": 13,
   "id": "c7bb2157",
   "metadata": {},
   "outputs": [
    {
     "data": {
      "text/html": [
       "<code>89</code>"
      ],
      "text/plain": [
       "89"
      ]
     },
     "execution_count": 13,
     "metadata": {},
     "output_type": "execute_result"
    }
   ],
   "source": [
    "(calibration-value (append digits words) \"xyeightz7abc9d\")"
   ]
  },
  {
   "cell_type": "markdown",
   "id": "b5909de4",
   "metadata": {},
   "source": [
    "The `solve` function will compute the calibration value for each line of the input and sum the results:"
   ]
  },
  {
   "cell_type": "code",
   "execution_count": 14,
   "id": "112ee696",
   "metadata": {},
   "outputs": [],
   "source": [
    "(define (solve pairs)\n",
    "  (list-sum (map (curry calibration-value pairs) in)))"
   ]
  },
  {
   "cell_type": "markdown",
   "id": "8c71d608",
   "metadata": {},
   "source": [
    "So, we can now solve both parts. They only differ in whether they consider only digits, or both digits and words:"
   ]
  },
  {
   "cell_type": "code",
   "execution_count": 15,
   "id": "cd07a00e",
   "metadata": {},
   "outputs": [
    {
     "data": {
      "text/html": [
       "<code>52974</code>"
      ],
      "text/plain": [
       "52974"
      ]
     },
     "execution_count": 15,
     "metadata": {},
     "output_type": "execute_result"
    }
   ],
   "source": [
    "(define (part1) (solve digits))\n",
    "\n",
    "(define (part2) (solve (append digits words)))\n",
    "\n",
    "(part1)"
   ]
  },
  {
   "cell_type": "code",
   "execution_count": 16,
   "id": "c004128c",
   "metadata": {},
   "outputs": [
    {
     "data": {
      "text/html": [
       "<code>53340</code>"
      ],
      "text/plain": [
       "53340"
      ]
     },
     "execution_count": 16,
     "metadata": {},
     "output_type": "execute_result"
    }
   ],
   "source": [
    "(part2)"
   ]
  }
 ],
 "metadata": {
  "kernelspec": {
   "display_name": "Racket",
   "language": "racket",
   "name": "racket"
  },
  "language_info": {
   "codemirror_mode": "scheme",
   "file_extension": ".rkt",
   "mimetype": "text/x-racket",
   "name": "Racket",
   "pygments_lexer": "racket",
   "version": "8.8.0.5"
  }
 },
 "nbformat": 4,
 "nbformat_minor": 5
}
