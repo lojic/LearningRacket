{
 "cells": [
  {
   "cell_type": "code",
   "execution_count": 1,
   "id": "6f4e5346",
   "metadata": {},
   "outputs": [],
   "source": [
    "#lang iracket/lang #:require racket\n",
    "(require \"../advent.rkt\")"
   ]
  },
  {
   "cell_type": "markdown",
   "id": "bacf056f",
   "metadata": {},
   "source": [
    "Day 7 involves simulating a card game. Our input looks like:\n",
    "\n",
    "```\n",
    "...\n",
    "8J833 494\n",
    "6AJT8 318\n",
    "AA4QQ 125\n",
    "62KK6 876\n",
    "7A7QK 241\n",
    "...\n",
    "```\n",
    "\n",
    "The left side is our `card` hand. The right side is our `bid` amount. As always, we begin with parsing. For our purposes of illustration, I'll skip the first 20 hands to get to a more interesting one with a J:"
   ]
  },
  {
   "cell_type": "code",
   "execution_count": 2,
   "id": "6b9b6cce",
   "metadata": {},
   "outputs": [
    {
     "data": {
      "text/html": [
       "<code>'((\"8J833\" \"494\") (\"6AJT8\" \"318\") (\"AA4QQ\" \"125\") (\"62KK6\" \"876\") (\"7A7QK\" \"241\"))</code>"
      ],
      "text/plain": [
       "'((\"8J833\" \"494\") (\"6AJT8\" \"318\") (\"AA4QQ\" \"125\") (\"62KK6\" \"876\") (\"7A7QK\" \"241\"))"
      ]
     },
     "execution_count": 2,
     "metadata": {},
     "output_type": "execute_result"
    }
   ],
   "source": [
    "(define lines (take (drop (parse-aoc 7 strings #:print-sample #f) 20) 5))\n",
    "\n",
    "lines"
   ]
  },
  {
   "cell_type": "markdown",
   "id": "3d09fb92",
   "metadata": {},
   "source": [
    "We'll `map` a parse function over this list of pairs. Let's build that function from the bottom up. First we'll need a function to translate the card symbols to a numeric value. This will need to be parameterized to handle Part 1 and Part 2 differently. For Part 1, a `J` has a value of `11`, between a `T` and a `Q`. For Part 2, a `J` is a wildcard with a value of `1`, the lowest card:"
   ]
  },
  {
   "cell_type": "code",
   "execution_count": 3,
   "id": "56feb4fb",
   "metadata": {},
   "outputs": [
    {
     "data": {
      "text/html": [
       "<code>11</code>"
      ],
      "text/plain": [
       "11"
      ]
     },
     "execution_count": 3,
     "metadata": {},
     "output_type": "execute_result"
    }
   ],
   "source": [
    "(define (translate part2? card)\n",
    "  (index-of (string->list (if part2? \"_J23456789T_QKA\" \"__23456789TJQKA\")) card))\n",
    "\n",
    "(translate #f #\\J)"
   ]
  },
  {
   "cell_type": "markdown",
   "id": "3a21722d",
   "metadata": {},
   "source": [
    "Let' parse the first hand of `8J833`"
   ]
  },
  {
   "cell_type": "code",
   "execution_count": 4,
   "id": "1e6a037a",
   "metadata": {},
   "outputs": [
    {
     "data": {
      "text/html": [
       "<code>'(8 11 8 3 3)</code>"
      ],
      "text/plain": [
       "'(8 11 8 3 3)"
      ]
     },
     "execution_count": 4,
     "metadata": {},
     "output_type": "execute_result"
    }
   ],
   "source": [
    "(define hand (map (curry translate #f) (string->list (car (car lines)))))\n",
    "\n",
    "hand ; J is worth 11"
   ]
  },
  {
   "cell_type": "markdown",
   "id": "3c2add4f",
   "metadata": {},
   "source": [
    "Or for Part 2:"
   ]
  },
  {
   "cell_type": "code",
   "execution_count": 5,
   "id": "161e2d80",
   "metadata": {},
   "outputs": [
    {
     "data": {
      "text/html": [
       "<code>'(8 1 8 3 3)</code>"
      ],
      "text/plain": [
       "'(8 1 8 3 3)"
      ]
     },
     "execution_count": 5,
     "metadata": {},
     "output_type": "execute_result"
    }
   ],
   "source": [
    "(define hand2 (map (curry translate #t) (string->list (car (car lines)))))\n",
    "\n",
    "hand2 ; J is worth 1"
   ]
  },
  {
   "cell_type": "markdown",
   "id": "d68df783",
   "metadata": {},
   "source": [
    "Next, we'll need to define our two part functions, because the parse function will delegate the work of ranking the hand to them. Our first step will be to group the cards and sort the groups by length, so we can determine the type of hand:"
   ]
  },
  {
   "cell_type": "code",
   "execution_count": 6,
   "id": "69a6c757",
   "metadata": {},
   "outputs": [
    {
     "data": {
      "text/html": [
       "<code>'(2 2 1)</code>"
      ],
      "text/plain": [
       "'(2 2 1)"
      ]
     },
     "execution_count": 6,
     "metadata": {},
     "output_type": "execute_result"
    }
   ],
   "source": [
    "(define groups (~> (group-by identity hand)\n",
    "                   (map length _)\n",
    "                   (sort _ >)))\n",
    "groups"
   ]
  },
  {
   "cell_type": "markdown",
   "id": "a5a6c34b",
   "metadata": {},
   "source": [
    "For Part 1, this shows we have two pair e.g. 2 identical cards, 2 identical cards and 1 other card. The final step for Part 1 is to match that pattern:"
   ]
  },
  {
   "cell_type": "code",
   "execution_count": 7,
   "id": "1fce98a9",
   "metadata": {},
   "outputs": [
    {
     "data": {
      "text/html": [
       "<code>3</code>"
      ],
      "text/plain": [
       "3"
      ]
     },
     "execution_count": 7,
     "metadata": {},
     "output_type": "execute_result"
    }
   ],
   "source": [
    "(match groups\n",
    "  [ '(5)         7 ]   ; Five of a kind\n",
    "  [ '(4 1)       6 ]   ; Four of a kind\n",
    "  [ '(3 2)       5 ]   ; Full house\n",
    "  [ '(3 1 1)     4 ]   ; Three of a kind\n",
    "  [ '(2 2 1)     3 ]   ; Two pair\n",
    "  [ '(2 1 1 1)   2 ]   ; One pair\n",
    "  [ '(1 1 1 1 1) 1 ])"
   ]
  },
  {
   "cell_type": "markdown",
   "id": "c5b2b069",
   "metadata": {},
   "source": [
    "Here's the `part` function in its entirety:"
   ]
  },
  {
   "cell_type": "code",
   "execution_count": 8,
   "id": "e440cb11",
   "metadata": {},
   "outputs": [],
   "source": [
    "(define (part1 cards)\n",
    "  (match (sort (map length (group-by identity cards)) >)\n",
    "         [ '(5)         7 ]   ; Five of a kind\n",
    "         [ '(4 1)       6 ]   ; Four of a kind\n",
    "         [ '(3 2)       5 ]   ; Full house\n",
    "         [ '(3 1 1)     4 ]   ; Three of a kind\n",
    "         [ '(2 2 1)     3 ]   ; Two pair\n",
    "         [ '(2 1 1 1)   2 ]   ; One pair\n",
    "         [ '(1 1 1 1 1) 1 ])) ; High card"
   ]
  },
  {
   "cell_type": "markdown",
   "id": "869cbfc4",
   "metadata": {},
   "source": [
    "For Part 2, determining the type of hand involves a little more work. Since the `J` cards are wildcards, they can be any card, and we need to use them to obtain the *best* hand. To do this, we'll simply generate all possible hands where the `J` cards become any of the other cards, then we'll call Part 1 to determine the type of hand, sort those results and take the best one:"
   ]
  },
  {
   "cell_type": "code",
   "execution_count": 9,
   "id": "3b5010f5",
   "metadata": {},
   "outputs": [
    {
     "data": {
      "text/html": [
       "<code>5</code>"
      ],
      "text/plain": [
       "5"
      ]
     },
     "execution_count": 9,
     "metadata": {},
     "output_type": "execute_result"
    }
   ],
   "source": [
    "(define (part2 cards)\n",
    "  (~> '(2 3 4 5 6 7 8 9 10 12 13 14)\n",
    "      (map (compose1 part1 (curry list-replace cards 1)) _)\n",
    "      (sort _ >)\n",
    "      car))\n",
    "\n",
    "(part2 hand2)"
   ]
  },
  {
   "cell_type": "markdown",
   "id": "a72fe302",
   "metadata": {},
   "source": [
    "Notice that for Part 2, we now have a full house - the `J` became an `8`, so we have three `8` and two `3`. Now we can show the `parse-input` function in its entirety:"
   ]
  },
  {
   "cell_type": "code",
   "execution_count": 10,
   "id": "0499ab3e",
   "metadata": {},
   "outputs": [],
   "source": [
    "(define (parse-input part)\n",
    "  (define (translate part2? card)\n",
    "    (index-of (string->list (if part2? \"_J23456789T_QKA\" \"__23456789TJQKA\")) card))\n",
    "\n",
    "  (define (parse-round part pair)\n",
    "    (let ([ lst (map (curry translate (eq? part part2)) (string->list (car pair))) ])\n",
    "      (cons (match-let ([(list a b c d e f) (cons (part lst) lst)])\n",
    "              (+ (* 537824 a) (* 38416 b) (* 2744 c) (* 196 d) (* 14 e) f))\n",
    "            (string->number (cadr pair)))))\n",
    "\n",
    "  (map (curry parse-round part) (parse-aoc 7 strings #:print-sample #f)))"
   ]
  },
  {
   "cell_type": "markdown",
   "id": "8f3e3c0b",
   "metadata": {},
   "source": [
    "Lines 7 through 9 convert the hand to a single \"strength\" number by prepending the hand type (e.g. 5 for a Full House) to the bid, resulting in a pair `(strength . bid)`. With all of that in place, the only thing left is the `solve` function which will:\n",
    "\n",
    "1. sort those pairs in order of strength, ascending\n",
    "2. extract the bid\n",
    "3. add a rank, starting with 1 for the lowest\n",
    "4. multiply the rank and bid\n",
    "5. sum all the values"
   ]
  },
  {
   "cell_type": "code",
   "execution_count": 11,
   "id": "d3c88a4c",
   "metadata": {},
   "outputs": [
    {
     "data": {
      "text/html": [
       "<code>246409899</code>"
      ],
      "text/plain": [
       "246409899"
      ]
     },
     "execution_count": 11,
     "metadata": {},
     "output_type": "execute_result"
    }
   ],
   "source": [
    "(define (solve rounds)\n",
    "  (~> (sort rounds < #:key car)            ; sort by strength ascending\n",
    "      (map cdr _)                          ; grab bid\n",
    "      (enumerate _ 1)                      ; add rank\n",
    "      (map (parallel-combine * car cdr) _) ; multiply rank * bid\n",
    "      list-sum))                           ; sum all\n",
    "\n",
    "(solve (parse-input part1))"
   ]
  },
  {
   "cell_type": "code",
   "execution_count": 12,
   "id": "8eb39494",
   "metadata": {},
   "outputs": [
    {
     "data": {
      "text/html": [
       "<code>244848487</code>"
      ],
      "text/plain": [
       "244848487"
      ]
     },
     "execution_count": 12,
     "metadata": {},
     "output_type": "execute_result"
    }
   ],
   "source": [
    "(solve (parse-input part2))"
   ]
  }
 ],
 "metadata": {
  "kernelspec": {
   "display_name": "Racket",
   "language": "racket",
   "name": "racket"
  },
  "language_info": {
   "codemirror_mode": "scheme",
   "file_extension": ".rkt",
   "mimetype": "text/x-racket",
   "name": "Racket",
   "pygments_lexer": "racket",
   "version": "8.8.0.5"
  }
 },
 "nbformat": 4,
 "nbformat_minor": 5
}
