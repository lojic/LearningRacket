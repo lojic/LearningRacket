{
 "cells": [
  {
   "cell_type": "code",
   "execution_count": 1,
   "id": "833aaf7f",
   "metadata": {},
   "outputs": [],
   "source": [
    "#lang iracket/lang #:require racket\n",
    "(require \"../advent.rkt\")"
   ]
  },
  {
   "cell_type": "markdown",
   "id": "63bd918b",
   "metadata": {},
   "source": [
    "**Day 8** involves navigating binary trees, and modular arithmetic, but I'm getting ahead of myself. Here is our test input:\n",
    "\n",
    "```\n",
    "RL\n",
    "\n",
    "AAA = (BBB, CCC)\n",
    "BBB = (DDD, EEE)\n",
    "CCC = (ZZZ, GGG)\n",
    "DDD = (DDD, DDD)\n",
    "EEE = (EEE, EEE)\n",
    "GGG = (GGG, GGG)\n",
    "ZZZ = (ZZZ, ZZZ)\n",
    "```\n",
    "\n",
    "The first line is a list of directives to choose either the left `L` or right `R` child of a pair. The other block of lines give keys and a pair of keys. Let's parse the lines of the real input file as atoms:"
   ]
  },
  {
   "cell_type": "code",
   "execution_count": 4,
   "id": "0124d1b0",
   "metadata": {},
   "outputs": [
    {
     "name": "stdout",
     "output_type": "stream",
     "text": [
      "'(\"LLRLLRLRLRRRLLRRRLRRLRLRLRLRLRLRRLRRRLRLLRRLRRLRRRLLRLLRRLLRRRLLLRLRRRLLLLRRRLLRRRLRRLRLLRLRLRRRLRRRLRRLRRLRRLRLLRRRLRRLRRRLLRRRLRLRRLLRRLLRLRLRRLRRLLRLLRRLRLLRRRLLRRRLRRLLRRLRRRLRLRRRLRRLLLRLLRLLRRRLRLRLRLRRLRRRLLLRRRLRRRLRRRLRRLRLRLRLRRRLRRLLRLRRRLRLRLRRLLLRRRR\")\n",
      "'()\n",
      "'(\"TFN\" \"SMC\" \"LQT\")\n",
      "'(\"JKL\" \"XDN\" \"KPK\")\n",
      "'(\"JMF\" \"HGP\" \"QKF\")\n"
     ]
    }
   ],
   "source": [
    "(define lines (parse-aoc 8 atoms))\n",
    "\n",
    "(for ([ line (take lines 5)]) (println line))"
   ]
  },
  {
   "cell_type": "markdown",
   "id": "b07c5611",
   "metadata": {},
   "source": [
    "I'd like to parse the nodes into a `hash` with the value being a `cons` cell. This will allow retrieving the left value with `car` and the right value with `cdr`."
   ]
  },
  {
   "cell_type": "code",
   "execution_count": 8,
   "id": "e15f9eee",
   "metadata": {},
   "outputs": [
    {
     "name": "stdout",
     "output_type": "stream",
     "text": [
      "(\"SMC\" . \"LQT\")\n"
     ]
    }
   ],
   "source": [
    "(define nodes (for/hash ([ lst (in-list (drop lines 2)) ])\n",
    "                            (match-let ([ (list key left right) lst ])\n",
    "                              (values key (cons left right)))))\n",
    "\n",
    "(writeln (hash-ref nodes \"TFN\"))"
   ]
  },
  {
   "cell_type": "markdown",
   "id": "be816275",
   "metadata": {},
   "source": [
    "Since I'm representing the pairs as a `cons` cell, I'll parse each `L` character to `car` and each `R` character to `cdr`, so I can use those directly to retrieve the values from the `cons` cells:"
   ]
  },
  {
   "cell_type": "code",
   "execution_count": 9,
   "id": "053ed297",
   "metadata": {},
   "outputs": [
    {
     "name": "stdout",
     "output_type": "stream",
     "text": [
      "(#<procedure:car> #<procedure:car> #<procedure:cdr> #<procedure:car> #<procedure:car>)\n"
     ]
    }
   ],
   "source": [
    "(define directions (~> (first lines)     ; First line is a list of one string\n",
    "                       first             ; First element of first line i.e. the string\n",
    "                       (string->list _)  ; Convert to a list of characters\n",
    "                       (map (λ (c)       ; Map each L to car and each R to cdr\n",
    "                         (match c\n",
    "                           [ #\\L car ]\n",
    "                           [ #\\R cdr ])) _)))\n",
    "\n",
    "(writeln (take directions 5))"
   ]
  },
  {
   "cell_type": "markdown",
   "id": "a73bfdff",
   "metadata": {},
   "source": [
    "Before coding the main `solve` function, let's define the one helper function we'll need. `ends-with?` accepts a suffix, and returns a predicate function indicating whether a string ends with the specified suffix:"
   ]
  },
  {
   "cell_type": "code",
   "execution_count": 10,
   "id": "1c40e797",
   "metadata": {},
   "outputs": [
    {
     "data": {
      "text/html": [
       "<code>#t</code>"
      ],
      "text/plain": [
       "#t"
      ]
     },
     "execution_count": 10,
     "metadata": {},
     "output_type": "execute_result"
    }
   ],
   "source": [
    "(define ends-with? (curry (flip string-suffix?)))\n",
    "\n",
    "((ends-with? \".\") \"I end in a period.\")"
   ]
  },
  {
   "cell_type": "markdown",
   "id": "78cb35fc",
   "metadata": {},
   "source": [
    "The `solve` function is straightforward. It accepts a `goal?` predicate and a starting `key`. It will then cycle through the `directions`, and do the following:\n",
    "\n",
    "1. Retrieve the accessor function (`car` or `cdr`) from the `directions` list\n",
    "2. Retrieve the `cons` cell from the `hash` associated with the key\n",
    "3. `get` the left or right value from the `cons` cell (using `car` or `cdr`)\n",
    "4. If the value satisfies the `goal?` predicate, return the number of `steps` we used\n",
    "5. Otherwise, iterate by:\n",
    "    1. Set the key to the value we retrieved\n",
    "    2. Increment the number of steps\n",
    "    3. Retrieve the next direction (wrapping around to the beginning of the list if necessary)"
   ]
  },
  {
   "cell_type": "code",
   "execution_count": 12,
   "id": "167170b7",
   "metadata": {},
   "outputs": [],
   "source": [
    "(define (solve goal? key)\n",
    "  (for/fold ([ key   key ]\n",
    "             [ steps 0   ]\n",
    "             #:result steps)\n",
    "            ([ get (in-cycle directions) ])\n",
    "    #:break (goal? key)\n",
    "    (values (get (hash-ref nodes key)) (add1 steps))))"
   ]
  },
  {
   "cell_type": "markdown",
   "id": "59226713",
   "metadata": {},
   "source": [
    "**Part 1** simply calls `solve` with a `goal?` predicate and a starting `key`:"
   ]
  },
  {
   "cell_type": "code",
   "execution_count": 13,
   "id": "748d90e2",
   "metadata": {},
   "outputs": [
    {
     "data": {
      "text/html": [
       "<code>20777</code>"
      ],
      "text/plain": [
       "20777"
      ]
     },
     "execution_count": 13,
     "metadata": {},
     "output_type": "execute_result"
    }
   ],
   "source": [
    "(define (part1)\n",
    "  (solve (ends-with? \"ZZZ\") \"AAA\"))\n",
    "\n",
    "(part1)"
   ]
  },
  {
   "cell_type": "markdown",
   "id": "5acb2ca3",
   "metadata": {},
   "source": [
    "For **Part 2**, we need to \"simultaneously\" navigate from multiple starting keys until they **all** satisfy the `goal?` predicate. This is a classic Advent of Code puzzle where the algorithm is cyclical in nature, and the naive approach would take far too long to run.\n",
    "\n",
    "The **trick** is to recognize that each starting key will loop to the goal key every `N` steps, so we need to figure out the number of steps when they all sync up. For example, let's say one key repeats every 2 steps, and another key repeats every 3 steps, when will they both reach the goal at the same time?\n",
    "\n",
    "```\n",
    "1  1\n",
    "2  2   ; step 1\n",
    "1  3   ; step 2\n",
    "2  1   ; step 3\n",
    "1  2   ; step 4\n",
    "2  3   ; step 5\n",
    "1  1   ; step 6\n",
    "```\n",
    "\n",
    "We see that after 6 steps, they're both back to 1. The mathematical operation that represents this behavior is the \"least common multiple\", or `lcm`. The `lcm` of 2 and 3 is 6, since `2 * 3 = 6`.\n",
    "\n",
    "So, we need to compute the number of steps for each of the keys individually, and compute the `lcm` of all of the results. The algorithm is as follows:\n",
    "\n",
    "- Line 2: get a list of all the keys in the `hash`\n",
    "- Line 3: filter the list to only ones ending in \"A\"\n",
    "- Line 4: for each key, call `solve` with a `goal?` of \"ends with Z\"\n",
    "- Line 5: compute the `lcm` on the resulting list of steps"
   ]
  },
  {
   "cell_type": "code",
   "execution_count": 14,
   "id": "89d342e7",
   "metadata": {},
   "outputs": [
    {
     "data": {
      "text/html": [
       "<code>13289612809129</code>"
      ],
      "text/plain": [
       "13289612809129"
      ]
     },
     "execution_count": 14,
     "metadata": {},
     "output_type": "execute_result"
    }
   ],
   "source": [
    "(define (part2)\n",
    "  (~> (hash-keys nodes)\n",
    "      (filter (ends-with? \"A\") _)\n",
    "      (map (curry solve (ends-with? \"Z\")) _)\n",
    "      (apply lcm _)))\n",
    "\n",
    "(part2)"
   ]
  }
 ],
 "metadata": {
  "kernelspec": {
   "display_name": "Racket",
   "language": "racket",
   "name": "racket"
  },
  "language_info": {
   "codemirror_mode": "scheme",
   "file_extension": ".rkt",
   "mimetype": "text/x-racket",
   "name": "Racket",
   "pygments_lexer": "racket",
   "version": "8.8.0.5"
  }
 },
 "nbformat": 4,
 "nbformat_minor": 5
}
