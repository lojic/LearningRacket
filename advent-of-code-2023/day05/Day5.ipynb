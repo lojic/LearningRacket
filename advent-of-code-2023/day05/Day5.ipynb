{
 "cells": [
  {
   "cell_type": "code",
   "execution_count": 1,
   "id": "ea003cef",
   "metadata": {},
   "outputs": [],
   "source": [
    "#lang iracket/lang #:require racket\n",
    "(require \"../advent.rkt\")"
   ]
  },
  {
   "cell_type": "markdown",
   "id": "50cd6979",
   "metadata": {},
   "source": [
    "Day 5 involves a typical Advent of Code scenario where Part 1 is easy, and a naive modification to Part 1 to get Part 2 is easy; **however**, the naive Part 2 solution will take far too long to run! :)\n",
    "\n",
    "After solving Part 1 to get a star, I re-implemented the code to solve Part 2, and then Part 1 was simply making the Part 1 input conform to what Part 2 needed, and call Part 2.\n",
    "\n",
    "The \"trick\" for Part 2 was to process the seed ranges as ranges, and not attempt to convert the seed ranges into lists of individual seeds.\n",
    "\n",
    "As always, the first step is parsing, and choosing suitable data structures for this step can make later steps much easier. We'll obtain 3 values from our parsing:\n",
    "1. `seeds1` (for Part1) is a list of seed numbers\n",
    "2. `seeds2` (for Part2) is a list of seed ranges [ begin, end )\n",
    "3. `categories` is a list of \"maps\" `(delta (begin . end))` where:\n",
    "    - delta is the amount to increment the source range\n",
    "    - begin is the inclusive beginning of the source range\n",
    "    - end is the exclusive ending of the source range\n",
    "    \n",
    "The following is the parsing code with some sample output:"
   ]
  },
  {
   "cell_type": "code",
   "execution_count": 2,
   "id": "c975935c",
   "metadata": {},
   "outputs": [
    {
     "data": {
      "text/html": [
       "<code>'(515785082 87905039 2104518691)</code>"
      ],
      "text/plain": [
       "'(515785082 87905039 2104518691)"
      ]
     },
     "execution_count": 2,
     "metadata": {},
     "output_type": "execute_result"
    }
   ],
   "source": [
    "(define-values (seeds1 seeds2 categories)\n",
    "  (let* ([ lines (parse-aoc 5 #:sep \"\\n\\n\" #:print-sample #f) ]\n",
    "         [ seeds (cdr (atoms (car lines)))                    ])\n",
    "    (values seeds\n",
    "            (map (λ (pair)\n",
    "                   (match-let ([ (list beg len) pair ])\n",
    "                     (cons beg (+ beg len)))) (chunk 2 seeds))\n",
    "            (map (λ (l)\n",
    "                   (map (λ (l)\n",
    "                          (match-let ([ (list dst src len) l ])\n",
    "                            (list (- dst src) (cons src (+ src len))))) (chunk 3 (drop (atoms l) 2))))\n",
    "                 (cdr lines)))))\n",
    "\n",
    "(take seeds1 3)"
   ]
  },
  {
   "cell_type": "code",
   "execution_count": 3,
   "id": "084d5728",
   "metadata": {},
   "outputs": [
    {
     "data": {
      "text/html": [
       "<code>'((515785082 . 603690121) (2104518691 . 2607668534) (720333403 . 1105567596))</code>"
      ],
      "text/plain": [
       "'((515785082 . 603690121) (2104518691 . 2607668534) (720333403 . 1105567596))"
      ]
     },
     "execution_count": 3,
     "metadata": {},
     "output_type": "execute_result"
    }
   ],
   "source": [
    "(take seeds2 3)"
   ]
  },
  {
   "cell_type": "code",
   "execution_count": 4,
   "id": "3f791c9d",
   "metadata": {
    "scrolled": true
   },
   "outputs": [
    {
     "data": {
      "text/html": [
       "<code>'((-1851428871 (3876763368 . 3893492948)) (-154574372 (2032519622 . 2127606082)) (-679167893 (679167893 . 1060342823)))</code>"
      ],
      "text/plain": [
       "'((-1851428871 (3876763368 . 3893492948)) (-154574372 (2032519622 . 2127606082)) (-679167893 (679167893 . 1060342823)))"
      ]
     },
     "execution_count": 4,
     "metadata": {},
     "output_type": "execute_result"
    }
   ],
   "source": [
    "(take (car categories) 3)"
   ]
  },
  {
   "cell_type": "markdown",
   "id": "dc400aa2",
   "metadata": {},
   "source": [
    "The first function we'll code accepts a seed range and a single map from a category. It needs to compute the intersection of the seed range with the map's source range. There are **six** possible cases. Here is the order you'll see in the code:\n",
    "\n",
    "1. Seed range is left of source range - no intersection\n",
    "2. Seed range is a superset of source range\n",
    "3. Right portion of seed range intersects source range\n",
    "4. Seed range is right of source range - no intersection\n",
    "5. Seed range is subset of source range\n",
    "6. Left portion of seed range intersects source range\n",
    "\n",
    "The algorithm is to partition the seed range into two sets, the first set is either empty (no intersection), or it contains a single range that entirely matches the source range, and it has been incremented by the `delta` (see above). The second set is a list of ranges that have no intersection with the source range. Here's the code:"
   ]
  },
  {
   "cell_type": "code",
   "execution_count": 5,
   "id": "f9e3ed74",
   "metadata": {},
   "outputs": [
    {
     "data": {
      "text/html": [
       "<code>'(1949944319 . 1973031710)</code>"
      ],
      "text/plain": [
       "'(1949944319 . 1973031710)"
      ]
     },
     "execution_count": 5,
     "metadata": {},
     "output_type": "execute_result"
    },
    {
     "data": {
      "text/html": [
       "<code>'((2127606082 . 2607668534))</code>"
      ],
      "text/plain": [
       "'((2127606082 . 2607668534))"
      ]
     },
     "execution_count": 5,
     "metadata": {},
     "output_type": "execute_result"
    }
   ],
   "source": [
    "(define (convert-map seed cat)\n",
    "  (define (increment-range delta pair)\n",
    "    (cons (+ delta (car pair)) (+ delta (cdr pair))))\n",
    "\n",
    "  (match-let ([ (cons seed-beg seed-end)           seed ]\n",
    "              [ (list delta (cons cat-beg cat-end)) cat  ])\n",
    "    (if (< seed-beg cat-beg)\n",
    "        (cond [ (<= seed-end cat-beg)\n",
    "                (values #f (list seed)) ]\n",
    "              [ (> seed-end cat-end)\n",
    "                (values (increment-range delta (cons cat-beg cat-end))\n",
    "                        (list (cons seed-beg cat-beg)\n",
    "                              (cons cat-end seed-end))) ]\n",
    "              [ else\n",
    "                (values (increment-range delta (cons cat-beg seed-end))\n",
    "                        (list (cons seed-beg cat-beg))) ])\n",
    "        (cond [ (>= seed-beg cat-end)\n",
    "                (values #f (list seed)) ]\n",
    "              [ (<= seed-end cat-end)\n",
    "                (values (increment-range delta seed) '()) ]\n",
    "              [ else\n",
    "                (values (increment-range delta (cons seed-beg cat-end))\n",
    "                        (list (cons cat-end seed-end))) ]))))\n",
    "\n",
    "(convert-map (second seeds2) (second (first categories)))"
   ]
  },
  {
   "cell_type": "markdown",
   "id": "2878a990",
   "metadata": {},
   "source": [
    "Next, we'll need a function to process a single seed range against an entire category of maps:"
   ]
  },
  {
   "cell_type": "code",
   "execution_count": 6,
   "id": "b1b2b562",
   "metadata": {},
   "outputs": [
    {
     "data": {
      "text/html": [
       "<code>'((1949944319 . 1973031710) (1973031710 . 2025334497) (3247991211 . 3324095721) (3780457892 . 4067445375) (2487930716 . 2552598388))</code>"
      ],
      "text/plain": [
       "'((1949944319 . 1973031710) (1973031710 . 2025334497) (3247991211 . 3324095721) (3780457892 . 4067445375) (2487930716 . 2552598388))"
      ]
     },
     "execution_count": 6,
     "metadata": {},
     "output_type": "execute_result"
    }
   ],
   "source": [
    "(define (convert-category seed category)\n",
    "  (if (null? category)\n",
    "      (list seed)\n",
    "      (let-values ([ (seed remaining) (convert-map seed (car category)) ])\n",
    "        (let ([ lst (apply append (map (λ (s) (convert-category s (cdr category))) remaining)) ])\n",
    "          (if seed\n",
    "              (cons seed lst)\n",
    "              lst)))))\n",
    "\n",
    "(convert-category (second seeds2) (first categories))"
   ]
  },
  {
   "cell_type": "markdown",
   "id": "02a429dd",
   "metadata": {},
   "source": [
    "Lastly, we'll need a function to process a single seed range through all of the categories:"
   ]
  },
  {
   "cell_type": "code",
   "execution_count": 7,
   "id": "7af7913e",
   "metadata": {},
   "outputs": [
    {
     "data": {
      "text/html": [
       "<code>'((4287508490 . 4294967296) (3299611124 . 3315239709) (472220788 . 475007602) (3315239709 . 3328285208) (2094199611 . 2097696890) (2583604014 . 2616577209) (701783262 . 711128092) (374784574 . 395248650) (2559661894 . 2567225216) (1457470217 . 1495209180) (3014768818 . 3015762137) (4103928361 . 4110633186) (3686138511 . 3687305674) (3367707747 . 3421416680) (4110633186 . 4115726396) (1767145617 . 1846746193) (1387390964 . 1432950830) (3547841085 . 3561084334) (4072589975 . 4073355764) (120247692 . 121678607) (647749131 . 686302108) (41222968 . 42024284) (1974296651 . 1996039366) (3053802222 . 3072418171) (2133436297 . 2158819357) (2543777270 . 2553156039) (3000344129 . 3014768818) (686302108 . 701783262))</code>"
      ],
      "text/plain": [
       "'((4287508490 . 4294967296) (3299611124 . 3315239709) (472220788 . 475007602) (3315239709 . 3328285208) (2094199611 . 2097696890) (2583604014 . 2616577209) (701783262 . 711128092) (374784574 . 395248650) (2559661894 . 2567225216) (1457470217 . 1495209180) (3014768818 . 3015762137) (4103928361 . 4110633186) (3686138511 . 3687305674) (3367707747 . 3421416680) (4110633186 . 4115726396) (1767145617 . 1846746193) (1387390964 . 1432950830) (3547841085 . 3561084334) (4072589975 . 4073355764) (120247692 . 121678607) (647749131 . 686302108) (41222968 . 42024284) (1974296651 . 1996039366) (3053802222 . 3072418171) (2133436297 . 2158819357) (2543777270 . 2553156039) (3000344129 . 3014768818) (686302108 . 701783262))"
      ]
     },
     "execution_count": 7,
     "metadata": {},
     "output_type": "execute_result"
    }
   ],
   "source": [
    "(define (convert-categories seed categories)\n",
    "  (if (null? categories)\n",
    "      (list seed)\n",
    "      (apply append (map (λ (s)\n",
    "                           (convert-categories s (cdr categories)))\n",
    "                         (convert-category seed (car categories))))))\n",
    "\n",
    "(convert-categories (second seeds2) categories)"
   ]
  },
  {
   "cell_type": "markdown",
   "id": "19534548",
   "metadata": {},
   "source": [
    "With the above support functions, **Part 2** is not just the following:\n",
    "1. Call `convert-categories` for each of the seed ranges\n",
    "2. Append all the results together\n",
    "3. Find the minimum range beginning"
   ]
  },
  {
   "cell_type": "code",
   "execution_count": 8,
   "id": "dad52482",
   "metadata": {},
   "outputs": [
    {
     "data": {
      "text/html": [
       "<code>41222968</code>"
      ],
      "text/plain": [
       "41222968"
      ]
     },
     "execution_count": 8,
     "metadata": {},
     "output_type": "execute_result"
    }
   ],
   "source": [
    "(define (part2 seeds)\n",
    "  (list-min (map car (apply append (map (λ (s) (convert-categories s categories)) seeds)))))\n",
    "\n",
    "(part2 seeds2)"
   ]
  },
  {
   "cell_type": "markdown",
   "id": "66c0e041",
   "metadata": {},
   "source": [
    "In somewhat of a backwards manner, we now define **Part 1** by simply converting Part 1's list of seed numbers into a list of ranges of length 1, and then call Part 2:"
   ]
  },
  {
   "cell_type": "code",
   "execution_count": 9,
   "id": "c2c009d5",
   "metadata": {},
   "outputs": [
    {
     "data": {
      "text/html": [
       "<code>457535844</code>"
      ],
      "text/plain": [
       "457535844"
      ]
     },
     "execution_count": 9,
     "metadata": {},
     "output_type": "execute_result"
    }
   ],
   "source": [
    "(define (part1 seeds) (part2 (map (λ (s) (cons s (add1 s))) seeds)))\n",
    "\n",
    "(part1 seeds1)"
   ]
  }
 ],
 "metadata": {
  "kernelspec": {
   "display_name": "Racket",
   "language": "racket",
   "name": "racket"
  },
  "language_info": {
   "codemirror_mode": "scheme",
   "file_extension": ".rkt",
   "mimetype": "text/x-racket",
   "name": "Racket",
   "pygments_lexer": "racket",
   "version": "8.8.0.5"
  }
 },
 "nbformat": 4,
 "nbformat_minor": 5
}
