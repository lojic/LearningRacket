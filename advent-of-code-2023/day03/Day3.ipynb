{
 "cells": [
  {
   "cell_type": "code",
   "execution_count": 1,
   "id": "18a8a76d",
   "metadata": {},
   "outputs": [],
   "source": [
    "#lang iracket/lang #:require racket\n",
    "(require \"../advent.rkt\" threading)"
   ]
  },
  {
   "cell_type": "markdown",
   "id": "7f10d31e",
   "metadata": {},
   "source": [
    "Day 3 involves some two dimensional analysis, so we'll use complex numbers as a convenient two dimensional index:"
   ]
  },
  {
   "cell_type": "code",
   "execution_count": 2,
   "id": "7abbf35d",
   "metadata": {},
   "outputs": [],
   "source": [
    "(define neighbors '(0-i 1-i 1 1+i 0+i -1+i -1 -1-i))"
   ]
  },
  {
   "cell_type": "markdown",
   "id": "92da06d4",
   "metadata": {},
   "source": [
    "Most of the work today is in the input parsing. Our input looks like this:\n",
    "\n",
    "```\n",
    "467..114..\n",
    "...*......\n",
    "..35..633.\n",
    "......#...\n",
    "617*......\n",
    ".....+.58.\n",
    "..592.....\n",
    "......755.\n",
    "...$.*....\n",
    ".664.598..\n",
    "```\n",
    "I've broken the parsing up into a number of functions, and I'll cover them in a \"bottom up\" fashion. First, we'll define a couple example lines to illustrate some parsing functions:"
   ]
  },
  {
   "cell_type": "code",
   "execution_count": 3,
   "id": "6af0610d",
   "metadata": {},
   "outputs": [],
   "source": [
    "(define num-line '(#\\4 #\\6 #\\7 #\\. #\\. #\\1 #\\1 #\\4 #\\. #\\.))\n",
    "(define sym-line '(#\\. #\\. #\\. #\\* #\\. #\\. #\\. #\\. #\\. #\\.))"
   ]
  },
  {
   "cell_type": "markdown",
   "id": "7b4b22ed",
   "metadata": {},
   "source": [
    "The lower level parsing functions accept a list of characters, `line`, that begins with the token to be parsed, and an index into the current line of input, `col`. The function returns two values, the token parsed, and the index into the current input line just passed the token. For example:"
   ]
  },
  {
   "cell_type": "code",
   "execution_count": 4,
   "id": "4098ce37",
   "metadata": {},
   "outputs": [
    {
     "data": {
      "text/html": [
       "<code>#\\*</code>"
      ],
      "text/plain": [
       "#\\*"
      ]
     },
     "execution_count": 4,
     "metadata": {},
     "output_type": "execute_result"
    },
    {
     "data": {
      "text/html": [
       "<code>4</code>"
      ],
      "text/plain": [
       "4"
      ]
     },
     "execution_count": 4,
     "metadata": {},
     "output_type": "execute_result"
    }
   ],
   "source": [
    "(define (parse-sym  line col)\n",
    "  (values (car line) (add1 col)))\n",
    "\n",
    "(parse-sym (drop sym-line 3) 3) ; e.g. input line after we've consumed the first three . characters"
   ]
  },
  {
   "cell_type": "markdown",
   "id": "e3db60b8",
   "metadata": {},
   "source": [
    "For the other types of tokens (dots and numbers), we'll need a generalized function to parse characters:"
   ]
  },
  {
   "cell_type": "code",
   "execution_count": 5,
   "id": "6e508ea8",
   "metadata": {},
   "outputs": [],
   "source": [
    "(define (parse-chars line col pred? [ convert identity ])\n",
    "  (let ([ pos (or (index-where line pred?) (length line)) ])\n",
    "    (values (convert (take line pos)) (+ col pos))))\n",
    "\n",
    "(define (parse-dots line col)\n",
    "  (parse-chars line col (λ (ch) (not (char=? #\\. ch))) (const #f)))\n",
    "\n",
    "(define (parse-num  line col)\n",
    "  (parse-chars line col (λ (ch) (not (char-numeric? ch))) list->string))"
   ]
  },
  {
   "cell_type": "markdown",
   "id": "6c8887f5",
   "metadata": {},
   "source": [
    "The only reason we're parsing the dots is to consume enough of the input to get to the next token, so `parse-dots` returns `#f` for the token (no use allocating a string to hold the dots, since we'll ignore them):"
   ]
  },
  {
   "cell_type": "code",
   "execution_count": 6,
   "id": "6bbaaa50",
   "metadata": {
    "scrolled": true
   },
   "outputs": [
    {
     "data": {
      "text/html": [
       "<code>#f</code>"
      ],
      "text/plain": [
       "#f"
      ]
     },
     "execution_count": 6,
     "metadata": {},
     "output_type": "execute_result"
    },
    {
     "data": {
      "text/html": [
       "<code>3</code>"
      ],
      "text/plain": [
       "3"
      ]
     },
     "execution_count": 6,
     "metadata": {},
     "output_type": "execute_result"
    }
   ],
   "source": [
    "(parse-dots sym-line 0)"
   ]
  },
  {
   "cell_type": "markdown",
   "id": "6165474c",
   "metadata": {},
   "source": [
    "We do care about numbers, so `parse-num` will return the parsed number:"
   ]
  },
  {
   "cell_type": "code",
   "execution_count": 7,
   "id": "139facc2",
   "metadata": {},
   "outputs": [
    {
     "data": {
      "text/html": [
       "<code>\"467\"</code>"
      ],
      "text/plain": [
       "\"467\""
      ]
     },
     "execution_count": 7,
     "metadata": {},
     "output_type": "execute_result"
    },
    {
     "data": {
      "text/html": [
       "<code>3</code>"
      ],
      "text/plain": [
       "3"
      ]
     },
     "execution_count": 7,
     "metadata": {},
     "output_type": "execute_result"
    }
   ],
   "source": [
    "(parse-num num-line 0)"
   ]
  },
  {
   "cell_type": "code",
   "execution_count": 8,
   "id": "9852eb46",
   "metadata": {},
   "outputs": [
    {
     "data": {
      "text/html": [
       "<code>\"114\"</code>"
      ],
      "text/plain": [
       "\"114\""
      ]
     },
     "execution_count": 8,
     "metadata": {},
     "output_type": "execute_result"
    },
    {
     "data": {
      "text/html": [
       "<code>8</code>"
      ],
      "text/plain": [
       "8"
      ]
     },
     "execution_count": 8,
     "metadata": {},
     "output_type": "execute_result"
    }
   ],
   "source": [
    "(parse-num (drop num-line 5) 5)"
   ]
  },
  {
   "cell_type": "markdown",
   "id": "50f8880b",
   "metadata": {},
   "source": [
    "Now we can write the general `parse-token`:"
   ]
  },
  {
   "cell_type": "code",
   "execution_count": 9,
   "id": "deb562ce",
   "metadata": {},
   "outputs": [
    {
     "data": {
      "text/html": [
       "<code>\"467\"</code>"
      ],
      "text/plain": [
       "\"467\""
      ]
     },
     "execution_count": 9,
     "metadata": {},
     "output_type": "execute_result"
    },
    {
     "data": {
      "text/html": [
       "<code>3</code>"
      ],
      "text/plain": [
       "3"
      ]
     },
     "execution_count": 9,
     "metadata": {},
     "output_type": "execute_result"
    }
   ],
   "source": [
    "(define (parse-token line col)\n",
    "  (let ([ ch (car line) ])\n",
    "    (cond [ (char=? #\\. ch)    (parse-dots line col) ]\n",
    "          [ (char-numeric? ch) (parse-num line col)  ]\n",
    "          [ else               (parse-sym line col)  ])))\n",
    "\n",
    "(parse-token num-line 0)"
   ]
  },
  {
   "cell_type": "markdown",
   "id": "55604fd7",
   "metadata": {},
   "source": [
    "The `parse-tokens` function will parse all of the input and return a list of tokens along with the two dimensional index of the token. Tokens will either be strings, for numbers, or characters, for symbols, or `#f` for dots:"
   ]
  },
  {
   "cell_type": "code",
   "execution_count": 11,
   "id": "d4fbea7e",
   "metadata": {},
   "outputs": [
    {
     "name": "stdout",
     "output_type": "stream",
     "text": [
      "----------------------------------------------------------------------------------------------------\n",
      "day03.txt -> 110 chars, 10 lines; first 3 lines; last 2 lines:\n",
      "----------------------------------------------------------------------------------------------------\n",
      "467..114..\n",
      "...*......\n",
      "..35..633.\n",
      "...\n",
      "...$.*....\n",
      ".664.598..\n",
      "----------------------------------------------------------------------------------------------------\n",
      "(parse 3) -> 10 entries:\n",
      "----------------------------------------------------------------------------------------------------\n",
      "((#\\4 #\\6 #\\7 #\\. #\\. #\\1 #\\1 #\\4 #\\. #\\.)\n",
      "(#\\. #\\. #\\. #\\* #\\. #\\. #\\. #\\. #\\. #\\.)\n",
      "...\n",
      "(#\\. #\\6 #\\6 #\\4 #\\. #\\5 #\\9 #\\8 #\\. #\\.))\n",
      "----------------------------------------------------------------------------------------------------\n"
     ]
    },
    {
     "data": {
      "text/html": [
       "<code>'((8+9i . #f) (5+9i . \"598\") (4+9i . #f) (1+9i . \"664\") (0+9i . #f) (6+8i . #f) (5+8i . #\\*))</code>"
      ],
      "text/plain": [
       "'((8+9i . #f) (5+9i . \"598\") (4+9i . #f) (1+9i . \"664\") (0+9i . #f) (6+8i . #f) (5+8i . #\\*))"
      ]
     },
     "execution_count": 11,
     "metadata": {},
     "output_type": "execute_result"
    }
   ],
   "source": [
    "(define (parse-tokens lines)\n",
    "  (let next-line ([ lines lines ][ row 0 ][ tokens '() ])\n",
    "    (if (null? lines)\n",
    "        tokens\n",
    "        (let next-token ([ line (car lines) ][ col 0 ][ tokens tokens ])\n",
    "          (if (null? line)\n",
    "              (next-line (cdr lines) (add1 row) tokens)\n",
    "              (let-values ([ (token new-col) (parse-token line col) ])\n",
    "                (next-token (drop line (- new-col col))\n",
    "                            new-col\n",
    "                            (cons (cons (make-rectangular col row) token) tokens))))))))\n",
    "\n",
    "(define lines (parse-aoc 3 string->list))\n",
    "\n",
    "(take (parse-tokens lines) 7)"
   ]
  },
  {
   "cell_type": "markdown",
   "id": "b7381aee",
   "metadata": {},
   "source": [
    "Here we see that the number \"598 is at row 9, col 5 (zero based), and the symbol `*` is at row 8, col 5.\n",
    "\n",
    "Now we'll simply filter the list into two separate lists - one for numbers and one for symbols:"
   ]
  },
  {
   "cell_type": "code",
   "execution_count": 25,
   "id": "bba48667",
   "metadata": {},
   "outputs": [
    {
     "data": {
      "text/html": [
       "<code>'((5+9i . \"598\") (1+9i . \"664\") (6+7i . \"755\"))</code>"
      ],
      "text/plain": [
       "'((5+9i . \"598\") (1+9i . \"664\") (6+7i . \"755\"))"
      ]
     },
     "execution_count": 25,
     "metadata": {},
     "output_type": "execute_result"
    }
   ],
   "source": [
    "(define (parse-input tokens)\n",
    "  (values (filter (compose1 string? cdr) tokens)\n",
    "          (filter (compose1 char? cdr) tokens)))\n",
    "\n",
    "(define-values (nums syms) (parse-input (parse-tokens lines)))\n",
    "\n",
    "(take nums 3)"
   ]
  },
  {
   "cell_type": "code",
   "execution_count": 14,
   "id": "a3d01551",
   "metadata": {
    "scrolled": true
   },
   "outputs": [
    {
     "data": {
      "text/html": [
       "<code>'((5+8i . #\\*) (3+8i . #\\$) (5+5i . #\\+))</code>"
      ],
      "text/plain": [
       "'((5+8i . #\\*) (3+8i . #\\$) (5+5i . #\\+))"
      ]
     },
     "execution_count": 14,
     "metadata": {},
     "output_type": "execute_result"
    }
   ],
   "source": [
    "(take syms 3)"
   ]
  },
  {
   "cell_type": "markdown",
   "id": "78b4a885",
   "metadata": {},
   "source": [
    "The hard part of parsing is over! Now we'll define four helper functions. `adjacent?` will indicate whether two indices are adjacent i.e. within a distance of 1 in the vertical, horizontal or diagonal directions:"
   ]
  },
  {
   "cell_type": "code",
   "execution_count": 15,
   "id": "6a7c50ff",
   "metadata": {},
   "outputs": [
    {
     "data": {
      "text/html": [
       "<code>#t</code>"
      ],
      "text/plain": [
       "#t"
      ]
     },
     "execution_count": 15,
     "metadata": {},
     "output_type": "execute_result"
    }
   ],
   "source": [
    "(define (adjacent? pos1 pos2)\n",
    "  (ormap (λ (n) (= (+ pos1 n) pos2)) neighbors))\n",
    "\n",
    "(adjacent? (make-rectangular 3 4) (make-rectangular 4 4))"
   ]
  },
  {
   "cell_type": "markdown",
   "id": "8f4801c6",
   "metadata": {},
   "source": [
    "'num-adjacent-so-sym?` indicates whether the number `num-str` at index `num-pos is adjacent to the symbol at index `sym-pos`. To do this, we iterate over the index of the digits in `num-str` to see if any of them are adjacent to the symbol index:"
   ]
  },
  {
   "cell_type": "code",
   "execution_count": 19,
   "id": "6c7a2ae9",
   "metadata": {},
   "outputs": [
    {
     "data": {
      "text/html": [
       "<code>#t</code>"
      ],
      "text/plain": [
       "#t"
      ]
     },
     "execution_count": 19,
     "metadata": {},
     "output_type": "execute_result"
    }
   ],
   "source": [
    "(define (num-adjacent-to-sym? num-str num-pos sym-pos)\n",
    "  (ormap (λ (n)\n",
    "           (adjacent? (+ num-pos n) sym-pos))\n",
    "         (range (string-length num-str))))\n",
    "\n",
    "(num-adjacent-to-sym? \"592\" 2+6i 5+5i) ; number beginning at (6,2), symbol at (5,5)"
   ]
  },
  {
   "cell_type": "markdown",
   "id": "2dd22a55",
   "metadata": {},
   "source": [
    "`is-part-number?` indicates whether the number, `num-str`, at index, `num-pos` is adjacent to any symbol. To do that, we'll iterate over all the symbols to see if any are adjacent to the number:"
   ]
  },
  {
   "cell_type": "code",
   "execution_count": 22,
   "id": "7e6f7b77",
   "metadata": {},
   "outputs": [
    {
     "data": {
      "text/html": [
       "<code>#t</code>"
      ],
      "text/plain": [
       "#t"
      ]
     },
     "execution_count": 22,
     "metadata": {},
     "output_type": "execute_result"
    }
   ],
   "source": [
    "(define (is-part-number? num-str pos syms)\n",
    "  (ormap (λ (sym-pair)\n",
    "           (num-adjacent-to-sym? num-str pos (car sym-pair)))\n",
    "         syms))\n",
    "\n",
    "(is-part-number? \"592\" 2+6i syms)"
   ]
  },
  {
   "cell_type": "markdown",
   "id": "4e27589a",
   "metadata": {},
   "source": [
    "Lastly, `gear-with-nums` accepts a `*` symbol index, `pos`, and returns a list of numbers adjacent to that symbol:"
   ]
  },
  {
   "cell_type": "code",
   "execution_count": 23,
   "id": "a4ee8950",
   "metadata": {},
   "outputs": [
    {
     "data": {
      "text/html": [
       "<code>'(35 467)</code>"
      ],
      "text/plain": [
       "'(35 467)"
      ]
     },
     "execution_count": 23,
     "metadata": {},
     "output_type": "execute_result"
    }
   ],
   "source": [
    "(define (gear-with-nums pos)\n",
    "  (~> (filter (λ (pair)\n",
    "                (num-adjacent-to-sym? (cdr pair) (car pair) pos))\n",
    "              nums)\n",
    "      (map (compose1 string->number cdr) _)))\n",
    "\n",
    "(gear-with-nums 3+1i)"
   ]
  },
  {
   "cell_type": "markdown",
   "id": "ffbf5fc4",
   "metadata": {},
   "source": [
    "Now, all that's left is the individual part functions. For **Part 1**:\n",
    "\n",
    "1. Filter the list of number pairs to only those that are part numbers\n",
    "2. For each pair, grab the actual number string and convert to an integer\n",
    "3. Sum all of the numbers in the list"
   ]
  },
  {
   "cell_type": "code",
   "execution_count": 21,
   "id": "3a41403d",
   "metadata": {},
   "outputs": [
    {
     "data": {
      "text/html": [
       "<code>4361</code>"
      ],
      "text/plain": [
       "4361"
      ]
     },
     "execution_count": 21,
     "metadata": {},
     "output_type": "execute_result"
    }
   ],
   "source": [
    "(define (part1)\n",
    "  (~> (filter (λ (pair)\n",
    "                (is-part-number? (cdr pair) (car pair) syms))\n",
    "              nums)\n",
    "      (map (compose1 string->number cdr) _)\n",
    "      (list-sum _)))\n",
    "\n",
    "(part1)"
   ]
  },
  {
   "cell_type": "markdown",
   "id": "935e098d",
   "metadata": {},
   "source": [
    "For **Part 2**:\n",
    "\n",
    "1. Filter the list of symbols to only those that are `*`\n",
    "2. For each of those, associate a list of numbers that are adjacent\n",
    "3. Filter that list to only those that have exactly 2 numbers\n",
    "4. Compute the product for each\n",
    "5. Sum all the products"
   ]
  },
  {
   "cell_type": "code",
   "execution_count": 24,
   "id": "d6be9a02",
   "metadata": {},
   "outputs": [
    {
     "data": {
      "text/html": [
       "<code>467835</code>"
      ],
      "text/plain": [
       "467835"
      ]
     },
     "execution_count": 24,
     "metadata": {},
     "output_type": "execute_result"
    }
   ],
   "source": [
    "(define (part2)\n",
    "  (~> (filter (compose1 (curry char=? #\\*) cdr) syms)\n",
    "      (map (compose1 gear-with-nums car) _)\n",
    "      (filter (compose1 (curry = 2) length) _)\n",
    "      (map list-prod _)\n",
    "      list-sum))\n",
    "\n",
    "(part2)"
   ]
  }
 ],
 "metadata": {
  "kernelspec": {
   "display_name": "Racket",
   "language": "racket",
   "name": "racket"
  },
  "language_info": {
   "codemirror_mode": "scheme",
   "file_extension": ".rkt",
   "mimetype": "text/x-racket",
   "name": "Racket",
   "pygments_lexer": "racket",
   "version": "8.8.0.5"
  }
 },
 "nbformat": 4,
 "nbformat_minor": 5
}
