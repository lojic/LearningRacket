{
 "cells": [
  {
   "cell_type": "code",
   "execution_count": 1,
   "id": "8890a054",
   "metadata": {},
   "outputs": [],
   "source": [
    "#lang iracket/lang #:require racket\n",
    "(require \"../advent.rkt\" threading)"
   ]
  },
  {
   "cell_type": "markdown",
   "id": "d1425ff7",
   "metadata": {},
   "source": [
    "Our data today is as follows:"
   ]
  },
  {
   "cell_type": "markdown",
   "id": "8859f7b5",
   "metadata": {},
   "source": [
    "```\n",
    "Game 1: 3 blue, 4 red; 1 red, 2 green, 6 blue; 2 green\n",
    "Game 2: 1 blue, 2 green; 3 green, 4 blue, 1 red; 1 green, 1 blue\n",
    "Game 3: 8 green, 6 blue, 20 red; 5 blue, 4 red, 13 green; 5 green, 1 red\n",
    "Game 4: 1 green, 3 red, 6 blue; 3 green, 6 red; 3 green, 15 blue, 14 red\n",
    "Game 5: 6 red, 1 blue, 3 green; 2 blue, 1 red, 2 green\n",
    "```"
   ]
  },
  {
   "cell_type": "markdown",
   "id": "a5af7ec3",
   "metadata": {},
   "source": [
    "For today's task, I found it helpful to make use of the `parallel-combine` combinator from Hanson & Sussman's \"Software Design for Flexibility\". This combinator applies `f` and `g` to the input, in parallel, and combines their output using `h`. Pictorially, it looks like this:"
   ]
  },
  {
   "cell_type": "markdown",
   "id": "e168fcb2",
   "metadata": {},
   "source": [
    "```\n",
    "                   ┌───────────────────┐\n",
    "                   │ parallel-combine  │\n",
    "                   └───────────────────┘\n",
    "        ┌──────────────────────────────────────────┐\n",
    "        │                                          │\n",
    "        │         ┌───────┐                        │\n",
    "        │     n   │       │   1                    │\n",
    "        │  ┌─────▶│   f   │──────┐                 │\n",
    "        │  │      │       │      │      ┌───────┐  │\n",
    "        │  │      └───────┘      │      │       │  │\n",
    "  n  ───┼──┤                     ├─────▶│   h   │──┼───▶\n",
    "        │  │      ┌───────┐      │      │       │  │\n",
    "        │  │      │       │      │      └───────┘  │\n",
    "        │  └─────▶│   g   │──────┘                 │\n",
    "        │     n   │       │   1    ┌────────────┐  │\n",
    "        │         └───────┘        │ h o (f, g) │  │\n",
    "        │                          └────────────┘  │\n",
    "        └──────────────────────────────────────────┘\n",
    "```"
   ]
  },
  {
   "cell_type": "markdown",
   "id": "1143bd1f",
   "metadata": {},
   "source": [
    "I added the following function to the `advent.rkt` support module:"
   ]
  },
  {
   "cell_type": "code",
   "execution_count": 2,
   "id": "dd2ccc89",
   "metadata": {},
   "outputs": [
    {
     "data": {
      "text/html": [
       "<code>'(1 3 4)</code>"
      ],
      "text/plain": [
       "'(1 3 4)"
      ]
     },
     "execution_count": 2,
     "metadata": {},
     "output_type": "execute_result"
    }
   ],
   "source": [
    ";; (parallel-combine h f g) -> any\n",
    ";; h : procedure?\n",
    ";; f : procedure?\n",
    ";; g : procedure?\n",
    ";;\n",
    ";; Functions f and g take the same number of arguments. The input to\n",
    ";; parallel-combine is passed to both of them. Their outputs are\n",
    ";; combined by the function h, of two arguments.\n",
    ";;\n",
    ";; For example:\n",
    ";; ((parallel-combine cons car (compose1 (curry map add1) cdr)) '(1 2 3))\n",
    ";; -> '(1 3 4)\n",
    ";;\n",
    ";; A combinator from \"Software Design for Flexibility\" by Hanson &\n",
    ";; Sussman\n",
    "(define (parallel-combine h f g)\n",
    "  (define (the-combination . args)\n",
    "    (h (apply f args) (apply g args)))\n",
    "\n",
    "  the-combination)\n",
    "\n",
    "((parallel-combine cons car (compose1 (curry map add1) cdr)) '(1 2 3))"
   ]
  },
  {
   "cell_type": "markdown",
   "id": "8819e7bc",
   "metadata": {},
   "source": [
    "As always, first we'll parse the data:"
   ]
  },
  {
   "cell_type": "code",
   "execution_count": 3,
   "id": "af25f1d6",
   "metadata": {
    "scrolled": true
   },
   "outputs": [
    {
     "name": "stdout",
     "output_type": "stream",
     "text": [
      "----------------------------------------------------------------------------------------------------\n",
      "day02.txt -> 10377 chars, 100 lines; first 3 lines; last 2 lines:\n",
      "----------------------------------------------------------------------------------------------------\n",
      "Game 1: 7 blue, 5 red; 10 red, 7 blue; 5 blue, 4 green, 15 red; 4 gree ... d; 5 red, 4 blue, 3 green\n",
      "Game 2: 8 green, 3 red; 7 blue, 6 red, 8 green; 7 blue, 3 green, 6 red ... ; 6 blue, 3 green, 12 red\n",
      "Game 3: 6 blue, 3 red, 7 green; 3 red, 3 green, 8 blue; 8 blue, 11 red ... n; 9 blue, 7 green, 1 red\n",
      "...\n",
      "Game 99: 6 blue, 11 red, 7 green; 9 red, 6 green, 1 blue; 9 red, 2 blue\n",
      "Game 100: 1 red, 4 blue, 2 green; 6 red, 2 green, 11 blue; 1 red, 1 blue, 2 green; 1 red, 7 blue\n",
      "----------------------------------------------------------------------------------------------------\n",
      "(parse 2) -> 100 entries:\n",
      "----------------------------------------------------------------------------------------------------\n",
      "((\"Game\" 1 7 \"blue\" 5 \"red\" 10 \"red\" 7 \"blue\" 5 \"blue\" 4 \"green\" 15 \"re ... \"red\" 4 \"blue\" 3 \"green\")\n",
      "(\"Game\" 2 8 \"green\" 3 \"red\" 7 \"blue\" 6 \"red\" 8 \"green\" 7 \"blue\" 3 \"gre ... blue\" 3 \"green\" 12 \"red\")\n",
      "...\n",
      "(\"Game\" 100 1 \"red\" 4 \"blue\" 2 \"green\" 6 \"red\" 2 \"green\" 11 \"blue\" 1 \" ... \"green\" 1 \"red\" 7 \"blue\"))\n",
      "----------------------------------------------------------------------------------------------------\n"
     ]
    },
    {
     "data": {
      "text/html": [
       "<code>'(1 (7 \"blue\") (5 \"red\") (10 \"red\") (7 \"blue\") (5 \"blue\") (4 \"green\") (15 \"red\") (4 \"green\") (6 \"red\") (7 \"blue\") (5 \"green\") (8 \"blue\") (4 \"red\") (5 \"red\") (4 \"blue\") (3 \"green\"))</code>"
      ],
      "text/plain": [
       "'(1 (7 \"blue\") (5 \"red\") (10 \"red\") (7 \"blue\") (5 \"blue\") (4 \"green\") (15 \"red\") (4 \"green\") (6 \"red\") (7 \"blue\") (5 \"green\") (8 \"blue\") (4 \"red\") (5 \"red\") (4 \"blue\") (3 \"green\"))"
      ]
     },
     "execution_count": 3,
     "metadata": {},
     "output_type": "execute_result"
    }
   ],
   "source": [
    "(define in (map (parallel-combine cons cadr (compose1 (curry chunk 2) (curry (flip drop) 2)))\n",
    "                (parse-aoc 2 atoms)))\n",
    "\n",
    "(car in)"
   ]
  },
  {
   "cell_type": "markdown",
   "id": "9ad4a0f3",
   "metadata": {},
   "source": [
    "As shown in that last line, we now have a list of lines where each line is of the form:\n",
    "```\n",
    "(<id> (<n> <color) (<n> <color>) ...)\n",
    "```\n",
    "We used `parallel-combine` there because we need to both retain the id, which we do with `cadr`:"
   ]
  },
  {
   "cell_type": "code",
   "execution_count": 4,
   "id": "1746f454",
   "metadata": {
    "scrolled": true
   },
   "outputs": [
    {
     "data": {
      "text/html": [
       "<code>2</code>"
      ],
      "text/plain": [
       "2"
      ]
     },
     "execution_count": 4,
     "metadata": {},
     "output_type": "execute_result"
    }
   ],
   "source": [
    "(define f cadr)\n",
    "(f '(\"Game\" 2 8 \"green\" 3 \"red\" 7 \"blue\" 6 \"red\"))"
   ]
  },
  {
   "cell_type": "markdown",
   "id": "e696a0a6",
   "metadata": {},
   "source": [
    "And we also need to create a list of pairs of numbers and colors. Which we do with:\n",
    "```\n",
    "(compose1 (curry chunk 2) (curry (flip drop) 2))\n",
    "```\n",
    "That's a lot, so let's break it down. First we just want to drop the first two items of the list, e.g.:"
   ]
  },
  {
   "cell_type": "code",
   "execution_count": 5,
   "id": "c36d42e6",
   "metadata": {},
   "outputs": [
    {
     "data": {
      "text/html": [
       "<code>'(8 \"green\" 3 \"red\" 7 \"blue\" 6 \"red\")</code>"
      ],
      "text/plain": [
       "'(8 \"green\" 3 \"red\" 7 \"blue\" 6 \"red\")"
      ]
     },
     "execution_count": 5,
     "metadata": {},
     "output_type": "execute_result"
    }
   ],
   "source": [
    "(drop '(\"Game\" 2 8 \"green\" 3 \"red\" 7 \"blue\" 6 \"red\") 2)"
   ]
  },
  {
   "cell_type": "markdown",
   "id": "9aea655f",
   "metadata": {},
   "source": [
    "Unfortunately, the parameter order for drop doesn't lend itself to partial application, so we use `flip` to flip the parameter order to have the list come last:"
   ]
  },
  {
   "cell_type": "code",
   "execution_count": 6,
   "id": "0acb1c62",
   "metadata": {},
   "outputs": [
    {
     "data": {
      "text/html": [
       "<code>'(8 \"green\" 3 \"red\" 7 \"blue\" 6 \"red\")</code>"
      ],
      "text/plain": [
       "'(8 \"green\" 3 \"red\" 7 \"blue\" 6 \"red\")"
      ]
     },
     "execution_count": 6,
     "metadata": {},
     "output_type": "execute_result"
    }
   ],
   "source": [
    "((flip drop) 2 '(\"Game\" 2 8 \"green\" 3 \"red\" 7 \"blue\" 6 \"red\"))"
   ]
  },
  {
   "cell_type": "markdown",
   "id": "87ad849f",
   "metadata": {},
   "source": [
    "We then use `curry` to create a partially applied function so we can compose it:"
   ]
  },
  {
   "cell_type": "code",
   "execution_count": 7,
   "id": "6311c191",
   "metadata": {},
   "outputs": [
    {
     "data": {
      "text/html": [
       "<code>'(8 \"green\" 3 \"red\" 7 \"blue\" 6 \"red\")</code>"
      ],
      "text/plain": [
       "'(8 \"green\" 3 \"red\" 7 \"blue\" 6 \"red\")"
      ]
     },
     "execution_count": 7,
     "metadata": {},
     "output_type": "execute_result"
    }
   ],
   "source": [
    "((curry (flip drop) 2) '(\"Game\" 2 8 \"green\" 3 \"red\" 7 \"blue\" 6 \"red\"))"
   ]
  },
  {
   "cell_type": "markdown",
   "id": "a40693e7",
   "metadata": {},
   "source": [
    "That provides the list we want to group into chunks. Again, we'll use `curry` to partially apply `chunk` with the argument 2:"
   ]
  },
  {
   "cell_type": "code",
   "execution_count": 8,
   "id": "d35c6494",
   "metadata": {},
   "outputs": [
    {
     "data": {
      "text/html": [
       "<code>'((8 \"green\") (3 \"red\") (7 \"blue\") (6 \"red\"))</code>"
      ],
      "text/plain": [
       "'((8 \"green\") (3 \"red\") (7 \"blue\") (6 \"red\"))"
      ]
     },
     "execution_count": 8,
     "metadata": {},
     "output_type": "execute_result"
    }
   ],
   "source": [
    "((curry chunk 2) '(8 \"green\" 3 \"red\" 7 \"blue\" 6 \"red\"))"
   ]
  },
  {
   "cell_type": "markdown",
   "id": "5a2be418",
   "metadata": {},
   "source": [
    "Composing those two functions gives us the function with which we can map over the input:"
   ]
  },
  {
   "cell_type": "code",
   "execution_count": 9,
   "id": "0f1afeae",
   "metadata": {
    "scrolled": true
   },
   "outputs": [
    {
     "data": {
      "text/html": [
       "<code>'((8 \"green\") (3 \"red\") (7 \"blue\") (6 \"red\"))</code>"
      ],
      "text/plain": [
       "'((8 \"green\") (3 \"red\") (7 \"blue\") (6 \"red\"))"
      ]
     },
     "execution_count": 9,
     "metadata": {},
     "output_type": "execute_result"
    }
   ],
   "source": [
    "(define g (compose1 (curry chunk 2) (curry (flip drop) 2)))\n",
    "(g '(\"Game\" 2 8 \"green\" 3 \"red\" 7 \"blue\" 6 \"red\"))"
   ]
  },
  {
   "cell_type": "markdown",
   "id": "9711b3ce",
   "metadata": {},
   "source": [
    "We now have our `f` and `g` functions as follows:\n",
    "```\n",
    "f = cadr\n",
    "g = (compose1 (curry chunk 2) (curry (flip drop) 2))\n",
    "```\n",
    "We'll call `f` with the line, and we'll call `g` with the line, and then combine those two results with `h`:\n",
    "```\n",
    "h = cons\n",
    "```\n",
    "The resulting combinator is:\n",
    "```\n",
    "(parallel-combine cons cadr (compose1 (curry chunk 2) (curry (flip drop) 2)\n",
    "```\n",
    "And the end result will be single list where the first element is the `id` and the rest of the list is pairs of `(<n> <color>)`:\n",
    "```\n",
    "'(1 (7 \"blue\") (5 \"red\") (10 \"red\") (7 \"blue\") ...)\n",
    "```"
   ]
  },
  {
   "cell_type": "markdown",
   "id": "ca446a1a",
   "metadata": {},
   "source": [
    "We only need a single function, `max-pixel`, for today's task. It will process a line, and return a 3-tuple of `(red green blue)` representing the maximum number for each of those colors:"
   ]
  },
  {
   "cell_type": "code",
   "execution_count": 10,
   "id": "f8f1bbed",
   "metadata": {},
   "outputs": [
    {
     "data": {
      "text/html": [
       "<code>'(10 7 4)</code>"
      ],
      "text/plain": [
       "'(10 7 4)"
      ]
     },
     "execution_count": 10,
     "metadata": {},
     "output_type": "execute_result"
    }
   ],
   "source": [
    "(define (max-pixel lst [red 0] [green 0] [blue 0])\n",
    "  (if (null? lst)\n",
    "      (list red green blue)\n",
    "      (match (car lst)\n",
    "        [ (list n \"red\")   (max-pixel (cdr lst) (max n red) green blue) ]\n",
    "        [ (list n \"green\") (max-pixel (cdr lst) red (max n green) blue) ]\n",
    "        [ (list n \"blue\")  (max-pixel (cdr lst) red green (max n blue)) ])))\n",
    "\n",
    "(max-pixel '((7 \"green\") (3 \"blue\") (9 \"red\") (4 \"blue\") (1 \"green\") (10 \"red\")))"
   ]
  },
  {
   "cell_type": "markdown",
   "id": "b2eea97c",
   "metadata": {},
   "source": [
    "With the above in place, we can now solve both parts. Here's the `part1` function:\n",
    "\n",
    "```\n",
    "(define (part1)\n",
    "  (define max-rgb '(12 13 14))\n",
    "  (~> (map (parallel-combine cons car (compose1 max-pixel cdr)) in)\n",
    "      (filter (compose1 (curry andmap >= max-rgb) cdr) _)\n",
    "      (map car _)\n",
    "      (list-sum _)))\n",
    "```\n",
    "Let's break that down. We'll make use of `parallel-combine` again, and convert the input lines into lines of the form `'(id red green blue)` where `red`, `green` and `blue` are the maximum values for those colors. "
   ]
  },
  {
   "cell_type": "code",
   "execution_count": 11,
   "id": "c06f7c17",
   "metadata": {},
   "outputs": [
    {
     "data": {
      "text/html": [
       "<code>'((1 15 5 8) (2 12 8 7) (3 11 7 9) (4 5 4 1) (5 17 8 10) (6 13 6 8) (7 6 14 5) (8 9 3 9) (9 8 9 8) (10 14 12 5))</code>"
      ],
      "text/plain": [
       "'((1 15 5 8) (2 12 8 7) (3 11 7 9) (4 5 4 1) (5 17 8 10) (6 13 6 8) (7 6 14 5) (8 9 3 9) (9 8 9 8) (10 14 12 5))"
      ]
     },
     "execution_count": 11,
     "metadata": {},
     "output_type": "execute_result"
    }
   ],
   "source": [
    "(define lst (map (parallel-combine cons car (compose1 max-pixel cdr)) in))\n",
    "\n",
    "(take lst 10)"
   ]
  },
  {
   "cell_type": "markdown",
   "id": "69985751",
   "metadata": {},
   "source": [
    "We then filter the list to retain only lines where the max color values don't exceed the specified limits:"
   ]
  },
  {
   "cell_type": "code",
   "execution_count": 12,
   "id": "4cbf5ba1",
   "metadata": {},
   "outputs": [
    {
     "data": {
      "text/html": [
       "<code>'((2 12 8 7) (3 11 7 9) (4 5 4 1))</code>"
      ],
      "text/plain": [
       "'((2 12 8 7) (3 11 7 9) (4 5 4 1))"
      ]
     },
     "execution_count": 12,
     "metadata": {},
     "output_type": "execute_result"
    }
   ],
   "source": [
    "(define max-rgb '(12 13 14))\n",
    "\n",
    "(define lst (filter (compose1 (curry andmap >= max-rgb) cdr) lst))\n",
    "\n",
    "(take lst 3)"
   ]
  },
  {
   "cell_type": "markdown",
   "id": "b6c99d6a",
   "metadata": {},
   "source": [
    "Next, we extract the ids:"
   ]
  },
  {
   "cell_type": "code",
   "execution_count": 13,
   "id": "e23fe416",
   "metadata": {},
   "outputs": [
    {
     "data": {
      "text/html": [
       "<code>'(2 3 4 8 9)</code>"
      ],
      "text/plain": [
       "'(2 3 4 8 9)"
      ]
     },
     "execution_count": 13,
     "metadata": {},
     "output_type": "execute_result"
    }
   ],
   "source": [
    "(define lst (map car lst))\n",
    "\n",
    "(take lst 5)"
   ]
  },
  {
   "cell_type": "markdown",
   "id": "910ee958",
   "metadata": {},
   "source": [
    "And sum them:"
   ]
  },
  {
   "cell_type": "code",
   "execution_count": 14,
   "id": "387e9365",
   "metadata": {},
   "outputs": [
    {
     "data": {
      "text/html": [
       "<code>2528</code>"
      ],
      "text/plain": [
       "2528"
      ]
     },
     "execution_count": 14,
     "metadata": {},
     "output_type": "execute_result"
    }
   ],
   "source": [
    "(list-sum lst)"
   ]
  },
  {
   "cell_type": "markdown",
   "id": "25960d3f",
   "metadata": {},
   "source": [
    "Part 2 is simpler, we just need to compute the max `(red green blue)` values for all of the lines, multiply those values together for each line, and sum all of those products:"
   ]
  },
  {
   "cell_type": "code",
   "execution_count": 15,
   "id": "e66218c6",
   "metadata": {},
   "outputs": [
    {
     "data": {
      "text/html": [
       "<code>67363</code>"
      ],
      "text/plain": [
       "67363"
      ]
     },
     "execution_count": 15,
     "metadata": {},
     "output_type": "execute_result"
    }
   ],
   "source": [
    "(define (part2)\n",
    "  (~> (map (compose1 max-pixel cdr) in)\n",
    "      (map list-prod _)\n",
    "      (list-sum)))\n",
    "\n",
    "(part2)"
   ]
  }
 ],
 "metadata": {
  "kernelspec": {
   "display_name": "Racket",
   "language": "racket",
   "name": "racket"
  },
  "language_info": {
   "codemirror_mode": "scheme",
   "file_extension": ".rkt",
   "mimetype": "text/x-racket",
   "name": "Racket",
   "pygments_lexer": "racket",
   "version": "8.8.0.5"
  }
 },
 "nbformat": 4,
 "nbformat_minor": 5
}
