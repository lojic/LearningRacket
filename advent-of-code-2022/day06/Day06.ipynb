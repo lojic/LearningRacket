{
 "cells": [
  {
   "cell_type": "code",
   "execution_count": 1,
   "id": "ae9ad977",
   "metadata": {},
   "outputs": [],
   "source": [
    "#lang iracket/lang #:require racket\n",
    "(require \"../advent.rkt\")"
   ]
  },
  {
   "cell_type": "markdown",
   "id": "bad113ad",
   "metadata": {},
   "source": [
    "## [Day 6](https://adventofcode.com/2022/day/6)\n",
    "\n",
    "**Tuning Trouble**\n",
    "\n",
    "Today's puzzle has **very** similar parts! For both parts, our input is a single string, and the task is to **determine how many characters we need to consume before finding a contiguous group of N unique characters**. The only difference is the value of `N`.\n",
    "\n",
    "As always, our first task is to parse the input:"
   ]
  },
  {
   "cell_type": "code",
   "execution_count": 2,
   "id": "d30befae",
   "metadata": {
    "scrolled": true
   },
   "outputs": [
    {
     "name": "stdout",
     "output_type": "stream",
     "text": [
      "----------------------------------------------------------------------------------------------------\n",
      "day06.txt -> 4096 chars, 1 lines; first 1 lines; last 1 lines:\n",
      "----------------------------------------------------------------------------------------------------\n",
      "pjbjvjtjljplppjssvtvwtwptptztltbtrrjgrjrzrqrjrbrhbrhrlllbpbdbbzqqgsqsh ... lhlhjnnbpdvnnfjrdfbdqmvcb\n",
      "...\n",
      "pjbjvjtjljplppjssvtvwtwptptztltbtrrjgrjrzrqrjrbrhbrhrlllbpbdbbzqqgsqsh ... lhlhjnnbpdvnnfjrdfbdqmvcb\n",
      "----------------------------------------------------------------------------------------------------\n",
      "(parse 6) -> 1 entries:\n",
      "----------------------------------------------------------------------------------------------------\n",
      "((#\\p #\\j #\\b #\\j #\\v #\\j #\\t #\\j #\\l #\\j #\\p #\\l #\\p #\\p #\\j #\\s #\\s # ...  #\\d #\\q #\\m #\\v #\\c #\\b))\n",
      "----------------------------------------------------------------------------------------------------\n"
     ]
    }
   ],
   "source": [
    "(define in (car (parse-aoc 6 string->list)))"
   ]
  },
  {
   "cell_type": "markdown",
   "id": "f4f089d7",
   "metadata": {},
   "source": [
    "By passing the `string->list` function to our parser, we'll parse each line into a list of `chars`; however, since `parse-aoc` expects to be parsing multiple lines of input, it returns a list of parsed lines, but we only have one, so we'll use the `car` function to return the first, and only, element, the list.\n",
    "\n",
    "Next, we'll need a function that searches for a group of `N` unique chars, and returns how many chars we had to consume to find it. **This function is the entire solution**, so I'll present the function, and the invocation for both parts, and then **break it down in detail afterward**:"
   ]
  },
  {
   "cell_type": "code",
   "execution_count": 3,
   "id": "8e3f0f54",
   "metadata": {},
   "outputs": [
    {
     "data": {
      "text/html": [
       "<code>1275</code>"
      ],
      "text/plain": [
       "1275"
      ]
     },
     "execution_count": 3,
     "metadata": {},
     "output_type": "execute_result"
    }
   ],
   "source": [
    "(define (unique-group-end n lst)\n",
    "  (~> (windows n lst)\n",
    "      (enumerate _ n)\n",
    "      (findf (compose not check-duplicates car) _)\n",
    "      cdr))\n",
    "\n",
    "(unique-group-end 4 in)  ; Part 1"
   ]
  },
  {
   "cell_type": "code",
   "execution_count": 4,
   "id": "e5a6ad79",
   "metadata": {
    "scrolled": true
   },
   "outputs": [
    {
     "data": {
      "text/html": [
       "<code>3605</code>"
      ],
      "text/plain": [
       "3605"
      ]
     },
     "execution_count": 4,
     "metadata": {},
     "output_type": "execute_result"
    }
   ],
   "source": [
    "(unique-group-end 14 in) ; Part 2"
   ]
  },
  {
   "cell_type": "markdown",
   "id": "4ac35ea7",
   "metadata": {},
   "source": [
    "Now let's look at each of the four parts in detail. First we'll define our `N` as 4, and provide an example list of chars:"
   ]
  },
  {
   "cell_type": "code",
   "execution_count": 5,
   "id": "d5f4eb09",
   "metadata": {},
   "outputs": [],
   "source": [
    "(define N 4)\n",
    "(define example-list (string->list \"abacbdef\"))"
   ]
  },
  {
   "cell_type": "markdown",
   "id": "e817d9e1",
   "metadata": {},
   "source": [
    "### First task\n",
    "\n",
    "The first task is to form a list of sliding windows of length `N` from the input. Our [advent.rkt](https://github.com/lojic/LearningRacket/blob/098768e2817ec855f66cb9e73d56a84a7bd6b95c/advent-of-code-2022/advent.rkt#L548-L559) module contains a `windows` function we can use. For example:"
   ]
  },
  {
   "cell_type": "code",
   "execution_count": 6,
   "id": "dac76cfe",
   "metadata": {},
   "outputs": [
    {
     "data": {
      "text/html": [
       "<code>'((#\\a #\\b #\\a #\\c) (#\\b #\\a #\\c #\\b) (#\\a #\\c #\\b #\\d) (#\\c #\\b #\\d #\\e) (#\\b #\\d #\\e #\\f))</code>"
      ],
      "text/plain": [
       "'((#\\a #\\b #\\a #\\c) (#\\b #\\a #\\c #\\b) (#\\a #\\c #\\b #\\d) (#\\c #\\b #\\d #\\e) (#\\b #\\d #\\e #\\f))"
      ]
     },
     "execution_count": 6,
     "metadata": {},
     "output_type": "execute_result"
    }
   ],
   "source": [
    "(define task1 (windows N example-list))\n",
    "task1"
   ]
  },
  {
   "cell_type": "markdown",
   "id": "0eb701b6",
   "metadata": {},
   "source": [
    "### Second task\n",
    "Our second task is to `enumerate` the windows so we'll know the position of the group we find. `enumerate` usually begins counting at 0, but by passing in `N` as the optional second argument, we'll start there instead:"
   ]
  },
  {
   "cell_type": "code",
   "execution_count": 7,
   "id": "491e4d66",
   "metadata": {},
   "outputs": [
    {
     "data": {
      "text/html": [
       "<code>'(((#\\a #\\b #\\a #\\c) . 4) ((#\\b #\\a #\\c #\\b) . 5) ((#\\a #\\c #\\b #\\d) . 6) ((#\\c #\\b #\\d #\\e) . 7) ((#\\b #\\d #\\e #\\f) . 8))</code>"
      ],
      "text/plain": [
       "'(((#\\a #\\b #\\a #\\c) . 4) ((#\\b #\\a #\\c #\\b) . 5) ((#\\a #\\c #\\b #\\d) . 6) ((#\\c #\\b #\\d #\\e) . 7) ((#\\b #\\d #\\e #\\f) . 8))"
      ]
     },
     "execution_count": 7,
     "metadata": {},
     "output_type": "execute_result"
    }
   ],
   "source": [
    "(define task2 (enumerate task1 N))\n",
    "task2"
   ]
  },
  {
   "cell_type": "markdown",
   "id": "7940a038",
   "metadata": {},
   "source": [
    "### Third task\n",
    "Our third task is the meaty one - find the first group of unique chars. The `findf` function accepts a predicate and a list, and returns the first element of the list for which the predicate returns true. Remember, because of our call to `enumerate`, our list elements are `pairs`. The first element of each pair is our group of chars (a list), and the second element is our position. So, we'll form our predicate as a composition of 3 functions.\n",
    "\n",
    "*First* we'll use `car`:"
   ]
  },
  {
   "cell_type": "code",
   "execution_count": 8,
   "id": "e0587438",
   "metadata": {},
   "outputs": [
    {
     "data": {
      "text/html": [
       "<code>'(#\\a #\\b #\\a #\\c)</code>"
      ],
      "text/plain": [
       "'(#\\a #\\b #\\a #\\c)"
      ]
     },
     "execution_count": 8,
     "metadata": {},
     "output_type": "execute_result"
    }
   ],
   "source": [
    "(car '((#\\a #\\b #\\a #\\c) . 4))"
   ]
  },
  {
   "cell_type": "markdown",
   "id": "58fea681",
   "metadata": {},
   "source": [
    "*Second* we'll use Racket's `check-duplicates` to indicate whether the list contains any duplicates. **Note:** in Racket, the value `#f` is `false` and all other values are `true`. The `check-duplicates` either returns the first duplicate element in the list, if there is one, or `#f` if there are no duplicates:"
   ]
  },
  {
   "cell_type": "code",
   "execution_count": 9,
   "id": "b24fb5a3",
   "metadata": {},
   "outputs": [
    {
     "data": {
      "text/html": [
       "<code>#\\a</code>"
      ],
      "text/plain": [
       "#\\a"
      ]
     },
     "execution_count": 9,
     "metadata": {},
     "output_type": "execute_result"
    }
   ],
   "source": [
    "(check-duplicates '(#\\a #\\b #\\a #\\c))"
   ]
  },
  {
   "cell_type": "markdown",
   "id": "63bd5d0d",
   "metadata": {},
   "source": [
    "Ok, we have a duplicate, the char `#\\a`, so the result of `step3` is a *truthy* value.\n",
    "\n",
    "*Third* we'll use the `not` function since we want to know which groups do **not** have duplicates:"
   ]
  },
  {
   "cell_type": "code",
   "execution_count": 10,
   "id": "7bbecbd4",
   "metadata": {},
   "outputs": [
    {
     "data": {
      "text/html": [
       "<code>#f</code>"
      ],
      "text/plain": [
       "#f"
      ]
     },
     "execution_count": 10,
     "metadata": {},
     "output_type": "execute_result"
    }
   ],
   "source": [
    "(not #\\a)"
   ]
  },
  {
   "cell_type": "markdown",
   "id": "4e32002d",
   "metadata": {},
   "source": [
    "To compose a single predicate out of these 3 functions, we use `compose` as follows:"
   ]
  },
  {
   "cell_type": "code",
   "execution_count": 11,
   "id": "6a3342da",
   "metadata": {},
   "outputs": [
    {
     "data": {
      "text/html": [
       "<code>#f</code>"
      ],
      "text/plain": [
       "#f"
      ]
     },
     "execution_count": 11,
     "metadata": {},
     "output_type": "execute_result"
    }
   ],
   "source": [
    "((compose not check-duplicates car) '((#\\a #\\b #\\a #\\c) . 4))"
   ]
  },
  {
   "cell_type": "markdown",
   "id": "0b50263e",
   "metadata": {},
   "source": [
    "Here is the resulting **third task**:"
   ]
  },
  {
   "cell_type": "code",
   "execution_count": 12,
   "id": "1225b4c0",
   "metadata": {},
   "outputs": [
    {
     "data": {
      "text/html": [
       "<code>'((#\\a #\\c #\\b #\\d) . 6)</code>"
      ],
      "text/plain": [
       "'((#\\a #\\c #\\b #\\d) . 6)"
      ]
     },
     "execution_count": 12,
     "metadata": {},
     "output_type": "execute_result"
    }
   ],
   "source": [
    "(define task3 (findf (compose not check-duplicates car) task2))\n",
    "task3"
   ]
  },
  {
   "cell_type": "markdown",
   "id": "f5aaaa18",
   "metadata": {},
   "source": [
    "### Fourth task\n",
    "Our fourth task is simply to grab the second element of the resulting pair with the `cdr` function:"
   ]
  },
  {
   "cell_type": "code",
   "execution_count": 13,
   "id": "fe6eac39",
   "metadata": {},
   "outputs": [
    {
     "data": {
      "text/html": [
       "<code>6</code>"
      ],
      "text/plain": [
       "6"
      ]
     },
     "execution_count": 13,
     "metadata": {},
     "output_type": "execute_result"
    }
   ],
   "source": [
    "(define task4 (cdr task3))\n",
    "task4"
   ]
  },
  {
   "cell_type": "markdown",
   "id": "1520f3a3",
   "metadata": {},
   "source": [
    "Or, using our actual function to perform the entire pipeline:"
   ]
  },
  {
   "cell_type": "code",
   "execution_count": 14,
   "id": "a216d975",
   "metadata": {},
   "outputs": [
    {
     "data": {
      "text/html": [
       "<code>6</code>"
      ],
      "text/plain": [
       "6"
      ]
     },
     "execution_count": 14,
     "metadata": {},
     "output_type": "execute_result"
    }
   ],
   "source": [
    "(unique-group-end 4 example-list)"
   ]
  },
  {
   "cell_type": "markdown",
   "id": "6f3987f7",
   "metadata": {},
   "source": [
    "### Summary\n",
    "In summary, we do the following:\n",
    "\n",
    "1. For sliding windows of length `N`\n",
    "2. Enumerate these window elements with a position\n",
    "3. Find the first window that meets our criteria\n",
    "4. Extract the position of the resulting window\n",
    "\n",
    "I'm pleased with how Racket allows me to express today's solution. Looking forward to tomorrow!"
   ]
  }
 ],
 "metadata": {
  "kernelspec": {
   "display_name": "Racket",
   "language": "racket",
   "name": "racket"
  },
  "language_info": {
   "codemirror_mode": "scheme",
   "file_extension": ".rkt",
   "mimetype": "text/x-racket",
   "name": "Racket",
   "pygments_lexer": "racket",
   "version": "8.2.0.8"
  }
 },
 "nbformat": 4,
 "nbformat_minor": 5
}
