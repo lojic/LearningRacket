{
 "cells": [
  {
   "cell_type": "code",
   "execution_count": 1,
   "id": "ae9ad977",
   "metadata": {},
   "outputs": [],
   "source": [
    "#lang iracket/lang #:require racket\n",
    "(require \"../advent.rkt\")"
   ]
  },
  {
   "cell_type": "markdown",
   "id": "bad113ad",
   "metadata": {},
   "source": [
    "## [Day 4](https://adventofcode.com/2022/day/4) - Part 1\n",
    "\n",
    "**Camp Cleanup**\n",
    "\n",
    "Before we get started with today's puzzle, I have some **cleanup** of my own to do!\n",
    "\n",
    "**1. all-from-out**\n",
    "\n",
    "At the beginning of each day, the second line of the prelude above is:\n",
    "\n",
    "```\n",
    "(require \"../advent.rkt\")\n",
    "```\n",
    "\n",
    "This is Racket's way of importing a module. Rather than also having to import common modules I typically use, such as the `threading` module, e.g. `(require \"../advent.rkt\" threading)`, I'd like to be able to just import my `advent.rkt` module and get access to `threading` as well. I learned a long time ago that the answer to the question, \"Can Racket do \\<X\\>\", is almost always, \"yes\", and this is no exception; it's accomplished with the `all-from-out` macro. My `advent.rkt` module already had `(require threading)` for it's own purposes, so I just needed a directive to have it export all of the exports from `threading` as if they were defined in `advent.rkt`:\n",
    "\n",
    "```\n",
    "(provide (all-from-out threading))\n",
    "```\n",
    "\n",
    "**2. A parsing fix**\n",
    "\n",
    "One of the parsers I got from Peter Norvig is the `numbers` parser, and it allows parsing input such as `1,2 | -3,4` into a list of numbers, `'(1 2 -3 4)`; however, today's input was like `49-51,31-50`, and the `numbers` parser would output `'(49 -51 31 -50`. The `-` chars were meant to be separators, not negative signs. The original `numbers` parser used the regex pattern `-?[0-9.]+`. Modifying the regex pattern to be `((?<![0-9])-)?[0-9.]+` instead, which uses a **negative lookbehind** pattern, correctly outputs `'(49 51 31 50)`.\n",
    "\n",
    "The **negative lookbehind** pattern `(?<![0-9])` is used in front of the `-`, so that the `-` will *only* match if it's **not** preceded by a numeric digit. This is a **very** handy regex technique.\n",
    "\n",
    "Ok, with the modified `numbers` parser in place, let's parse today's input!"
   ]
  },
  {
   "cell_type": "code",
   "execution_count": 2,
   "id": "bbf936c0",
   "metadata": {
    "scrolled": true
   },
   "outputs": [
    {
     "name": "stdout",
     "output_type": "stream",
     "text": [
      "----------------------------------------------------------------------------------------------------\n",
      "day04.txt -> 11358 chars, 1000 lines; first 3 lines; last 2 lines:\n",
      "----------------------------------------------------------------------------------------------------\n",
      "49-51,31-50\n",
      "96-99,2-95\n",
      "2-62,62-98\n",
      "...\n",
      "32-38,33-71\n",
      "3-5,4-98\n",
      "----------------------------------------------------------------------------------------------------\n",
      "(parse 4) -> 1000 entries:\n",
      "----------------------------------------------------------------------------------------------------\n",
      "((49 51 31 50)\n",
      "(96 99 2 95)\n",
      "...\n",
      "(3 5 4 98))\n",
      "----------------------------------------------------------------------------------------------------\n"
     ]
    }
   ],
   "source": [
    "(define in (parse-aoc 4 numbers))"
   ]
  },
  {
   "cell_type": "markdown",
   "id": "164a8f84",
   "metadata": {},
   "source": [
    "Great, it appears to be working perfectly! For Part 1, we need to determine if one elf's range of section numbers is a subset/superset of the other elf's range. The first thing that popped into my head was to simply compare range endpoints. Since parsing produced a list of 4 numbers for each elf pair, I need to **destructure** the list, and Racket's `match-let` is handy for this. The match pattern of `(list a b c d)` both matches and binds the values of the list's elements:"
   ]
  },
  {
   "cell_type": "code",
   "execution_count": 3,
   "id": "3f9a74e3",
   "metadata": {},
   "outputs": [],
   "source": [
    "(define (overlap? lst)\n",
    "  (match-let ([(list a b c d) lst])\n",
    "    (or (and (<= a c) (>= b d))\n",
    "        (and (<= c a) (>= d b)))))"
   ]
  },
  {
   "cell_type": "markdown",
   "id": "cbdc8b98",
   "metadata": {},
   "source": [
    "With this `overlap?` predicate, all that remains is to `count` the occurrences:"
   ]
  },
  {
   "cell_type": "code",
   "execution_count": 4,
   "id": "52ecd7ba",
   "metadata": {},
   "outputs": [
    {
     "data": {
      "text/html": [
       "<code>453</code>"
      ],
      "text/plain": [
       "453"
      ]
     },
     "execution_count": 4,
     "metadata": {},
     "output_type": "execute_result"
    }
   ],
   "source": [
    "(count overlap? in)"
   ]
  },
  {
   "cell_type": "markdown",
   "id": "f70a0695",
   "metadata": {},
   "source": [
    "## Part 2\n",
    "For Part 2, rather than looking for subsets/supersets, we just need to determine if the ranges overlap at all. Rather than modify my approach for Part 1 for this case, it seemed simpler to me to just convert the ranges to sets and determine if the intersection is non-empty:"
   ]
  },
  {
   "cell_type": "code",
   "execution_count": 5,
   "id": "cfbb1cdb",
   "metadata": {},
   "outputs": [],
   "source": [
    "(define (overlap-partial? lst)\n",
    "  (match-let ([(list a b c d) lst])\n",
    "    (let ([ one (inclusive-range a b) ]\n",
    "          [ two (inclusive-range c d) ])\n",
    "      (not (set-empty? (set-intersect one two))))))"
   ]
  },
  {
   "cell_type": "markdown",
   "id": "e93c4fcc",
   "metadata": {},
   "source": [
    "Again, all we need to do now is `count` the occurences:"
   ]
  },
  {
   "cell_type": "code",
   "execution_count": 6,
   "id": "6d857926",
   "metadata": {},
   "outputs": [
    {
     "data": {
      "text/html": [
       "<code>919</code>"
      ],
      "text/plain": [
       "919"
      ]
     },
     "execution_count": 6,
     "metadata": {},
     "output_type": "execute_result"
    }
   ],
   "source": [
    "(count overlap-partial? in)"
   ]
  },
  {
   "cell_type": "markdown",
   "id": "4a654a9a",
   "metadata": {},
   "source": [
    "Today was enjoyable, the hammer has yet to drop on us with a tough puzzle, but it will!"
   ]
  },
  {
   "cell_type": "markdown",
   "id": "a919bcfb",
   "metadata": {},
   "source": [
    "## Refactor\n",
    "Now, with the hindsight of having seen both parts, how would I construct a solution? Assuming each elf's range is a `set`, for Part 1, we need to determine if one range is a subset of another. For Part 2, we need to determine if the intersection of the two sets is non-empty. Let's create a predicate for each part and a common `need-reorg?` function:"
   ]
  },
  {
   "cell_type": "code",
   "execution_count": 7,
   "id": "fa526b55",
   "metadata": {},
   "outputs": [],
   "source": [
    "(define (part1? a b) (or (subset? a b) (subset? b a)))\n",
    "\n",
    "(define (part2? a b) (not (set-empty? (set-intersect a b))))\n",
    "\n",
    "(define ((need-reorg? part?) lst)\n",
    "  (match-let ([(list a b c d) lst])\n",
    "    (part? (inclusive-range a b) (inclusive-range c d))))  "
   ]
  },
  {
   "cell_type": "markdown",
   "id": "c1b3dd97",
   "metadata": {},
   "source": [
    "Now we can count the occurences for each part:"
   ]
  },
  {
   "cell_type": "code",
   "execution_count": 8,
   "id": "8b73e739",
   "metadata": {},
   "outputs": [
    {
     "data": {
      "text/html": [
       "<code>453</code>"
      ],
      "text/plain": [
       "453"
      ]
     },
     "execution_count": 8,
     "metadata": {},
     "output_type": "execute_result"
    }
   ],
   "source": [
    "(count (need-reorg? part1?) in)"
   ]
  },
  {
   "cell_type": "code",
   "execution_count": 9,
   "id": "15edb9f7",
   "metadata": {},
   "outputs": [
    {
     "data": {
      "text/html": [
       "<code>919</code>"
      ],
      "text/plain": [
       "919"
      ]
     },
     "execution_count": 9,
     "metadata": {},
     "output_type": "execute_result"
    }
   ],
   "source": [
    "(count (need-reorg? part2?) in)"
   ]
  }
 ],
 "metadata": {
  "kernelspec": {
   "display_name": "Racket",
   "language": "racket",
   "name": "racket"
  },
  "language_info": {
   "codemirror_mode": "scheme",
   "file_extension": ".rkt",
   "mimetype": "text/x-racket",
   "name": "Racket",
   "pygments_lexer": "racket",
   "version": "8.2.0.8"
  }
 },
 "nbformat": 4,
 "nbformat_minor": 5
}
