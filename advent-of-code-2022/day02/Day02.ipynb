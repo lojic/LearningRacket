{
 "cells": [
  {
   "cell_type": "code",
   "execution_count": 1,
   "id": "ae9ad977",
   "metadata": {},
   "outputs": [],
   "source": [
    "#lang iracket/lang #:require racket\n",
    "(require \"../advent.rkt\")"
   ]
  },
  {
   "cell_type": "markdown",
   "id": "bad113ad",
   "metadata": {},
   "source": [
    "## [Day 2](https://adventofcode.com/2022/day/2) - Part 1\n",
    "\n",
    "**Rock, Paper, Scissors**\n",
    "\n",
    "For example, suppose you were given the following strategy guide:\n",
    "\n",
    "```\n",
    "A Y\n",
    "B X\n",
    "C Z\n",
    "```\n",
    "\n",
    "We're told that A=Rock, B=Paper and C=Scissors, and it's proposed that X=Rock, Y=Paper and Z=Scissors.\n",
    "\n",
    "We're also told the score is computed as follows: add the score of the shape (1 for Rock, 2 for Paper and 3 for Scissors) to the outcome (0 if we lost, 3 if a draw and 6 if we won).\n",
    "\n",
    "**What would your total score be if everything goes exactly according to your strategy guide?**"
   ]
  },
  {
   "cell_type": "code",
   "execution_count": 2,
   "id": "bbf936c0",
   "metadata": {
    "scrolled": false
   },
   "outputs": [
    {
     "name": "stdout",
     "output_type": "stream",
     "text": [
      "----------------------------------------------------------------------------------------------------\n",
      "day02.txt -> 10000 chars, 2500 lines; first 3 lines; last 2 lines:\n",
      "----------------------------------------------------------------------------------------------------\n",
      "B Z\n",
      "C Z\n",
      "B X\n",
      "...\n",
      "C Y\n",
      "B Z\n",
      "----------------------------------------------------------------------------------------------------\n",
      "(parse 2) -> 2500 entries:\n",
      "----------------------------------------------------------------------------------------------------\n",
      "((#\\B #\\Z)\n",
      "(#\\C #\\Z)\n",
      "...\n",
      "(#\\B #\\Z))\n",
      "----------------------------------------------------------------------------------------------------\n"
     ]
    }
   ],
   "source": [
    "(define in (parse-aoc 2 chars))"
   ]
  },
  {
   "cell_type": "markdown",
   "id": "fe449c46",
   "metadata": {},
   "source": [
    "Parsing gives us a list of pairs of plays e.g. player 1 plays A=Rock, player 2 plays Y=Paper, etc. Let's define a function that maps a letter to a shape:"
   ]
  },
  {
   "cell_type": "code",
   "execution_count": 3,
   "id": "fbdbe240",
   "metadata": {},
   "outputs": [
    {
     "data": {
      "text/html": [
       "<code>'paper</code>"
      ],
      "text/plain": [
       "'paper"
      ]
     },
     "execution_count": 3,
     "metadata": {},
     "output_type": "execute_result"
    }
   ],
   "source": [
    "(define (char->shape c)\n",
    "  (match c\n",
    "    [ #\\A 'rock     ]\n",
    "    [ #\\X 'rock     ]\n",
    "    [ #\\B 'paper    ]\n",
    "    [ #\\Y 'paper    ]\n",
    "    [ #\\C 'scissors ]\n",
    "    [ #\\Z 'scissors ]))\n",
    "\n",
    "(char->shape #\\Y)"
   ]
  },
  {
   "cell_type": "markdown",
   "id": "b6b2c656",
   "metadata": {},
   "source": [
    "Determine the score of a shape:"
   ]
  },
  {
   "cell_type": "code",
   "execution_count": 4,
   "id": "1cdca248",
   "metadata": {},
   "outputs": [
    {
     "data": {
      "text/html": [
       "<code>3</code>"
      ],
      "text/plain": [
       "3"
      ]
     },
     "execution_count": 4,
     "metadata": {},
     "output_type": "execute_result"
    }
   ],
   "source": [
    "(define (shape-score shape)\n",
    "  (match shape\n",
    "    [ 'rock     1 ]\n",
    "    [ 'paper    2 ]\n",
    "    [ 'scissors 3 ]))\n",
    "\n",
    "(shape-score 'scissors)"
   ]
  },
  {
   "cell_type": "markdown",
   "id": "0f604225",
   "metadata": {},
   "source": [
    "Determine an outcome:"
   ]
  },
  {
   "cell_type": "code",
   "execution_count": 5,
   "id": "f4558809",
   "metadata": {},
   "outputs": [
    {
     "data": {
      "text/html": [
       "<code>'win</code>"
      ],
      "text/plain": [
       "'win"
      ]
     },
     "execution_count": 5,
     "metadata": {},
     "output_type": "execute_result"
    }
   ],
   "source": [
    "(define (outcome us them)\n",
    "  (match (cons us them)\n",
    "   [ '(rock     . scissors) 'win  ]\n",
    "   [ '(rock     . rock)     'draw ]\n",
    "   [ '(rock     . paper)    'loss ]\n",
    "   [ '(paper    . rock)     'win  ]\n",
    "   [ '(paper    . paper)    'draw ]\n",
    "   [ '(paper    . scissors) 'loss ]\n",
    "   [ '(scissors . paper)    'win  ]\n",
    "   [ '(scissors . scissors) 'draw ]\n",
    "   [ '(scissors . rock)     'loss ]))         \n",
    "\n",
    "(outcome 'paper 'rock)          "
   ]
  },
  {
   "cell_type": "markdown",
   "id": "2e9b8335",
   "metadata": {},
   "source": [
    "Determine the score of an outcome:"
   ]
  },
  {
   "cell_type": "code",
   "execution_count": 6,
   "id": "492af16a",
   "metadata": {},
   "outputs": [
    {
     "data": {
      "text/html": [
       "<code>6</code>"
      ],
      "text/plain": [
       "6"
      ]
     },
     "execution_count": 6,
     "metadata": {},
     "output_type": "execute_result"
    }
   ],
   "source": [
    "(define (outcome-score outcome)\n",
    "  (match outcome\n",
    "    [ 'loss 0 ]\n",
    "    [ 'draw 3 ]\n",
    "    [ 'win  6 ]))\n",
    "\n",
    "(outcome-score 'win)"
   ]
  },
  {
   "cell_type": "markdown",
   "id": "35b38590",
   "metadata": {},
   "source": [
    "Let's create a `round` function that accepts a list of characters from the input, e.g. (them us), and computes the score, given the outcome:"
   ]
  },
  {
   "cell_type": "code",
   "execution_count": 7,
   "id": "9aec0a90",
   "metadata": {},
   "outputs": [
    {
     "data": {
      "text/html": [
       "<code>'(8 1 6)</code>"
      ],
      "text/plain": [
       "'(8 1 6)"
      ]
     },
     "execution_count": 7,
     "metadata": {},
     "output_type": "execute_result"
    }
   ],
   "source": [
    "(define (round pair)\n",
    "  (let ([ them (char->shape (first pair))  ]\n",
    "        [ us   (char->shape (second pair)) ])\n",
    "    (+ (shape-score us)\n",
    "       (outcome-score (outcome us them)))))\n",
    "\n",
    "(list (round '(#\\A #\\Y))\n",
    "      (round '(#\\B #\\X))\n",
    "      (round '(#\\C #\\Z)))"
   ]
  },
  {
   "cell_type": "markdown",
   "id": "a7638ef3",
   "metadata": {},
   "source": [
    "The hard part is done, now all we have to do is fold the `+` and `round` functions over the list:"
   ]
  },
  {
   "cell_type": "code",
   "execution_count": 8,
   "id": "d877d2c3",
   "metadata": {},
   "outputs": [
    {
     "data": {
      "text/html": [
       "<code>12458</code>"
      ],
      "text/plain": [
       "12458"
      ]
     },
     "execution_count": 8,
     "metadata": {},
     "output_type": "execute_result"
    }
   ],
   "source": [
    "(foldl (λ (pair sum) (+ (round pair) sum)) ; function to fold\n",
    "       0                                   ; initial value\n",
    "       in)                                 ; list"
   ]
  },
  {
   "cell_type": "markdown",
   "id": "27e2eefb",
   "metadata": {},
   "source": [
    "## Part 2\n",
    "> The Elf finishes helping with the tent and sneaks back over to you. \"Anyway, the second column says how the round needs to end: X means you need to lose, Y means you need to end the round in a draw, and Z means you need to win. Good luck!\"\n",
    "\n",
    "Ok, it looks like we'll need a function to map the second column to an expected outcome:"
   ]
  },
  {
   "cell_type": "code",
   "execution_count": 9,
   "id": "35f55ced",
   "metadata": {},
   "outputs": [
    {
     "data": {
      "text/html": [
       "<code>'draw</code>"
      ],
      "text/plain": [
       "'draw"
      ]
     },
     "execution_count": 9,
     "metadata": {},
     "output_type": "execute_result"
    }
   ],
   "source": [
    "(define (expected-outcome c)\n",
    "  (match c\n",
    "    [ #\\X 'loss ]\n",
    "    [ #\\Y 'draw ]\n",
    "    [ #\\Z 'win  ]))\n",
    "\n",
    "(expected-outcome #\\Y)"
   ]
  },
  {
   "cell_type": "markdown",
   "id": "675174ee",
   "metadata": {},
   "source": [
    "And, we'll need a function that returns a shape for us to play given the other player's shape and the expected outcome. Since we already have a function to return an outcome given both players' choices, we'll just look through the list of 3 shapes to find the right one:"
   ]
  },
  {
   "cell_type": "code",
   "execution_count": 10,
   "id": "2d773d9a",
   "metadata": {},
   "outputs": [
    {
     "data": {
      "text/html": [
       "<code>'rock</code>"
      ],
      "text/plain": [
       "'rock"
      ]
     },
     "execution_count": 10,
     "metadata": {},
     "output_type": "execute_result"
    }
   ],
   "source": [
    "(define (expected-shape pair)\n",
    "  (let ([ shapes  (map char->shape '(#\\A #\\B #\\C)) ]\n",
    "        [ them    (char->shape (first pair))       ]\n",
    "        [ desired (expected-outcome (second pair)) ])\n",
    "    (findf (λ (shape)\n",
    "              (eq? desired (outcome shape them)))\n",
    "           shapes)))\n",
    "\n",
    "(expected-shape '(#\\A #\\Y))"
   ]
  },
  {
   "cell_type": "markdown",
   "id": "5d26a43b",
   "metadata": {},
   "source": [
    "We'll redefine the `round` function with the new information from part 2:"
   ]
  },
  {
   "cell_type": "code",
   "execution_count": 11,
   "id": "4920e261",
   "metadata": {},
   "outputs": [
    {
     "data": {
      "text/html": [
       "<code>'(4 1 7)</code>"
      ],
      "text/plain": [
       "'(4 1 7)"
      ]
     },
     "execution_count": 11,
     "metadata": {},
     "output_type": "execute_result"
    }
   ],
   "source": [
    "(define (round pair)\n",
    "  (let ([ outcome (expected-outcome (second pair)) ]\n",
    "        [ them    (char->shape (first pair))       ]\n",
    "        [ us      (expected-shape pair)            ])\n",
    "    (+ (shape-score us)\n",
    "       (outcome-score outcome))))\n",
    "\n",
    "(list (round '(#\\A #\\Y))\n",
    "      (round '(#\\B #\\X))\n",
    "      (round '(#\\C #\\Z)))"
   ]
  },
  {
   "cell_type": "markdown",
   "id": "8a4c02ec",
   "metadata": {},
   "source": [
    "The fold for part 2 is identical, given the new `round`:"
   ]
  },
  {
   "cell_type": "code",
   "execution_count": 12,
   "id": "859eddcb",
   "metadata": {},
   "outputs": [
    {
     "data": {
      "text/html": [
       "<code>12683</code>"
      ],
      "text/plain": [
       "12683"
      ]
     },
     "execution_count": 12,
     "metadata": {},
     "output_type": "execute_result"
    }
   ],
   "source": [
    "(foldl (λ (pair sum) (+ (round pair) sum)) ; function to fold\n",
    "       0                                   ; initial value\n",
    "       in)                                 ; list"
   ]
  },
  {
   "cell_type": "markdown",
   "id": "ab94b999",
   "metadata": {},
   "source": [
    "## A much simpler solution\n",
    "[Todd Ginsberg](https://todd.ginsberg.com/post/advent-of-code/2022/day2/) used a much simpler solution, and it was a good reminder for me to look for similar opportunities in the future days!"
   ]
  },
  {
   "cell_type": "code",
   "execution_count": 13,
   "id": "4bd45f69",
   "metadata": {},
   "outputs": [
    {
     "data": {
      "text/html": [
       "<code>12458</code>"
      ],
      "text/plain": [
       "12458"
      ]
     },
     "execution_count": 13,
     "metadata": {},
     "output_type": "execute_result"
    }
   ],
   "source": [
    ";; Part 1\n",
    "(for/sum ([ pair in ])\n",
    "  (match pair\n",
    "    [ '(#\\A #\\X) 4 ]\n",
    "    [ '(#\\A #\\Y) 8 ]\n",
    "    [ '(#\\A #\\Z) 3 ]\n",
    "    [ '(#\\B #\\X) 1 ]\n",
    "    [ '(#\\B #\\Y) 5 ]\n",
    "    [ '(#\\B #\\Z) 9 ]\n",
    "    [ '(#\\C #\\X) 7 ]\n",
    "    [ '(#\\C #\\Y) 2 ]\n",
    "    [ '(#\\C #\\Z) 6 ]))"
   ]
  },
  {
   "cell_type": "code",
   "execution_count": 14,
   "id": "9d2aba6f",
   "metadata": {},
   "outputs": [
    {
     "data": {
      "text/html": [
       "<code>12683</code>"
      ],
      "text/plain": [
       "12683"
      ]
     },
     "execution_count": 14,
     "metadata": {},
     "output_type": "execute_result"
    }
   ],
   "source": [
    ";; Part 2\n",
    "(for/sum ([ pair in ])\n",
    "  (match pair\n",
    "    [ '(#\\A #\\X) 3 ]\n",
    "    [ '(#\\A #\\Y) 4 ]\n",
    "    [ '(#\\A #\\Z) 8 ]\n",
    "    [ '(#\\B #\\X) 1 ]\n",
    "    [ '(#\\B #\\Y) 5 ]\n",
    "    [ '(#\\B #\\Z) 9 ]\n",
    "    [ '(#\\C #\\X) 2 ]\n",
    "    [ '(#\\C #\\Y) 6 ]\n",
    "    [ '(#\\C #\\Z) 7 ]))"
   ]
  }
 ],
 "metadata": {
  "kernelspec": {
   "display_name": "Racket",
   "language": "racket",
   "name": "racket"
  },
  "language_info": {
   "codemirror_mode": "scheme",
   "file_extension": ".rkt",
   "mimetype": "text/x-racket",
   "name": "Racket",
   "pygments_lexer": "racket",
   "version": "8.2.0.8"
  }
 },
 "nbformat": 4,
 "nbformat_minor": 5
}
