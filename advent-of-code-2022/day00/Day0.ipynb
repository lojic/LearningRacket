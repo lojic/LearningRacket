{
 "cells": [
  {
   "cell_type": "markdown",
   "id": "34882261",
   "metadata": {},
   "source": [
    "# Last year's support code\n",
    "It's hard to anticipate what might be needed ahead of time, but here is some code I've used in past years. All of the support code is in the `advent.rkt` file. The actual code is fully commented, and most of the functions have contracts describing their type signatures, but I'll strip that out for this post for brevity reasons, and supply example invocations for each function instead:"
   ]
  },
  {
   "cell_type": "code",
   "execution_count": 1,
   "id": "6d885398",
   "metadata": {},
   "outputs": [],
   "source": [
    "#lang iracket/lang #:require racket ; The IRacket notebook way of stating:  #lang racket\n",
    "\n",
    "(require racket/generator\n",
    "         threading)"
   ]
  },
  {
   "cell_type": "markdown",
   "id": "36a10a42",
   "metadata": {},
   "source": [
    "## point"
   ]
  },
  {
   "cell_type": "code",
   "execution_count": 2,
   "id": "61404f57",
   "metadata": {},
   "outputs": [],
   "source": [
    "(struct point (x y z) #:transparent)\n",
    "\n",
    "(define (point-add p1 p2)\n",
    "  (point (+ (point-x p1) (point-x p2))\n",
    "         (+ (point-y p1) (point-y p2))\n",
    "         (+ (point-z p1) (point-z p2))))"
   ]
  },
  {
   "cell_type": "code",
   "execution_count": 3,
   "id": "c8f4b0ff",
   "metadata": {},
   "outputs": [
    {
     "data": {
      "text/html": [
       "<code>(point 3 5 7)</code>"
      ],
      "text/plain": [
       "(point 3 5 7)"
      ]
     },
     "execution_count": 3,
     "metadata": {},
     "output_type": "execute_result"
    }
   ],
   "source": [
    "(point-add (point 1 2 3) (point 2 3 4))"
   ]
  },
  {
   "cell_type": "code",
   "execution_count": 4,
   "id": "54951f53",
   "metadata": {},
   "outputs": [],
   "source": [
    "(define (point-sub p1 p2)\n",
    "  (point (- (point-x p1) (point-x p2))\n",
    "         (- (point-y p1) (point-y p2))\n",
    "         (- (point-z p1) (point-z p2))))"
   ]
  },
  {
   "cell_type": "code",
   "execution_count": 5,
   "id": "6326476a",
   "metadata": {},
   "outputs": [
    {
     "data": {
      "text/html": [
       "<code>(point -1 8 3)</code>"
      ],
      "text/plain": [
       "(point -1 8 3)"
      ]
     },
     "execution_count": 5,
     "metadata": {},
     "output_type": "execute_result"
    }
   ],
   "source": [
    "(point-sub (point 1 5 3) (point 2 -3 0))"
   ]
  },
  {
   "cell_type": "markdown",
   "id": "2c0d0a65",
   "metadata": {},
   "source": [
    "## pair-stream"
   ]
  },
  {
   "cell_type": "code",
   "execution_count": 6,
   "id": "f61b46ec",
   "metadata": {},
   "outputs": [],
   "source": [
    "(define-struct pair-stream (v)\n",
    "  #:methods gen:stream\n",
    "  [(define (stream-empty? stream)\n",
    "     (empty? (pair-stream-v stream)))\n",
    "   (define (stream-first stream)\n",
    "     (let ([ pair (first (pair-stream-v stream)) ])\n",
    "       (values (car pair) (cdr pair))))\n",
    "   (define (stream-rest stream)\n",
    "     (pair-stream (rest (pair-stream-v stream))))])"
   ]
  },
  {
   "cell_type": "code",
   "execution_count": 7,
   "id": "3e82af10",
   "metadata": {},
   "outputs": [
    {
     "data": {
      "text/html": [
       "<code>40</code>"
      ],
      "text/plain": [
       "40"
      ]
     },
     "execution_count": 7,
     "metadata": {},
     "output_type": "execute_result"
    }
   ],
   "source": [
    "(for/sum ([ (a b) (in-stream (pair-stream '((1 . 2)\n",
    "                                            (2 . 3)\n",
    "                                            (3 . 4)\n",
    "                                            (4 . 5)))) ])\n",
    "   (* a b))"
   ]
  },
  {
   "cell_type": "markdown",
   "id": "62c009ac",
   "metadata": {},
   "source": [
    "## ascending-permutations-generator"
   ]
  },
  {
   "cell_type": "code",
   "execution_count": 8,
   "id": "489362da",
   "metadata": {},
   "outputs": [],
   "source": [
    "(define (ascending-permutations-generator n lst)\n",
    "  (generator ()\n",
    "    (let loop ([ lst lst ][ n n ][ stack '() ])\n",
    "      (if (= n 0)\n",
    "          (yield (reverse stack))\n",
    "          (if (null? lst)\n",
    "              #f\n",
    "              (begin\n",
    "                (loop (cdr lst) (sub1 n) (cons (car lst) stack))\n",
    "                (loop (cdr lst) n stack)))))))"
   ]
  },
  {
   "cell_type": "code",
   "execution_count": 9,
   "id": "55558dfc",
   "metadata": {
    "scrolled": true
   },
   "outputs": [
    {
     "data": {
      "text/html": [
       "<code>'(1 2 3)</code>"
      ],
      "text/plain": [
       "'(1 2 3)"
      ]
     },
     "execution_count": 9,
     "metadata": {},
     "output_type": "execute_result"
    }
   ],
   "source": [
    "(define g (ascending-permutations-generator 3 '(1 2 3 4 5)))\n",
    "(g)"
   ]
  },
  {
   "cell_type": "code",
   "execution_count": 10,
   "id": "bc9bb856",
   "metadata": {},
   "outputs": [
    {
     "data": {
      "text/html": [
       "<code>'(1 2 4)</code>"
      ],
      "text/plain": [
       "'(1 2 4)"
      ]
     },
     "execution_count": 10,
     "metadata": {},
     "output_type": "execute_result"
    }
   ],
   "source": [
    "(g)"
   ]
  },
  {
   "cell_type": "code",
   "execution_count": 11,
   "id": "64b9dbe0",
   "metadata": {},
   "outputs": [
    {
     "data": {
      "text/html": [
       "<code>'(3 4 5)</code>"
      ],
      "text/plain": [
       "'(3 4 5)"
      ]
     },
     "execution_count": 11,
     "metadata": {},
     "output_type": "execute_result"
    }
   ],
   "source": [
    "(for ([ i (in-range 0 7) ]) ;; generate all but the last one\n",
    "     (g))\n",
    "(g)"
   ]
  },
  {
   "cell_type": "markdown",
   "id": "c9ebffb9",
   "metadata": {},
   "source": [
    "## bool-list->decimal"
   ]
  },
  {
   "cell_type": "code",
   "execution_count": 12,
   "id": "0a2f65d6",
   "metadata": {},
   "outputs": [],
   "source": [
    "(define (bool-list->decimal lst)\n",
    "  (let loop ([lst lst] [acc 0])\n",
    "    (match lst [ '()        acc                              ]\n",
    "               [ (cons 0 _) (loop (cdr lst) (* 2 acc))       ]\n",
    "               [ (cons 1 _) (loop (cdr lst) (+ (* 2 acc) 1)) ]\n",
    "               [ _          0                                ])))"
   ]
  },
  {
   "cell_type": "code",
   "execution_count": 13,
   "id": "fcfb7b04",
   "metadata": {},
   "outputs": [
    {
     "data": {
      "text/html": [
       "<code>5</code>"
      ],
      "text/plain": [
       "5"
      ]
     },
     "execution_count": 13,
     "metadata": {},
     "output_type": "execute_result"
    }
   ],
   "source": [
    "(bool-list->decimal '(1 0 1))"
   ]
  },
  {
   "cell_type": "markdown",
   "id": "ebce68e8",
   "metadata": {},
   "source": [
    "## bool-string-list->decimal"
   ]
  },
  {
   "cell_type": "code",
   "execution_count": 14,
   "id": "60c290ef",
   "metadata": {},
   "outputs": [],
   "source": [
    "(define (bool-string-list->decimal lst) (bool-list->decimal (map string->number lst)))"
   ]
  },
  {
   "cell_type": "code",
   "execution_count": 15,
   "id": "5a735d6c",
   "metadata": {},
   "outputs": [
    {
     "data": {
      "text/html": [
       "<code>11</code>"
      ],
      "text/plain": [
       "11"
      ]
     },
     "execution_count": 15,
     "metadata": {},
     "output_type": "execute_result"
    }
   ],
   "source": [
    "(bool-string-list->decimal '(\"1\" \"0\" \"1\" \"1\"))"
   ]
  },
  {
   "cell_type": "markdown",
   "id": "f56a5310",
   "metadata": {},
   "source": [
    "## chunk"
   ]
  },
  {
   "cell_type": "code",
   "execution_count": 16,
   "id": "02a71256",
   "metadata": {},
   "outputs": [],
   "source": [
    "(define (chunk lst n)\n",
    "  (define (get-chunk lst n)\n",
    "    (let loop ([lst lst] [acc '()] [n n])\n",
    "      (if (or (null? lst) (< n 1))\n",
    "          (values (reverse acc) lst)\n",
    "          (loop (cdr lst) (cons (car lst) acc) (- n 1)))))\n",
    "\n",
    "  (let loop ([lst lst] [acc '()])\n",
    "    (if (null? lst)\n",
    "        (reverse acc)\n",
    "        (let-values ([(chunk rest) (get-chunk lst n)])\n",
    "          (loop rest (cons chunk acc))))))"
   ]
  },
  {
   "cell_type": "code",
   "execution_count": 17,
   "id": "63da3c10",
   "metadata": {},
   "outputs": [
    {
     "data": {
      "text/html": [
       "<code>'((1 2 3) (4 5 6) (7 8))</code>"
      ],
      "text/plain": [
       "'((1 2 3) (4 5 6) (7 8))"
      ]
     },
     "execution_count": 17,
     "metadata": {},
     "output_type": "execute_result"
    }
   ],
   "source": [
    "(chunk '(1 2 3 4 5 6 7 8) 3)  "
   ]
  },
  {
   "cell_type": "markdown",
   "id": "0c92bd19",
   "metadata": {},
   "source": [
    "## csv-file->numbers"
   ]
  },
  {
   "cell_type": "code",
   "execution_count": 18,
   "id": "eaf6a136",
   "metadata": {},
   "outputs": [],
   "source": [
    ";; Read a file consisting of one line of a comma delimited list of\n",
    ";; numbers into a list of numbers.\n",
    "(define (csv-file->numbers fname)\n",
    "  (~>> (file->string fname)\n",
    "       string-trim\n",
    "       (string-split _ \",\")\n",
    "       (map string->number)))\n",
    "\n",
    ";; no example invocation since we can't write to a file in a notebook"
   ]
  },
  {
   "cell_type": "markdown",
   "id": "12683112",
   "metadata": {},
   "source": [
    "## filter-ascending-permutations"
   ]
  },
  {
   "cell_type": "code",
   "execution_count": 19,
   "id": "145d04fc",
   "metadata": {},
   "outputs": [],
   "source": [
    "(define (filter-ascending-permutations pred? n lst)\n",
    "  (reverse\n",
    "   (let loop ([ lst lst ][ n n ][ stack '() ][ result '() ])\n",
    "     (if (= n 0)\n",
    "         (let ([ s (reverse stack) ])\n",
    "           (if (pred? s) (cons s result) result))\n",
    "         (if (null? lst)\n",
    "             result\n",
    "             (loop (cdr lst)\n",
    "                   n\n",
    "                   stack\n",
    "                   (loop (cdr lst) (sub1 n) (cons (car lst) stack) result)))))))"
   ]
  },
  {
   "cell_type": "code",
   "execution_count": 20,
   "id": "1c09a9d1",
   "metadata": {},
   "outputs": [
    {
     "data": {
      "text/html": [
       "<code>'((1 2 3) (1 2 5) (1 3 4) (1 4 5) (2 3 5) (3 4 5))</code>"
      ],
      "text/plain": [
       "'((1 2 3) (1 2 5) (1 3 4) (1 4 5) (2 3 5) (3 4 5))"
      ]
     },
     "execution_count": 20,
     "metadata": {},
     "output_type": "execute_result"
    }
   ],
   "source": [
    "(let ([ sum-is-even? (λ (lst) (even? (foldl + 0 lst))) ])\n",
    "    (filter-ascending-permutations sum-is-even? 3 '(1 2 3 4 5)))"
   ]
  },
  {
   "cell_type": "markdown",
   "id": "9d76826c",
   "metadata": {},
   "source": [
    "## iterate"
   ]
  },
  {
   "cell_type": "code",
   "execution_count": 21,
   "id": "30075dea",
   "metadata": {},
   "outputs": [],
   "source": [
    "(define (iterate fun arg n)\n",
    "  (if (zero? n)\n",
    "      arg\n",
    "      (iterate fun (fun arg) (sub1 n))))"
   ]
  },
  {
   "cell_type": "code",
   "execution_count": 22,
   "id": "03504366",
   "metadata": {},
   "outputs": [
    {
     "data": {
      "text/html": [
       "<code>5</code>"
      ],
      "text/plain": [
       "5"
      ]
     },
     "execution_count": 22,
     "metadata": {},
     "output_type": "execute_result"
    }
   ],
   "source": [
    "(iterate add1 0 5)"
   ]
  },
  {
   "cell_type": "markdown",
   "id": "97942471",
   "metadata": {},
   "source": [
    "## list-max"
   ]
  },
  {
   "cell_type": "code",
   "execution_count": 23,
   "id": "19897ebf",
   "metadata": {},
   "outputs": [],
   "source": [
    "(define (list-max lst)\n",
    "  (argmax identity lst))"
   ]
  },
  {
   "cell_type": "code",
   "execution_count": 24,
   "id": "0bdfdb73",
   "metadata": {},
   "outputs": [
    {
     "data": {
      "text/html": [
       "<code>9</code>"
      ],
      "text/plain": [
       "9"
      ]
     },
     "execution_count": 24,
     "metadata": {},
     "output_type": "execute_result"
    }
   ],
   "source": [
    "(list-max '(1 6 4 9 3 0 7))"
   ]
  },
  {
   "cell_type": "markdown",
   "id": "482bb351",
   "metadata": {},
   "source": [
    "## list-min"
   ]
  },
  {
   "cell_type": "code",
   "execution_count": 25,
   "id": "44ea314b",
   "metadata": {},
   "outputs": [],
   "source": [
    "(define (list-min lst)\n",
    "  (argmin identity lst))"
   ]
  },
  {
   "cell_type": "code",
   "execution_count": 26,
   "id": "2ee82ab6",
   "metadata": {},
   "outputs": [
    {
     "data": {
      "text/html": [
       "<code>0</code>"
      ],
      "text/plain": [
       "0"
      ]
     },
     "execution_count": 26,
     "metadata": {},
     "output_type": "execute_result"
    }
   ],
   "source": [
    "(list-min '(1 6 4 9 3 0 7))"
   ]
  },
  {
   "cell_type": "markdown",
   "id": "b5278386",
   "metadata": {},
   "source": [
    "## list-prod"
   ]
  },
  {
   "cell_type": "code",
   "execution_count": 27,
   "id": "54c6de19",
   "metadata": {},
   "outputs": [],
   "source": [
    "(define (list-prod lst)\n",
    "  (foldl * 1 lst))"
   ]
  },
  {
   "cell_type": "code",
   "execution_count": 28,
   "id": "d7e55657",
   "metadata": {},
   "outputs": [
    {
     "data": {
      "text/html": [
       "<code>120</code>"
      ],
      "text/plain": [
       "120"
      ]
     },
     "execution_count": 28,
     "metadata": {},
     "output_type": "execute_result"
    }
   ],
   "source": [
    "(list-prod '(1 2 3 4 5))"
   ]
  },
  {
   "cell_type": "markdown",
   "id": "2b0909d2",
   "metadata": {},
   "source": [
    "## list-sum"
   ]
  },
  {
   "cell_type": "code",
   "execution_count": 29,
   "id": "d97c7209",
   "metadata": {},
   "outputs": [],
   "source": [
    "(define (list-sum lst)\n",
    "  (foldl + 0 lst))"
   ]
  },
  {
   "cell_type": "code",
   "execution_count": 30,
   "id": "dcdbaf0c",
   "metadata": {},
   "outputs": [
    {
     "data": {
      "text/html": [
       "<code>15</code>"
      ],
      "text/plain": [
       "15"
      ]
     },
     "execution_count": 30,
     "metadata": {},
     "output_type": "execute_result"
    }
   ],
   "source": [
    "(list-sum '(1 2 3 4 5))"
   ]
  },
  {
   "cell_type": "markdown",
   "id": "93b69664",
   "metadata": {},
   "source": [
    "## string-left"
   ]
  },
  {
   "cell_type": "code",
   "execution_count": 31,
   "id": "d1effc14",
   "metadata": {},
   "outputs": [],
   "source": [
    "(define (string-left str n)\n",
    "  (substring str 0 n))"
   ]
  },
  {
   "cell_type": "code",
   "execution_count": 32,
   "id": "7b7f10cf",
   "metadata": {},
   "outputs": [
    {
     "data": {
      "text/html": [
       "<code>\"1234\"</code>"
      ],
      "text/plain": [
       "\"1234\""
      ]
     },
     "execution_count": 32,
     "metadata": {},
     "output_type": "execute_result"
    }
   ],
   "source": [
    "(string-left \"123456789\" 4)"
   ]
  },
  {
   "cell_type": "markdown",
   "id": "40c7c2d6",
   "metadata": {},
   "source": [
    "## string-right"
   ]
  },
  {
   "cell_type": "code",
   "execution_count": 33,
   "id": "e207419f",
   "metadata": {},
   "outputs": [],
   "source": [
    "(define (string-right str n)\n",
    "  (let ([ len (string-length str) ])\n",
    "    (substring str (- len n))))"
   ]
  },
  {
   "cell_type": "code",
   "execution_count": 34,
   "id": "720fd66a",
   "metadata": {},
   "outputs": [
    {
     "data": {
      "text/html": [
       "<code>\"6789\"</code>"
      ],
      "text/plain": [
       "\"6789\""
      ]
     },
     "execution_count": 34,
     "metadata": {},
     "output_type": "execute_result"
    }
   ],
   "source": [
    "(string-right \"123456789\" 4)"
   ]
  },
  {
   "cell_type": "markdown",
   "id": "e3372205",
   "metadata": {},
   "source": [
    "## vector-sum"
   ]
  },
  {
   "cell_type": "code",
   "execution_count": 35,
   "id": "8f37ec3b",
   "metadata": {},
   "outputs": [],
   "source": [
    "(define (vector-sum v)\n",
    "  (for/sum ([ i (in-range (vector-length v)) ])\n",
    "    (vector-ref v i)))"
   ]
  },
  {
   "cell_type": "code",
   "execution_count": 36,
   "id": "7585a06d",
   "metadata": {},
   "outputs": [
    {
     "data": {
      "text/html": [
       "<code>15</code>"
      ],
      "text/plain": [
       "15"
      ]
     },
     "execution_count": 36,
     "metadata": {},
     "output_type": "execute_result"
    }
   ],
   "source": [
    "(vector-sum #(1 2 3 4 5))"
   ]
  },
  {
   "cell_type": "markdown",
   "id": "0feae3b3",
   "metadata": {},
   "source": [
    "## vector-update!"
   ]
  },
  {
   "cell_type": "code",
   "execution_count": 37,
   "id": "b65e14a0",
   "metadata": {},
   "outputs": [],
   "source": [
    "(define (vector-update! vec i f)\n",
    "  (vector-set! vec i (f (vector-ref vec i))))"
   ]
  },
  {
   "cell_type": "code",
   "execution_count": 38,
   "id": "6437e3a4",
   "metadata": {},
   "outputs": [
    {
     "data": {
      "text/html": [
       "<code>'#(1 2 4 4 5)</code>"
      ],
      "text/plain": [
       "'#(1 2 4 4 5)"
      ]
     },
     "execution_count": 38,
     "metadata": {},
     "output_type": "execute_result"
    }
   ],
   "source": [
    "(let ([ vec (vector 1 2 3 4 5) ])\n",
    "  (vector-update! vec 2 add1)\n",
    "  vec)"
   ]
  },
  {
   "cell_type": "markdown",
   "id": "281edaa6",
   "metadata": {},
   "source": [
    "## windows"
   ]
  },
  {
   "cell_type": "code",
   "execution_count": 39,
   "id": "a828ca7a",
   "metadata": {},
   "outputs": [],
   "source": [
    "(define (windows n lst)\n",
    "  (let ([ window (with-handlers ([ exn:fail:contract? (λ (_) #f) ])\n",
    "                   (take lst n)) ])\n",
    "    (if window\n",
    "        (cons window (windows n (cdr lst)))\n",
    "        '())))"
   ]
  },
  {
   "cell_type": "code",
   "execution_count": 40,
   "id": "abf88524",
   "metadata": {},
   "outputs": [
    {
     "data": {
      "text/html": [
       "<code>'((1 2 3) (2 3 4) (3 4 5) (4 5 6))</code>"
      ],
      "text/plain": [
       "'((1 2 3) (2 3 4) (3 4 5) (4 5 6))"
      ]
     },
     "execution_count": 40,
     "metadata": {},
     "output_type": "execute_result"
    }
   ],
   "source": [
    "(windows 3 '(1 2 3 4 5 6))"
   ]
  },
  {
   "cell_type": "markdown",
   "id": "454be1a5",
   "metadata": {},
   "source": [
    "## zipn"
   ]
  },
  {
   "cell_type": "code",
   "execution_count": 41,
   "id": "396082b2",
   "metadata": {},
   "outputs": [],
   "source": [
    "(define (zipn . args)\n",
    "  (let loop ([ lists args ][ result '() ])\n",
    "    (cond [ (ormap empty? lists) (reverse result) ]\n",
    "          [ else (loop (map rest lists) (cons (map first lists) result)) ])))"
   ]
  },
  {
   "cell_type": "code",
   "execution_count": 42,
   "id": "d336b004",
   "metadata": {
    "scrolled": true
   },
   "outputs": [
    {
     "data": {
      "text/html": [
       "<code>'((1 2 7) (2 3 8) (3 4 9))</code>"
      ],
      "text/plain": [
       "'((1 2 7) (2 3 8) (3 4 9))"
      ]
     },
     "execution_count": 42,
     "metadata": {},
     "output_type": "execute_result"
    }
   ],
   "source": [
    "(zipn '(1 2 3 4 5) '(2 3 4 5) '(7 8 9))"
   ]
  },
  {
   "cell_type": "markdown",
   "id": "41cf4c65",
   "metadata": {},
   "source": [
    "# Support code from others"
   ]
  },
  {
   "cell_type": "markdown",
   "id": "ee1cd987",
   "metadata": {},
   "source": [
    "Peter Norvig shared some support code from last year's contest for parsing the daily input and displaying sample output. I translated some useful bits into Racket. You'll see it in use on future blog posts for individual puzzles."
   ]
  },
  {
   "cell_type": "markdown",
   "id": "5ec8cd9c",
   "metadata": {},
   "source": [
    "## parse-aoc"
   ]
  },
  {
   "cell_type": "code",
   "execution_count": 43,
   "id": "ff47ddca",
   "metadata": {},
   "outputs": [],
   "source": [
    ";; (parse-aoc day parser sep print-lines) -> list?\n",
    ";; day         : positive-integer?\n",
    ";; parser      : (-> string? any/c)\n",
    ";; sep         : string?\n",
    ";; print-lines : exact-nonnegative-integer?\n",
    ";;\n",
    ";; Translation of Peter Norvig's Advent of Code parse function.\n",
    ";;\n",
    ";; * Read the input file for <day>\n",
    ";; * Print out the first few lines of the file to give an idea of the\n",
    ";;   file's contents\n",
    ";; * Break the file into a sequence of entries separated by <sep>\n",
    ";; * Apply <parser> to each entry and return the results as a list\n",
    ";;   - Example parser functions include:\n",
    ";;     numbers, digits, atoms, words, and built-ins such as:\n",
    ";;     string->number, identity\n",
    "(define (parse-aoc day [parser identity] [sep \"\\n\"] [print-lines 7])\n",
    "  ;; Helper -----------------------------------------------------------------------------------\n",
    "  (define (print-sample fname text entries num-lines)\n",
    "    (let* ([ all-lines (string-split text \"\\n\")   ]\n",
    "           [ lines     (take all-lines num-lines) ]\n",
    "           [ head      (format \"~a -> ~a chars, ~a lines; first ~a lines:\"\n",
    "                               fname\n",
    "                               (string-length text)\n",
    "                               (length all-lines)\n",
    "                               (length lines)) ]\n",
    "           [ dash      (make-string 100 #\\-) ])\n",
    "      (printf \"~a\\n~a\\n~a\\n\" dash head dash)\n",
    "      (for ([line (in-list lines) ])\n",
    "        (printf \"~a\\n\" (trunc line)))\n",
    "      (printf \"~a\\n(parse ~a) -> ~a entries:\\n\" dash day (length entries))\n",
    "      (printf \"~a\\n~a\\n~a\" dash (trunc (format \"~s\" entries)) dash)))\n",
    "\n",
    "  (define (trunc s [left 70] [right 25] [dots \" ... \"])\n",
    "    (if (<= (string-length s)\n",
    "            (+ left right (string-length dots)))\n",
    "        s\n",
    "        (string-append (string-left s left)\n",
    "                       dots\n",
    "                       (string-right s right))))\n",
    "  ;; ------------------------------------------------------------------------------------------\n",
    "  \n",
    "  (let* ([ fname   (format \"day~a.txt\" (~r day #:min-width 2 #:pad-string \"0\")) ]\n",
    "         [ text    (file->string fname) ]\n",
    "         [ entries (map parser (~> text\n",
    "                                   string-trim\n",
    "                                   (string-split _ sep))) ])\n",
    "    (when (and print-lines (> print-lines 0))\n",
    "      (print-sample fname text entries print-lines))\n",
    "    entries))"
   ]
  },
  {
   "cell_type": "markdown",
   "id": "f114715d",
   "metadata": {},
   "source": [
    "Here are the individual parsers:"
   ]
  },
  {
   "cell_type": "markdown",
   "id": "601ec038",
   "metadata": {},
   "source": [
    "## atom"
   ]
  },
  {
   "cell_type": "code",
   "execution_count": 44,
   "id": "d5fc2792",
   "metadata": {},
   "outputs": [],
   "source": [
    "(define (atom str)\n",
    "  (cond [ (regexp-match? #px\"^-?[0-9]+(\\\\.[0-9]*)?$\" str)\n",
    "          (string->number str) ]\n",
    "        [ else str ]))"
   ]
  },
  {
   "cell_type": "code",
   "execution_count": 45,
   "id": "25332898",
   "metadata": {},
   "outputs": [
    {
     "data": {
      "text/html": [
       "<code>-3.14</code>"
      ],
      "text/plain": [
       "-3.14"
      ]
     },
     "execution_count": 45,
     "metadata": {},
     "output_type": "execute_result"
    }
   ],
   "source": [
    "(atom \"-3.14\")"
   ]
  },
  {
   "cell_type": "code",
   "execution_count": 46,
   "id": "800ea0f0",
   "metadata": {},
   "outputs": [
    {
     "data": {
      "text/html": [
       "<code>\"a-symbol-name\"</code>"
      ],
      "text/plain": [
       "\"a-symbol-name\""
      ]
     },
     "execution_count": 46,
     "metadata": {},
     "output_type": "execute_result"
    }
   ],
   "source": [
    "(atom \"a-symbol-name\")"
   ]
  },
  {
   "cell_type": "markdown",
   "id": "4565b08b",
   "metadata": {},
   "source": [
    "## atoms"
   ]
  },
  {
   "cell_type": "code",
   "execution_count": 47,
   "id": "ac58043f",
   "metadata": {},
   "outputs": [],
   "source": [
    "(define (atoms str)\n",
    "  (map atom\n",
    "       (regexp-match* #px\"[a-zA-Z_0-9.+-]+\" str)))"
   ]
  },
  {
   "cell_type": "code",
   "execution_count": 48,
   "id": "7c07b211",
   "metadata": {},
   "outputs": [
    {
     "data": {
      "text/html": [
       "<code>'(\"a-symbol\" 3.14 -78 \"foo\")</code>"
      ],
      "text/plain": [
       "'(\"a-symbol\" 3.14 -78 \"foo\")"
      ]
     },
     "execution_count": 48,
     "metadata": {},
     "output_type": "execute_result"
    }
   ],
   "source": [
    "(atoms \" a-symbol 3.14\\n -78 foo\")"
   ]
  },
  {
   "cell_type": "markdown",
   "id": "010d1e43",
   "metadata": {},
   "source": [
    "## digits"
   ]
  },
  {
   "cell_type": "code",
   "execution_count": 49,
   "id": "f49e25b7",
   "metadata": {},
   "outputs": [],
   "source": [
    "(define (digits str)\n",
    "  (map string->number\n",
    "       (regexp-match* #px\"[0-9]\" str)))"
   ]
  },
  {
   "cell_type": "code",
   "execution_count": 50,
   "id": "e38fed2c",
   "metadata": {},
   "outputs": [
    {
     "data": {
      "text/html": [
       "<code>'(0 1 2 3 4 5 6 7 8 9 1 0)</code>"
      ],
      "text/plain": [
       "'(0 1 2 3 4 5 6 7 8 9 1 0)"
      ]
     },
     "execution_count": 50,
     "metadata": {},
     "output_type": "execute_result"
    }
   ],
   "source": [
    "(digits \"0123\\n456\\n78910\")"
   ]
  },
  {
   "cell_type": "markdown",
   "id": "e6d09ec9",
   "metadata": {},
   "source": [
    "## numbers"
   ]
  },
  {
   "cell_type": "code",
   "execution_count": 51,
   "id": "fd1dda3f",
   "metadata": {},
   "outputs": [],
   "source": [
    "(define (numbers str)\n",
    "  (map string->number\n",
    "       (regexp-match* #px\"-?[0-9.]+\" str)))"
   ]
  },
  {
   "cell_type": "code",
   "execution_count": 52,
   "id": "ca03b570",
   "metadata": {
    "scrolled": true
   },
   "outputs": [
    {
     "data": {
      "text/html": [
       "<code>'(12 3.14 56 123 67 78)</code>"
      ],
      "text/plain": [
       "'(12 3.14 56 123 67 78)"
      ]
     },
     "execution_count": 52,
     "metadata": {},
     "output_type": "execute_result"
    }
   ],
   "source": [
    "(numbers \"012,3.14,56\\n123;67->78\")"
   ]
  },
  {
   "cell_type": "markdown",
   "id": "21c022b2",
   "metadata": {},
   "source": [
    "## words"
   ]
  },
  {
   "cell_type": "code",
   "execution_count": 53,
   "id": "52845bdb",
   "metadata": {},
   "outputs": [],
   "source": [
    "(define (words str)\n",
    "  (regexp-match* #px\"[a-zA-Z]+\" str))"
   ]
  },
  {
   "cell_type": "code",
   "execution_count": 54,
   "id": "dfaadaf3",
   "metadata": {},
   "outputs": [
    {
     "data": {
      "text/html": [
       "<code>'(\"the\" \"cow\" \"jumped\" \"over\" \"the\" \"moon\")</code>"
      ],
      "text/plain": [
       "'(\"the\" \"cow\" \"jumped\" \"over\" \"the\" \"moon\")"
      ]
     },
     "execution_count": 54,
     "metadata": {},
     "output_type": "execute_result"
    }
   ],
   "source": [
    "(words \"the,cow\\njumped->over\\nthe -> moon\")"
   ]
  },
  {
   "cell_type": "markdown",
   "id": "2abbbe47",
   "metadata": {},
   "source": [
    "# Tests for advent.rkt\n"
   ]
  },
  {
   "cell_type": "code",
   "execution_count": 55,
   "id": "9eca4a92",
   "metadata": {},
   "outputs": [],
   "source": [
    "  (require rackunit)\n",
    "\n",
    "  ;; ascending-permutations-generator ---------------------------------------------------------\n",
    "\n",
    "  (let ([ g (ascending-permutations-generator 3 '(1 2 3 4 5)) ])\n",
    "    (for ([ lst (in-list '((1 2 3) (1 2 4) (1 2 5) (1 3 4) (1 3 5)\n",
    "                           (1 4 5) (2 3 4) (2 3 5) (2 4 5) (3 4 5))) ])\n",
    "      (check-equal? (g) lst)))\n",
    "  \n",
    "  ;; atom\n",
    "\n",
    "  (for ([ pair (in-list '(( \"-3.14\"     -3.14)\n",
    "                          ( \"-78\"       -78)\n",
    "                          ( \"3.14\"      3.14)\n",
    "                          ( \"my-symbol\" \"my-symbol\"))) ])\n",
    "    (check-equal? (atom (first pair)) (second pair)))\n",
    "  \n",
    "  ;; atoms\n",
    "\n",
    "  (check-equal? (atoms \" a-symbol 3.14\\n -78 foo\")\n",
    "                '(\"a-symbol\" 3.14 -78 \"foo\"))\n",
    "\n",
    "  ;; bool-list->decimal ----------------------------------------------------------------\n",
    "\n",
    "  (for ([ pair (in-list '(((1 0 1 1) 11)\n",
    "                          ((0 0 0) 0)\n",
    "                          ((0 0 1) 1)\n",
    "                          ((0 1 0) 2)\n",
    "                          ((0 1 1) 3)\n",
    "                          ((1 0 0) 4)\n",
    "                          ((1 1 1) 7))) ])\n",
    "    (check-equal? (bool-list->decimal (first pair)) (second pair)))\n",
    "\n",
    "  ;; bool-string-list->decimal ----------------------------------------------------------------\n",
    "\n",
    "  (check-equal? (bool-string-list->decimal '(\"1\" \"0\" \"1\" \"1\")) 11)\n",
    "\n",
    "  ;; chunk ------------------------------------------------------------------------------------\n",
    "\n",
    "  (check-equal? (chunk (range 15) 5)\n",
    "                '((0 1 2 3 4)\n",
    "                  (5 6 7 8 9)\n",
    "                  (10 11 12 13 14)))\n",
    "\n",
    "  ;; csv-file->numbers ------------------------------------------------------------------------\n",
    "\n",
    "  ;; NOTE: notebook doesn't allow writing to file\n",
    "  #;(let ([ path (path->string (make-temporary-file)) ])\n",
    "    (dynamic-wind (λ ()\n",
    "                    ;; Create the cvs line\n",
    "                    (with-output-to-file path\n",
    "                      (λ ()\n",
    "                        (printf \"1,6,43,8,0,21,50\\n\"))\n",
    "                      #:exists 'replace))\n",
    "                  (λ ()\n",
    "                    (check-equal? (csv-file->numbers path)\n",
    "                                  '(1 6 43 8 0 21 50)))\n",
    "                  (λ ()\n",
    "                    (delete-file path))))\n",
    "\n",
    "  ;; digits\n",
    "\n",
    "  (check-equal? (digits \"0123\\n456\\n78910\")\n",
    "                '(0 1 2 3 4 5 6 7 8 9 1 0))\n",
    "\n",
    "  ;; filter-ascending-permutations ------------------------------------------------------------\n",
    "\n",
    "  (let ([ sum-is-even? (λ (lst) (even? (foldl + 0 lst))) ])\n",
    "    (check-equal? (filter-ascending-permutations sum-is-even? 3 '(1 2 3 4 5))\n",
    "                  '((1 2 3) (1 2 5) (1 3 4) (1 4 5) (2 3 5) (3 4 5))))\n",
    "\n",
    "  ;; iterate\n",
    "  \n",
    "  (let ([ fun (λ (n) (+ n 3)) ])\n",
    "    (check-equal? (iterate fun 7 4) 19))\n",
    "\n",
    "  (let ([ fun (λ (s)\n",
    "                (cond [ (symbol? s) (symbol->string s) ]\n",
    "                      [ (string? s) (string->symbol s) ]\n",
    "                      [ else        (error \"Invalid\")  ])) ])\n",
    "    (check-equal? (iterate fun 'foo 0) 'foo)\n",
    "    (check-equal? (iterate fun 'foo 1) \"foo\")\n",
    "    (check-equal? (iterate fun 'foo 2) 'foo)\n",
    "    (check-equal? (iterate fun 'foo 3) \"foo\"))\n",
    "\n",
    "  ;; list-max\n",
    "\n",
    "  (check-equal? (list-max '(3 8 4 9 0 -3)) 9)\n",
    "  (check-equal? (list-max '(-3 -2 -9)) -2)\n",
    "\n",
    "  ;; list-min\n",
    "  \n",
    "  (check-equal? (list-min '(3 8 4 9 0)) 0)\n",
    "  (check-equal? (list-min '(3 8 4 9 0 -3)) -3)\n",
    "  (check-equal? (list-min '(-3 -2 -9)) -9)\n",
    "\n",
    "  ;; list-prod\n",
    "\n",
    "  (check-equal? (list-prod '(2 7 4 13)) 728)\n",
    "\n",
    "  ;; list-sum\n",
    "  \n",
    "  (check-equal? (list-sum '(2 7 4 13)) 26)\n",
    "\n",
    "  ;; numbers\n",
    "\n",
    "  (check-equal? (numbers \"012,3.14,56\\n123;67->78\")\n",
    "                '(12 3.14 56 123 67 78))\n",
    "\n",
    "  ;; point-add\n",
    "\n",
    "  (check-equal? (point-add (point 1 2 3)\n",
    "                           (point 2 3 4))\n",
    "                (point 3 5 7))\n",
    "  \n",
    "  ;; point-sub\n",
    "\n",
    "  (check-equal? (point-sub (point 1 2 3)\n",
    "                           (point 2 3 4))\n",
    "                (point -1 -1 -1))\n",
    "\n",
    "  ;; vector-sum\n",
    "\n",
    "  (check-equal? (vector-sum #(2 7 4 13)) 26)\n",
    "\n",
    "  ;; vector-update!\n",
    "\n",
    "  (let ([ vec (vector 1 2 3 4 5) ])\n",
    "    (vector-update! vec 2 add1)\n",
    "    (check-equal? vec #(1 2 4 4 5)))\n",
    "\n",
    "  ;; words\n",
    "\n",
    "  (check-equal? (words \"the,cow\\njumped->over\\nthe -> moon\")\n",
    "                '(\"the\" \"cow\" \"jumped\" \"over\" \"the\" \"moon\"))\n",
    "\n",
    "  ;; zipn\n",
    "\n",
    "  (check-equal? (zipn '(1 2 3 4 5) '(2 3 4 5) '(3 4 5))\n",
    "                '((1 2 3) (2 3 4) (3 4 5)))\n",
    "\n",
    "  ;; pair-stream ------------------------------------------------------------------------------\n",
    "\n",
    "  (check-equal?\n",
    "   (for/sum ([ (a b) (in-stream (pair-stream '((1 . 2) (2 . 3) (3 . 4) (4 . 5)))) ])\n",
    "     (* a b))\n",
    "   40)\n"
   ]
  }
 ],
 "metadata": {
  "kernelspec": {
   "display_name": "Racket",
   "language": "racket",
   "name": "racket"
  },
  "language_info": {
   "codemirror_mode": "scheme",
   "file_extension": ".rkt",
   "mimetype": "text/x-racket",
   "name": "Racket",
   "pygments_lexer": "racket",
   "version": "8.2.0.8"
  }
 },
 "nbformat": 4,
 "nbformat_minor": 5
}
