{
 "cells": [
  {
   "cell_type": "markdown",
   "id": "cc1369fe",
   "metadata": {},
   "source": [
    "Each day will have some preliminary setup code:"
   ]
  },
  {
   "cell_type": "code",
   "execution_count": 1,
   "id": "1ee2592c",
   "metadata": {},
   "outputs": [],
   "source": [
    "#lang iracket/lang #:require racket\n",
    "(require \"../advent.rkt\")\n",
    "(require threading)"
   ]
  },
  {
   "cell_type": "markdown",
   "id": "1dbb6bed",
   "metadata": {},
   "source": [
    "## [Day 1](https://adventofcode.com/2022/day/1) - Part 1\n",
    "\n",
    "We're given the following sample data:\n",
    "\n",
    "```\n",
    "1000\n",
    "2000\n",
    "3000\n",
    "\n",
    "4000\n",
    "\n",
    "5000\n",
    "6000\n",
    "\n",
    "7000\n",
    "8000\n",
    "9000\n",
    "\n",
    "10000\n",
    "```\n",
    "\n",
    "This list represents the Calories of the food carried by five Elves:\n",
    "\n",
    "- The first Elf is carrying food with 1000, 2000, and 3000 Calories, a total of **6000** Calories.\n",
    "- The second Elf is carrying one food item with **4000** Calories.\n",
    "- The third Elf is carrying food with 5000 and 6000 Calories, a total of **11000** Calories.\n",
    "- The fourth Elf is carrying food with 7000, 8000, and 9000 Calories, a total of **24000** Calories.\n",
    "- The fifth Elf is carrying one food item with **10000** Calories.\n",
    "\n",
    "Find the Elf carrying the most Calories. **How many total Calories is that Elf carrying?**\n",
    "\n",
    "Here's what we'll do:\n",
    "\n",
    "- parse the input into a list of each elf's list of calories\n",
    "- map the `list-sum` function over the list to collapse each elf's list of calories to a total number\n",
    "- use the `list-max` function to obtain the maximum calories"
   ]
  },
  {
   "cell_type": "code",
   "execution_count": 2,
   "id": "0e290a58",
   "metadata": {},
   "outputs": [
    {
     "name": "stdout",
     "output_type": "stream",
     "text": [
      "----------------------------------------------------------------------------------------------------\n",
      "day01.txt -> 10477 chars, 2254 lines; first 3 lines; last 2 lines:\n",
      "----------------------------------------------------------------------------------------------------\n",
      "10130\n",
      "9819\n",
      "4257\n",
      "...\n",
      "4980\n",
      "6660\n",
      "----------------------------------------------------------------------------------------------------\n",
      "(parse 1) -> 250 entries:\n",
      "----------------------------------------------------------------------------------------------------\n",
      "((10130 9819 4257 8400 10994 3758 8326)\n",
      "(9002 15602 1193 6805 10797)\n",
      "...\n",
      "(1654 6928 3317 4238 4796 4168 6225 1669 1109 4265 4980 6660))\n",
      "----------------------------------------------------------------------------------------------------\n"
     ]
    }
   ],
   "source": [
    "(define in (parse-aoc 1 numbers #:sep \"\\n\\n\"))"
   ]
  },
  {
   "cell_type": "code",
   "execution_count": 3,
   "id": "ed945422",
   "metadata": {
    "scrolled": true
   },
   "outputs": [
    {
     "data": {
      "text/html": [
       "<code>69693</code>"
      ],
      "text/plain": [
       "69693"
      ]
     },
     "execution_count": 3,
     "metadata": {},
     "output_type": "execute_result"
    }
   ],
   "source": [
    "(~> (map list-sum in)\n",
    "    list-max)"
   ]
  },
  {
   "cell_type": "markdown",
   "id": "d47c12c0",
   "metadata": {},
   "source": [
    "## Part 2\n",
    "\n",
    "For part 2 we need to find the **top 3 elves** carrying the most calories, so we'll do the following:\n",
    "\n",
    "- map the `list-sum` function over the list to collapse each elf's list of calories to a total number\n",
    "- sort the list in descending order\n",
    "- take the first 3 elements\n",
    "- sum these 3 elements"
   ]
  },
  {
   "cell_type": "code",
   "execution_count": 4,
   "id": "5429599c",
   "metadata": {
    "scrolled": true
   },
   "outputs": [
    {
     "data": {
      "text/html": [
       "<code>200945</code>"
      ],
      "text/plain": [
       "200945"
      ]
     },
     "execution_count": 4,
     "metadata": {},
     "output_type": "execute_result"
    }
   ],
   "source": [
    "(~> (map list-sum in)\n",
    "    (sort _ >)\n",
    "    (take _ 3)\n",
    "    (list-sum _))"
   ]
  },
  {
   "cell_type": "markdown",
   "id": "3309e266",
   "metadata": {},
   "source": [
    "## Refactor\n",
    "Now that we have knowledge of both parts, we can factor out the common code into a `solve` function that is parameterized by the number of elves to sum:"
   ]
  },
  {
   "cell_type": "code",
   "execution_count": 5,
   "id": "b37db7d0",
   "metadata": {},
   "outputs": [],
   "source": [
    "(define (solve n)\n",
    "  (~> (map list-sum in)\n",
    "      (sort _ >)\n",
    "      (take _ n)\n",
    "      (list-sum _)))"
   ]
  },
  {
   "cell_type": "code",
   "execution_count": 6,
   "id": "59a77722",
   "metadata": {},
   "outputs": [
    {
     "data": {
      "text/html": [
       "<code>69693</code>"
      ],
      "text/plain": [
       "69693"
      ]
     },
     "execution_count": 6,
     "metadata": {},
     "output_type": "execute_result"
    }
   ],
   "source": [
    "(solve 1)"
   ]
  },
  {
   "cell_type": "code",
   "execution_count": 7,
   "id": "7a146b4d",
   "metadata": {},
   "outputs": [
    {
     "data": {
      "text/html": [
       "<code>200945</code>"
      ],
      "text/plain": [
       "200945"
      ]
     },
     "execution_count": 7,
     "metadata": {},
     "output_type": "execute_result"
    }
   ],
   "source": [
    "(solve 3)"
   ]
  }
 ],
 "metadata": {
  "kernelspec": {
   "display_name": "Racket",
   "language": "racket",
   "name": "racket"
  },
  "language_info": {
   "codemirror_mode": "scheme",
   "file_extension": ".rkt",
   "mimetype": "text/x-racket",
   "name": "Racket",
   "pygments_lexer": "racket",
   "version": "8.2.0.8"
  }
 },
 "nbformat": 4,
 "nbformat_minor": 5
}
