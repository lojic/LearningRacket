{
 "cells": [
  {
   "cell_type": "code",
   "execution_count": 1,
   "id": "ae9ad977",
   "metadata": {},
   "outputs": [],
   "source": [
    "#lang iracket/lang #:require racket\n",
    "(require \"../advent.rkt\")"
   ]
  },
  {
   "cell_type": "markdown",
   "id": "bad113ad",
   "metadata": {},
   "source": [
    "## [Day 5](https://adventofcode.com/2022/day/5) - Part 1\n",
    "\n",
    "**Supply Stacks**\n",
    "We're given the following sample input:\n",
    "\n",
    "```\n",
    "    [D]    \n",
    "[N] [C]    \n",
    "[Z] [M] [P]\n",
    " 1   2   3 \n",
    "\n",
    "move 1 from 2 to 1\n",
    "move 3 from 1 to 3\n",
    "move 2 from 2 to 1\n",
    "move 1 from 1 to 2\n",
    "```\n",
    "\n",
    "And, fortunately for us, the first part has lines padded with spaces to be of equal length - this makes parsing just a little bit easier :) Even so, the built-in parsers we have for AoC are insufficient, so we'll just use a custom parser that reads the file into a string, splits it on \"\\n\\n\", and then maps the `string-split` function over both parts - the stack lines and the command lines:"
   ]
  },
  {
   "cell_type": "code",
   "execution_count": 2,
   "id": "bbf936c0",
   "metadata": {
    "scrolled": false
   },
   "outputs": [],
   "source": [
    "(match-define (list stack-lines command-lines)\n",
    "  (~> (file->string \"./day05.txt\")\n",
    "      (string-split _ \"\\n\\n\")\n",
    "      (map (λ (s) (string-split s \"\\n\")) _)))"
   ]
  },
  {
   "cell_type": "markdown",
   "id": "7c5f9251",
   "metadata": {},
   "source": [
    "The trickiest part of part 1 is parsing the pictorial description of the stacks into a useful representation. Our approach will be as follows:\n",
    "\n",
    "- A stack is represented as a list of chars e.g. stack 2 from above will be `'(#\\D #\\C #\\M)`\n",
    "- Each stack is an element in the `stacks` list\n",
    "- We'll use a trick of populating the `stacks` list with a placeholder to allow using 1-based indexing later\n",
    "- We can compute the number of stacks from the length of the input string `n = (len + 1) / 4`\n",
    "\n",
    "Rather than try and keep track of all the stacks as we process each line, I thought it would be simpler to simply iterate over all the stack lines for each stack, and pull the crate letter from the nth position. The number of input lines is very small, so I feel this is a reasonable approach for AoC.\n",
    "\n",
    "Getting a single create from a line is: `(string-ref line (add1 (* i 4)))`\n",
    "\n",
    "Here is the `parse-stacks` function:"
   ]
  },
  {
   "cell_type": "code",
   "execution_count": 3,
   "id": "b013bd6c",
   "metadata": {},
   "outputs": [],
   "source": [
    "(define (parse-stacks stack-lines)\n",
    "  (define (parse-stack lines i)\n",
    "    (define (get-crate line)\n",
    "      (string-ref line (add1 (* i 4))))\n",
    "      \n",
    "    (~> (map get-crate lines)\n",
    "        (filter char-alphabetic? _)))\n",
    "    \n",
    "  (let* ([ lines (take stack-lines (sub1 (length stack-lines))) ]\n",
    "         [ n     (/ (+ (string-length (first lines)) 1) 4)          ])\n",
    "    (let loop ([ i 0 ][ stacks '(()) ])\n",
    "      (if (>= i n)\n",
    "          (reverse stacks)\n",
    "          (loop (add1 i) (cons (parse-stack lines i) stacks))))))"
   ]
  },
  {
   "cell_type": "markdown",
   "id": "b8358bff",
   "metadata": {},
   "source": [
    "The `parse-commands` function is much simpler, we just map the `numbers` parser over the input lines:"
   ]
  },
  {
   "cell_type": "code",
   "execution_count": 4,
   "id": "81176996",
   "metadata": {},
   "outputs": [],
   "source": [
    "(define parse-commands (curry map numbers))"
   ]
  },
  {
   "cell_type": "markdown",
   "id": "b7a2bf55",
   "metadata": {},
   "source": [
    "Now we have everything in place to create the stacks and commands:"
   ]
  },
  {
   "cell_type": "code",
   "execution_count": 5,
   "id": "583264bf",
   "metadata": {},
   "outputs": [
    {
     "data": {
      "text/html": [
       "<code>'(() (#\\N #\\Z) (#\\D #\\C #\\M) (#\\P))</code>"
      ],
      "text/plain": [
       "'(() (#\\N #\\Z) (#\\D #\\C #\\M) (#\\P))"
      ]
     },
     "execution_count": 5,
     "metadata": {},
     "output_type": "execute_result"
    }
   ],
   "source": [
    "(define stacks (parse-stacks stack-lines))\n",
    "(define commands (parse-commands command-lines))\n",
    "\n",
    "stacks"
   ]
  },
  {
   "cell_type": "code",
   "execution_count": 6,
   "id": "30042aca",
   "metadata": {
    "scrolled": true
   },
   "outputs": [
    {
     "data": {
      "text/html": [
       "<code>'((1 2 1) (3 1 3) (2 2 1) (1 1 2))</code>"
      ],
      "text/plain": [
       "'((1 2 1) (3 1 3) (2 2 1) (1 1 2))"
      ]
     },
     "execution_count": 6,
     "metadata": {},
     "output_type": "execute_result"
    }
   ],
   "source": [
    "commands"
   ]
  },
  {
   "cell_type": "markdown",
   "id": "82108343",
   "metadata": {},
   "source": [
    "Here's our function to move crates from one stack to another. I used the same argument order as our input data structure so I can easily `apply` the function with the input later:"
   ]
  },
  {
   "cell_type": "code",
   "execution_count": 7,
   "id": "2e13a87c",
   "metadata": {},
   "outputs": [
    {
     "data": {
      "text/html": [
       "<code>'(() (#\\N #\\Z) (#\\M) (#\\C #\\D #\\P))</code>"
      ],
      "text/plain": [
       "'(() (#\\N #\\Z) (#\\M) (#\\C #\\D #\\P))"
      ]
     },
     "execution_count": 7,
     "metadata": {},
     "output_type": "execute_result"
    }
   ],
   "source": [
    "(define (move-crates stacks n from-i to-i)\n",
    "  (let* ([ from   (list-ref stacks from-i)                         ]\n",
    "         [ to     (list-ref stacks to-i)                           ]\n",
    "         [ stacks (list-set stacks to-i (append (reverse (take from n)) to)) ]\n",
    "         [ stacks (list-set stacks from-i (drop from n))           ])\n",
    "    stacks))\n",
    "\n",
    ";; e.g.\n",
    "(move-crates stacks 2 2 3)"
   ]
  },
  {
   "cell_type": "markdown",
   "id": "45f53a78",
   "metadata": {},
   "source": [
    "Lastly, we write the solver for part 1. It loops over the commands and applies them to the stacks data structure one at a time. When we're done, we grab the top element of each stack and concatenate them all into a string:"
   ]
  },
  {
   "cell_type": "code",
   "execution_count": 8,
   "id": "8f8e22f7",
   "metadata": {},
   "outputs": [
    {
     "data": {
      "text/html": [
       "<code>\"CMZ\"</code>"
      ],
      "text/plain": [
       "\"CMZ\""
      ]
     },
     "execution_count": 8,
     "metadata": {},
     "output_type": "execute_result"
    }
   ],
   "source": [
    "(define (part1)\n",
    "  (let loop ([ stacks stacks ][ commands commands ])\n",
    "    (if (null? commands)\n",
    "        (list->string (map car (cdr stacks)))\n",
    "        (loop (apply move-crates stacks (car commands)) (cdr commands)))))\n",
    "\n",
    "(part1)"
   ]
  },
  {
   "cell_type": "markdown",
   "id": "f4fbfd10",
   "metadata": {},
   "source": [
    "## Part 2\n",
    "I didn't do a very good job of anticipating the **very** small change between parts today! The only change for part 2 is to change from a first-off-first-on approach in part 1 to a last-off-first-on approach in part 2. Unfortunately, that piece of logic is embedded deep within my `move-crates` function, so for now, I'll just redefine the `move-crates` function with this small change of **removing the `reverse` invocation**, and just call `part1` again:"
   ]
  },
  {
   "cell_type": "code",
   "execution_count": 9,
   "id": "9bd0a517",
   "metadata": {},
   "outputs": [
    {
     "data": {
      "text/html": [
       "<code>\"MCD\"</code>"
      ],
      "text/plain": [
       "\"MCD\""
      ]
     },
     "execution_count": 9,
     "metadata": {},
     "output_type": "execute_result"
    }
   ],
   "source": [
    "(define (move-crates stacks n from-i to-i)\n",
    "  (let* ([ from   (list-ref stacks from-i)                         ]\n",
    "         [ to     (list-ref stacks to-i)                           ]\n",
    "         [ stacks (list-set stacks to-i (append (take from n) to)) ]\n",
    "         [ stacks (list-set stacks from-i (drop from n))           ])\n",
    "    stacks))\n",
    "\n",
    "(part1)"
   ]
  },
  {
   "cell_type": "markdown",
   "id": "92dda9a8",
   "metadata": {},
   "source": [
    "## Refactor\n",
    "Now for the fun part of eliminating the redundancy above! Since the only change between parts is the strategy used when moving creates, we'll create two strategy functions, one for each part. Let's define the first-off-first-on (FOFO) function for part 1:"
   ]
  },
  {
   "cell_type": "code",
   "execution_count": 15,
   "id": "36c5db9c",
   "metadata": {},
   "outputs": [],
   "source": [
    "(define strategy-fofo reverse)"
   ]
  },
  {
   "cell_type": "markdown",
   "id": "56258f0e",
   "metadata": {},
   "source": [
    "And the first-off-last-on (FOLO) function for part 2:"
   ]
  },
  {
   "cell_type": "code",
   "execution_count": 16,
   "id": "5ee31f85",
   "metadata": {},
   "outputs": [],
   "source": [
    "(define strategy-folo identity)"
   ]
  },
  {
   "cell_type": "markdown",
   "id": "93f42a1f",
   "metadata": {},
   "source": [
    "Now our single `move-crates` function is:"
   ]
  },
  {
   "cell_type": "code",
   "execution_count": 12,
   "id": "3e7559eb",
   "metadata": {},
   "outputs": [],
   "source": [
    "(define (move-crates strategy stacks n from-i to-i)\n",
    "  (let* ([ from   (list-ref stacks from-i)                        ]\n",
    "         [ to     (list-ref stacks to-i)                          ]\n",
    "         [ stacks (list-set stacks to-i \n",
    "                            (append (strategy (take from n)) to)) ]\n",
    "         [ stacks (list-set stacks from-i (drop from n))          ])\n",
    "    stacks))"
   ]
  },
  {
   "cell_type": "markdown",
   "id": "3bba06fc",
   "metadata": {},
   "source": [
    "And we need to modify the solver to accept a strategy:"
   ]
  },
  {
   "cell_type": "code",
   "execution_count": 17,
   "id": "7e15a7b8",
   "metadata": {},
   "outputs": [
    {
     "data": {
      "text/html": [
       "<code>\"CMZ\"</code>"
      ],
      "text/plain": [
       "\"CMZ\""
      ]
     },
     "execution_count": 17,
     "metadata": {},
     "output_type": "execute_result"
    }
   ],
   "source": [
    "(define (solve strategy)\n",
    "  (let loop ([ stacks stacks ][ commands commands ])\n",
    "    (if (null? commands)\n",
    "        (list->string (map car (cdr stacks)))\n",
    "        (loop (apply move-crates strategy stacks (car commands)) (cdr commands)))))\n",
    "\n",
    "(solve strategy-fofo)"
   ]
  },
  {
   "cell_type": "code",
   "execution_count": 18,
   "id": "d244a628",
   "metadata": {},
   "outputs": [
    {
     "data": {
      "text/html": [
       "<code>\"MCD\"</code>"
      ],
      "text/plain": [
       "\"MCD\""
      ]
     },
     "execution_count": 18,
     "metadata": {},
     "output_type": "execute_result"
    }
   ],
   "source": [
    "(solve strategy-folo)"
   ]
  }
 ],
 "metadata": {
  "kernelspec": {
   "display_name": "Racket",
   "language": "racket",
   "name": "racket"
  },
  "language_info": {
   "codemirror_mode": "scheme",
   "file_extension": ".rkt",
   "mimetype": "text/x-racket",
   "name": "Racket",
   "pygments_lexer": "racket",
   "version": "8.2.0.8"
  }
 },
 "nbformat": 4,
 "nbformat_minor": 5
}
