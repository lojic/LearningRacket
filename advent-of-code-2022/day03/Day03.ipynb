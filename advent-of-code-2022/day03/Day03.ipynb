{
 "cells": [
  {
   "cell_type": "code",
   "execution_count": 1,
   "id": "ae9ad977",
   "metadata": {},
   "outputs": [],
   "source": [
    "#lang iracket/lang #:require racket\n",
    "(require \"../advent.rkt\" threading)"
   ]
  },
  {
   "cell_type": "markdown",
   "id": "bad113ad",
   "metadata": {},
   "source": [
    "## [Day 3](https://adventofcode.com/2022/day/3) - Part 1\n",
    "\n",
    "**Rucksack Reorganization**\n",
    "\n",
    "We're given some sample input:\n",
    "\n",
    "```\n",
    "vJrwpWtwJgWrhcsFMMfFFhFp\n",
    "jqHRNqRjqzjGDLGLrsFMfFZSrLrFZsSL\n",
    "PmmdzqPrVvPwwTWBwg\n",
    "wMqvLMZHhHMvwLHjbvcjnnSBnvTQFn\n",
    "ttgJtRGJQctTZtZT\n",
    "CrZsJsPPZsGzwwsLwLmpwMDw\n",
    "```\n",
    "\n",
    "The first half of each list contains items for one compartment of the backpack, and the second half contains items for the other compartment. Each backpack has, erroneously, one item in both compartments/halves.\n",
    "\n",
    "Lower case items have priorities 1 to 26; upper case items 27 to 52.\n",
    "\n",
    "Find the item type that appears in both compartments of each rucksack. **What is the sum of the priorities of those item types?**"
   ]
  },
  {
   "cell_type": "code",
   "execution_count": 2,
   "id": "bbf936c0",
   "metadata": {
    "scrolled": false
   },
   "outputs": [
    {
     "name": "stdout",
     "output_type": "stream",
     "text": [
      "----------------------------------------------------------------------------------------------------\n",
      "day03.txt -> 9698 chars, 300 lines; first 3 lines; last 2 lines:\n",
      "----------------------------------------------------------------------------------------------------\n",
      "LLBPGtltrGPBMMsLcLMMVMpVRhhfCDTwRwRdTfwDllRRRDhC\n",
      "gNFJHJFgtZFJjZJHNNFWZWZwwDjCwSDhfCDbdwjfwDTTDT\n",
      "gmQNZnZNHWnqmQpLtVLMBsPpBqrL\n",
      "...\n",
      "hMhhDBwMhDDfCRRBjFDDTTWjdWmrmdWqjlmmmjJz\n",
      "RSpSSBhppDhRncRLswZLGvtGvNcNtL\n",
      "----------------------------------------------------------------------------------------------------\n",
      "(parse 3) -> 300 entries:\n",
      "----------------------------------------------------------------------------------------------------\n",
      "((#\\L #\\L #\\B #\\P #\\G #\\t #\\l #\\t #\\r #\\G #\\P #\\B #\\M #\\M #\\s #\\L #\\c # ...  #\\R #\\R #\\R #\\D #\\h #\\C)\n",
      "(#\\g #\\N #\\F #\\J #\\H #\\J #\\F #\\g #\\t #\\Z #\\F #\\J #\\j #\\Z #\\J #\\H #\\N # ...  #\\w #\\D #\\T #\\T #\\D #\\T)\n",
      "...\n",
      "(#\\R #\\S #\\p #\\S #\\S #\\B #\\h #\\p #\\p #\\D #\\h #\\R #\\n #\\c #\\R #\\L #\\s # ...  #\\v #\\N #\\c #\\N #\\t #\\L))\n",
      "----------------------------------------------------------------------------------------------------\n"
     ]
    }
   ],
   "source": [
    "(define in (parse-aoc 3 string->list))"
   ]
  },
  {
   "cell_type": "markdown",
   "id": "a0c2cb08",
   "metadata": {},
   "source": [
    "Parsing gives us a list of characters for each backpack. We'll need to compute the priority of an item:"
   ]
  },
  {
   "cell_type": "code",
   "execution_count": 3,
   "id": "3daa7cfc",
   "metadata": {},
   "outputs": [
    {
     "data": {
      "text/html": [
       "<code>'(3 28)</code>"
      ],
      "text/plain": [
       "'(3 28)"
      ]
     },
     "execution_count": 3,
     "metadata": {},
     "output_type": "execute_result"
    }
   ],
   "source": [
    "(define (priority c)\n",
    "  (let ([ n (char->integer c) ])\n",
    "    (if (> n 96)\n",
    "        (- n 96)    ; Lowercase letter\n",
    "        (- n 38)))) ; Uppercase letter\n",
    "\n",
    "(list (priority #\\c) (priority #\\B))"
   ]
  },
  {
   "cell_type": "markdown",
   "id": "6a715d78",
   "metadata": {},
   "source": [
    "The main part 1 function will split the backpack items into two equal sets, compute the set intersection to find the bogus item, and compute the priority of the item:"
   ]
  },
  {
   "cell_type": "code",
   "execution_count": 4,
   "id": "0c787fe7",
   "metadata": {},
   "outputs": [
    {
     "data": {
      "text/html": [
       "<code>12</code>"
      ],
      "text/plain": [
       "12"
      ]
     },
     "execution_count": 4,
     "metadata": {},
     "output_type": "execute_result"
    }
   ],
   "source": [
    "(define (part1 pack)\n",
    "    (~> (apply set-intersect (split-2 pack))\n",
    "        set-first\n",
    "        priority))\n",
    "  \n",
    "(part1 (first in))"
   ]
  },
  {
   "cell_type": "markdown",
   "id": "e3391b35",
   "metadata": {},
   "source": [
    "To solve part 1, we map the `part1` function over the input, and sum the resulting values."
   ]
  },
  {
   "cell_type": "code",
   "execution_count": 5,
   "id": "1f374505",
   "metadata": {},
   "outputs": [
    {
     "data": {
      "text/html": [
       "<code>7793</code>"
      ],
      "text/plain": [
       "7793"
      ]
     },
     "execution_count": 5,
     "metadata": {},
     "output_type": "execute_result"
    }
   ],
   "source": [
    "(list-sum (map part1 in))"
   ]
  },
  {
   "cell_type": "markdown",
   "id": "b1ffbfae",
   "metadata": {},
   "source": [
    "## Part 2\n",
    "We're told the input has groups of elves, with 3 backpacks per elf. Our task is to find the item that all 3 elves in a group are carrying, compute the priority, and sum the results:"
   ]
  },
  {
   "cell_type": "code",
   "execution_count": 6,
   "id": "730430b1",
   "metadata": {},
   "outputs": [
    {
     "data": {
      "text/html": [
       "<code>20</code>"
      ],
      "text/plain": [
       "20"
      ]
     },
     "execution_count": 6,
     "metadata": {},
     "output_type": "execute_result"
    }
   ],
   "source": [
    "(define (part2 group)\n",
    "  (~> (apply set-intersect group)\n",
    "      set-first\n",
    "      priority))\n",
    "\n",
    "(part2 (list (first in) (second in) (third in)))"
   ]
  },
  {
   "cell_type": "markdown",
   "id": "c2d1bb09",
   "metadata": {},
   "source": [
    "Now we just need to break the input into chunks of 3 lines, map `part2` over the chunks, and sum the results:"
   ]
  },
  {
   "cell_type": "code",
   "execution_count": 7,
   "id": "a2f71c1d",
   "metadata": {},
   "outputs": [
    {
     "data": {
      "text/html": [
       "<code>2499</code>"
      ],
      "text/plain": [
       "2499"
      ]
     },
     "execution_count": 7,
     "metadata": {},
     "output_type": "execute_result"
    }
   ],
   "source": [
    "(~> (chunk 3 in)\n",
    "    (map part2 _)\n",
    "    list-sum)"
   ]
  },
  {
   "cell_type": "markdown",
   "id": "bc81c660",
   "metadata": {},
   "source": [
    "## Refactor\n",
    "Let's refactor using knowledge of both parts. The parts differ in how they transform the input before iterating over it:\n",
    "\n",
    "- Part 1 splits each line into 2 halves\n",
    "- Part 2 forms groups from successive groups of 3 lines of input\n",
    "\n",
    "So, we'll create a common `solve` function parameterized with the part logic:"
   ]
  },
  {
   "cell_type": "code",
   "execution_count": 8,
   "id": "113875f8",
   "metadata": {},
   "outputs": [],
   "source": [
    "(define (solve transform in)\n",
    "  (for/sum ([ group (transform in) ])\n",
    "    (~> (apply set-intersect group)\n",
    "        set-first\n",
    "        priority)))"
   ]
  },
  {
   "cell_type": "markdown",
   "id": "6c839744",
   "metadata": {},
   "source": [
    "Now we just need to invoke the `solve` function with the appropriate higher order function for each part:"
   ]
  },
  {
   "cell_type": "code",
   "execution_count": 9,
   "id": "d9c8b4f3",
   "metadata": {},
   "outputs": [
    {
     "data": {
      "text/html": [
       "<code>7793</code>"
      ],
      "text/plain": [
       "7793"
      ]
     },
     "execution_count": 9,
     "metadata": {},
     "output_type": "execute_result"
    }
   ],
   "source": [
    "(solve (curry map split-2) in) ; Part 1"
   ]
  },
  {
   "cell_type": "code",
   "execution_count": 10,
   "id": "df1b6ccf",
   "metadata": {},
   "outputs": [
    {
     "data": {
      "text/html": [
       "<code>2499</code>"
      ],
      "text/plain": [
       "2499"
      ]
     },
     "execution_count": 10,
     "metadata": {},
     "output_type": "execute_result"
    }
   ],
   "source": [
    "(solve (curry chunk 3) in)     ; Part 2"
   ]
  }
 ],
 "metadata": {
  "kernelspec": {
   "display_name": "Racket",
   "language": "racket",
   "name": "racket"
  },
  "language_info": {
   "codemirror_mode": "scheme",
   "file_extension": ".rkt",
   "mimetype": "text/x-racket",
   "name": "Racket",
   "pygments_lexer": "racket",
   "version": "8.2.0.8"
  }
 },
 "nbformat": 4,
 "nbformat_minor": 5
}
