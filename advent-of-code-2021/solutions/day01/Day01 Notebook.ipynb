{
 "cells": [
  {
   "cell_type": "markdown",
   "id": "11c8b79b",
   "metadata": {},
   "source": [
    "Advent of Code 2021 - Day 1\n",
    "\n",
    "This version uses ideas I gleaned from other solutions.\n",
    "\n",
    "First, let's import some support code."
   ]
  },
  {
   "cell_type": "code",
   "execution_count": 1,
   "id": "1d86b6b3",
   "metadata": {},
   "outputs": [],
   "source": [
    "(require \"../../advent/advent.rkt\"\n",
    "         racket/file\n",
    "         racket/list)"
   ]
  },
  {
   "cell_type": "markdown",
   "id": "506c8701",
   "metadata": {},
   "source": [
    "Parse the input into a list of numbers."
   ]
  },
  {
   "cell_type": "code",
   "execution_count": 2,
   "id": "4559c7ea",
   "metadata": {},
   "outputs": [],
   "source": [
    "(define input (file->list \"day01.txt\"))"
   ]
  },
  {
   "cell_type": "markdown",
   "id": "25df6684",
   "metadata": {},
   "source": [
    "Define a function to count the number of occurrences\n",
    "when a number is greater than the preceding number."
   ]
  },
  {
   "cell_type": "code",
   "execution_count": 3,
   "id": "74b4bb82",
   "metadata": {},
   "outputs": [],
   "source": [
    "(define (count-increases lst) \n",
    "  (count (λ (pair) \n",
    "            (> (second pair) (first pair))) \n",
    "         (zipn lst (cdr lst))))"
   ]
  },
  {
   "cell_type": "markdown",
   "id": "ecc59352",
   "metadata": {},
   "source": [
    "Let's try it out:"
   ]
  },
  {
   "cell_type": "code",
   "execution_count": 4,
   "id": "baace641",
   "metadata": {},
   "outputs": [
    {
     "data": {
      "text/html": [
       "<code>3</code>"
      ],
      "text/plain": [
       "3"
      ]
     },
     "execution_count": 4,
     "metadata": {},
     "output_type": "execute_result"
    }
   ],
   "source": [
    "(count-increases '(1 3 2 2 4 8 7))"
   ]
  },
  {
   "cell_type": "markdown",
   "id": "be6f495c",
   "metadata": {},
   "source": [
    "Define a function to break a list of numbers into tuples using a sliding\n",
    "window of length 3"
   ]
  },
  {
   "cell_type": "code",
   "execution_count": 5,
   "id": "70744d64",
   "metadata": {},
   "outputs": [],
   "source": [
    "(define (windows-3 lst)\n",
    "  (zipn lst (cdr lst) (cddr lst)))"
   ]
  },
  {
   "cell_type": "markdown",
   "id": "8f8d0b50",
   "metadata": {},
   "source": [
    "Let's try it out:"
   ]
  },
  {
   "cell_type": "code",
   "execution_count": 6,
   "id": "1e5f98f9",
   "metadata": {},
   "outputs": [
    {
     "data": {
      "text/html": [
       "<code>'((1 2 3) (2 3 4) (3 4 5) (4 5 6) (5 6 7) (6 7 8))</code>"
      ],
      "text/plain": [
       "'((1 2 3) (2 3 4) (3 4 5) (4 5 6) (5 6 7) (6 7 8))"
      ]
     },
     "execution_count": 6,
     "metadata": {},
     "output_type": "execute_result"
    }
   ],
   "source": [
    "(define example-list '(1 2 3 4 5 6 7 8))\n",
    "(windows-3 example-list)"
   ]
  },
  {
   "cell_type": "markdown",
   "id": "0ede05b4",
   "metadata": {},
   "source": [
    "Later, for part 2, we'll need to create a list of the \n",
    "sums of all those tuples. For example:"
   ]
  },
  {
   "cell_type": "code",
   "execution_count": 7,
   "id": "05f5b198",
   "metadata": {},
   "outputs": [
    {
     "data": {
      "text/html": [
       "<code>'(6 9 12 15 18 21)</code>"
      ],
      "text/plain": [
       "'(6 9 12 15 18 21)"
      ]
     },
     "execution_count": 7,
     "metadata": {},
     "output_type": "execute_result"
    }
   ],
   "source": [
    "(map sum (windows-3 example-list))"
   ]
  },
  {
   "cell_type": "markdown",
   "id": "4f5bb9e5",
   "metadata": {},
   "source": [
    "Part 1 simply counts the number of times a number is greater\n",
    "than the preceding number in the original input:"
   ]
  },
  {
   "cell_type": "code",
   "execution_count": 8,
   "id": "b2b6f18f",
   "metadata": {},
   "outputs": [
    {
     "data": {
      "text/html": [
       "<code>1616</code>"
      ],
      "text/plain": [
       "1616"
      ]
     },
     "execution_count": 8,
     "metadata": {},
     "output_type": "execute_result"
    }
   ],
   "source": [
    "(define (part1)\n",
    "  (count-increases input))\n",
    "\n",
    "(part1)"
   ]
  },
  {
   "cell_type": "markdown",
   "id": "ff3f30c5",
   "metadata": {},
   "source": [
    "Part 2 is similar, but instead of the original input, it creates a new\n",
    "list of the sums of the sliding windows. For example:\n",
    "(<sum of 1st, 2nd & 3rd numbers> <sum of 2nd, 3rd & 4th numbers> etc. )"
   ]
  },
  {
   "cell_type": "code",
   "execution_count": 9,
   "id": "fd658c27",
   "metadata": {},
   "outputs": [
    {
     "data": {
      "text/html": [
       "<code>1645</code>"
      ],
      "text/plain": [
       "1645"
      ]
     },
     "execution_count": 9,
     "metadata": {},
     "output_type": "execute_result"
    }
   ],
   "source": [
    "(define (part2)\n",
    "  (count-increases (map sum (windows-3 input))))\n",
    "\n",
    "(part2)"
   ]
  }
 ],
 "metadata": {
  "kernelspec": {
   "display_name": "Racket",
   "language": "racket",
   "name": "racket"
  },
  "language_info": {
   "codemirror_mode": "scheme",
   "file_extension": ".rkt",
   "mimetype": "text/x-racket",
   "name": "Racket",
   "pygments_lexer": "racket",
   "version": "8.2.0.8"
  }
 },
 "nbformat": 4,
 "nbformat_minor": 5
}
